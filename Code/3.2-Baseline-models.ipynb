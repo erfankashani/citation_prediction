{
 "cells": [
  {
   "cell_type": "markdown",
   "id": "vanilla-specialist",
   "metadata": {},
   "source": [
    "# Baseline Models"
   ]
  },
  {
   "cell_type": "markdown",
   "id": "applicable-reasoning",
   "metadata": {},
   "source": [
    "#### Add libraries"
   ]
  },
  {
   "cell_type": "code",
   "execution_count": null,
   "id": "adult-boating",
   "metadata": {},
   "outputs": [],
   "source": [
    "import numpy as np\n",
    "import matplotlib.pyplot as plt\n",
    "import pandas as pd\n",
    "import ast\n",
    "import seaborn as sns\n",
    "from statistics import mean\n",
    "from sklearn.ensemble import RandomForestRegressor"
   ]
  },
  {
   "cell_type": "markdown",
   "id": "devoted-alloy",
   "metadata": {},
   "source": [
    "#### Add the database 2005-2010"
   ]
  },
  {
   "cell_type": "code",
   "execution_count": null,
   "id": "emotional-civilian",
   "metadata": {},
   "outputs": [],
   "source": [
    "# Data for 2005 to 2010 \n",
    "dataset = pd.read_csv('../Data/features_2005_2010_new.csv')\n",
    "dataset.head()\n",
    "dataset.info()"
   ]
  },
  {
   "cell_type": "code",
   "execution_count": null,
   "id": "certain-keyboard",
   "metadata": {},
   "outputs": [],
   "source": [
    "# Data for 2010 to extract the paper ids from year 2010\n",
    "id_2010 = pd.read_csv('../Data/papers2010.csv')\n",
    "id_2010.head()"
   ]
  },
  {
   "cell_type": "code",
   "execution_count": null,
   "id": "similar-viking",
   "metadata": {},
   "outputs": [],
   "source": [
    "# Split data for train and test \n",
    "ids = id_2010['id'].tolist() \n",
    "train = dataset[dataset['id'].isin(ids) == False]\n",
    "test = dataset[dataset['id'].isin(ids)]\n",
    "train.info()"
   ]
  },
  {
   "cell_type": "code",
   "execution_count": null,
   "id": "devoted-cross",
   "metadata": {},
   "outputs": [],
   "source": [
    "# Set ytrain and Xtrain\n",
    "y_train_1yr = train.iloc[:,12]\n",
    "y_train_2yr = train.iloc[:,13]\n",
    "y_train_5yr = train.iloc[:,14]\n",
    "y_train_10yr = train.iloc[:,15]\n",
    "\n",
    "X_train = train.iloc[:,2:12]\n",
    "print(y_train_5yr)\n",
    "X_train.head()"
   ]
  },
  {
   "cell_type": "code",
   "execution_count": null,
   "id": "split-purchase",
   "metadata": {},
   "outputs": [],
   "source": [
    "test.info()"
   ]
  },
  {
   "cell_type": "code",
   "execution_count": null,
   "id": "talented-merit",
   "metadata": {},
   "outputs": [],
   "source": [
    "# Set ytest and Xtest\n",
    "y_test_1yr = test.iloc[:,12]\n",
    "y_test_2yr = test.iloc[:,13]\n",
    "y_test_5yr = test.iloc[:,14]\n",
    "y_test_10yr = test.iloc[:,15]\n",
    "\n",
    "X_test = test.iloc[:,2:12]\n",
    "print(y_test_5yr)\n",
    "X_test.head()"
   ]
  },
  {
   "cell_type": "markdown",
   "id": "mighty-sherman",
   "metadata": {},
   "source": [
    "#### Check the length of training-set vs. testing-set"
   ]
  },
  {
   "cell_type": "code",
   "execution_count": null,
   "id": "vanilla-foster",
   "metadata": {},
   "outputs": [],
   "source": [
    "print(\"dataset length:\", len(dataset))\n",
    "print(\"trainset length:\", len(train))\n",
    "print(\"testset length:\", len(test))\n",
    "train.describe()"
   ]
  },
  {
   "cell_type": "markdown",
   "id": "scenic-atlanta",
   "metadata": {},
   "source": [
    "# Model Prediction"
   ]
  },
  {
   "cell_type": "markdown",
   "id": "tracked-jewel",
   "metadata": {},
   "source": [
    "#### Linear Regression"
   ]
  },
  {
   "cell_type": "code",
   "execution_count": null,
   "id": "bored-certificate",
   "metadata": {},
   "outputs": [],
   "source": [
    "from sklearn.linear_model import LinearRegression"
   ]
  },
  {
   "cell_type": "code",
   "execution_count": null,
   "id": "legitimate-hammer",
   "metadata": {},
   "outputs": [],
   "source": [
    "def train_and_Predict_linear_regression(X_train, y_train, X_test):\n",
    "    regressor = LinearRegression()\n",
    "    regressor.fit(X_train, y_train)\n",
    "    y_predict = regressor.predict(X_test)\n",
    "    return y_predict"
   ]
  },
  {
   "cell_type": "code",
   "execution_count": null,
   "id": "great-savage",
   "metadata": {},
   "outputs": [],
   "source": [
    "y_predict_1yr_lr = train_and_Predict_linear_regression(X_train, y_train_1yr, X_test)\n",
    "y_predict_2yr_lr = train_and_Predict_linear_regression(X_train, y_train_2yr, X_test)\n",
    "y_predict_5yr_lr = train_and_Predict_linear_regression(X_train, y_train_5yr, X_test)\n",
    "y_predict_10yr_lr = train_and_Predict_linear_regression(X_train, y_train_10yr, X_test)"
   ]
  },
  {
   "cell_type": "code",
   "execution_count": null,
   "id": "presidential-mechanics",
   "metadata": {},
   "outputs": [],
   "source": [
    "from sklearn import metrics\n",
    "from sklearn.metrics import r2_score\n",
    "\n",
    "print(\"Results for 1 year prediction:\")\n",
    "print(\"R squared:\", r2_score(y_test_1yr, y_predict_1yr_lr))\n",
    "print('Mean Absolute Error:', metrics.mean_absolute_error(y_test_1yr, y_predict_1yr_lr))\n",
    "print('Mean Squared Error:', metrics.mean_squared_error(y_test_1yr, y_predict_1yr_lr))\n",
    "print('Root Mean Squared Error:', np.sqrt(metrics.mean_squared_error(y_test_1yr, y_predict_1yr_lr)))\n",
    "print('----------------------------------------')\n",
    "\n",
    "print(\"Results for 2 year prediction:\")\n",
    "print(\"R squared:\", r2_score(y_test_2yr, y_predict_2yr_lr))\n",
    "print('Mean Absolute Error:', metrics.mean_absolute_error(y_test_2yr, y_predict_2yr_lr))\n",
    "print('Mean Squared Error:', metrics.mean_squared_error(y_test_2yr, y_predict_2yr_lr))\n",
    "print('Root Mean Squared Error:', np.sqrt(metrics.mean_squared_error(y_test_2yr, y_predict_2yr_lr)))\n",
    "print('----------------------------------------')\n",
    "\n",
    "print(\"Results for 5 year prediction:\")\n",
    "print(\"R squared:\", r2_score(y_test_5yr, y_predict_5yr_lr))\n",
    "print('Mean Absolute Error:', metrics.mean_absolute_error(y_test_5yr, y_predict_5yr_lr))\n",
    "print('Mean Squared Error:', metrics.mean_squared_error(y_test_5yr, y_predict_5yr_lr))\n",
    "print('Root Mean Squared Error:', np.sqrt(metrics.mean_squared_error(y_test_5yr, y_predict_5yr_lr)))\n",
    "print('----------------------------------------')\n",
    "\n",
    "print(\"Results for 10 year prediction:\")\n",
    "print(\"R squared:\", r2_score(y_test_10yr, y_predict_10yr_lr))\n",
    "print('Mean Absolute Error:', metrics.mean_absolute_error(y_test_10yr, y_predict_10yr_lr))\n",
    "print('Mean Squared Error:', metrics.mean_squared_error(y_test_10yr, y_predict_10yr_lr))\n",
    "print('Root Mean Squared Error:', np.sqrt(metrics.mean_squared_error(y_test_10yr, y_predict_10yr_lr)))"
   ]
  },
  {
   "cell_type": "markdown",
   "id": "radio-imaging",
   "metadata": {},
   "source": [
    "#### SVM Model"
   ]
  },
  {
   "cell_type": "code",
   "execution_count": null,
   "id": "danish-retrieval",
   "metadata": {},
   "outputs": [],
   "source": [
    "from sklearn.svm import SVR\n",
    "from sklearn.svm import LinearSVR\n",
    "from sklearn.pipeline import make_pipeline\n",
    "from sklearn.preprocessing import StandardScaler"
   ]
  },
  {
   "cell_type": "code",
   "execution_count": null,
   "id": "invalid-plumbing",
   "metadata": {},
   "outputs": [],
   "source": [
    "def train_and_Predict_svm(X_train, y_train, X_test):\n",
    "    regressor = SVR(kernel='poly', C=1e3, degree=2)\n",
    "    regressor.fit(X_train, y_train)\n",
    "    y_predict = regressor.predict(X_test)\n",
    "    return y_predict"
   ]
  },
  {
   "cell_type": "code",
   "execution_count": null,
   "id": "greek-anderson",
   "metadata": {},
   "outputs": [],
   "source": [
    "def train_and_Predict_svm(X_train, y_train, X_test):\n",
    "    regressor = make_pipeline(StandardScaler(), LinearSVR(random_state=0, tol=1e-5, dual = True, max_iter = 2000))\n",
    "    regressor.fit(X_train, y_train)\n",
    "    y_predict = regressor.predict(X_test)\n",
    "    return y_predict"
   ]
  },
  {
   "cell_type": "code",
   "execution_count": null,
   "id": "backed-present",
   "metadata": {},
   "outputs": [],
   "source": [
    "y_predict_1yr_svm = train_and_Predict_svm(X_train, y_train_1yr, X_test)\n",
    "y_predict_2yr_svm = train_and_Predict_svm(X_train, y_train_2yr, X_test)\n",
    "y_predict_5yr_svm = train_and_Predict_svm(X_train, y_train_5yr, X_test)\n",
    "y_predict_10yr_svm = train_and_Predict_svm(X_train, y_train_10yr, X_test)"
   ]
  },
  {
   "cell_type": "code",
   "execution_count": null,
   "id": "three-china",
   "metadata": {},
   "outputs": [],
   "source": [
    "from sklearn import metrics\n",
    "from sklearn.metrics import r2_score\n",
    "\n",
    "print(\"Results for 1 year prediction:\")\n",
    "print(\"R squared:\", r2_score(y_test_1yr, y_predict_1yr_svm))\n",
    "print('Mean Absolute Error:', metrics.mean_absolute_error(y_test_1yr, y_predict_1yr_svm))\n",
    "print('Mean Squared Error:', metrics.mean_squared_error(y_test_1yr, y_predict_1yr_svm))\n",
    "print('Root Mean Squared Error:', np.sqrt(metrics.mean_squared_error(y_test_1yr, y_predict_1yr_svm)))\n",
    "print('----------------------------------------')\n",
    "\n",
    "print(\"Results for 2 year prediction:\")\n",
    "print(\"R squared:\", r2_score(y_test_2yr, y_predict_2yr_svm))\n",
    "print('Mean Absolute Error:', metrics.mean_absolute_error(y_test_2yr, y_predict_2yr_svm))\n",
    "print('Mean Squared Error:', metrics.mean_squared_error(y_test_2yr, y_predict_2yr_svm))\n",
    "print('Root Mean Squared Error:', np.sqrt(metrics.mean_squared_error(y_test_2yr, y_predict_2yr_svm)))\n",
    "print('----------------------------------------')\n",
    "\n",
    "print(\"Results for 5 year prediction:\")\n",
    "print(\"R squared:\", r2_score(y_test_5yr, y_predict_5yr_svm))\n",
    "print('Mean Absolute Error:', metrics.mean_absolute_error(y_test_5yr, y_predict_5yr_svm))\n",
    "print('Mean Squared Error:', metrics.mean_squared_error(y_test_5yr, y_predict_5yr_svm))\n",
    "print('Root Mean Squared Error:', np.sqrt(metrics.mean_squared_error(y_test_5yr, y_predict_5yr_svm)))\n",
    "print('----------------------------------------')\n",
    "\n",
    "print(\"Results for 10 year prediction:\")\n",
    "print(\"R squared:\", r2_score(y_test_10yr, y_predict_10yr_svm))\n",
    "print('Mean Absolute Error:', metrics.mean_absolute_error(y_test_10yr, y_predict_10yr_svm))\n",
    "print('Mean Squared Error:', metrics.mean_squared_error(y_test_10yr, y_predict_10yr_svm))\n",
    "print('Root Mean Squared Error:', np.sqrt(metrics.mean_squared_error(y_test_10yr, y_predict_10yr_svm)))"
   ]
  },
  {
   "cell_type": "markdown",
   "id": "level-there",
   "metadata": {},
   "source": [
    "#### KNN"
   ]
  },
  {
   "cell_type": "code",
   "execution_count": null,
   "id": "clear-reset",
   "metadata": {},
   "outputs": [],
   "source": [
    "from sklearn.neighbors import KNeighborsRegressor"
   ]
  },
  {
   "cell_type": "code",
   "execution_count": null,
   "id": "continued-criticism",
   "metadata": {},
   "outputs": [],
   "source": [
    "def train_and_Predict_k_mean(X_train, y_train, X_test):\n",
    "    regressor = KNeighborsRegressor(n_neighbors=5)\n",
    "    regressor.fit(X_train, y_train)\n",
    "    y_predict = regressor.predict(X_test)\n",
    "    return y_predict"
   ]
  },
  {
   "cell_type": "code",
   "execution_count": null,
   "id": "rural-tissue",
   "metadata": {},
   "outputs": [],
   "source": [
    "y_predict_1yr_km = train_and_Predict_k_mean(X_train, y_train_1yr, X_test)\n",
    "y_predict_2yr_km = train_and_Predict_k_mean(X_train, y_train_2yr, X_test)\n",
    "y_predict_5yr_km = train_and_Predict_k_mean(X_train, y_train_5yr, X_test)\n",
    "y_predict_10yr_km = train_and_Predict_k_mean(X_train, y_train_10yr, X_test)"
   ]
  },
  {
   "cell_type": "code",
   "execution_count": null,
   "id": "regulated-stage",
   "metadata": {},
   "outputs": [],
   "source": [
    "from sklearn import metrics\n",
    "from sklearn.metrics import r2_score\n",
    "\n",
    "print(\"Results for 1 year prediction:\")\n",
    "print(\"R squared:\", r2_score(y_test_1yr, y_predict_1yr_km))\n",
    "print('Mean Absolute Error:', metrics.mean_absolute_error(y_test_1yr, y_predict_1yr_km))\n",
    "print('Mean Squared Error:', metrics.mean_squared_error(y_test_1yr, y_predict_1yr_km))\n",
    "print('Root Mean Squared Error:', np.sqrt(metrics.mean_squared_error(y_test_1yr, y_predict_1yr_km)))\n",
    "print('----------------------------------------')\n",
    "\n",
    "print(\"Results for 2 year prediction:\")\n",
    "print(\"R squared:\", r2_score(y_test_2yr, y_predict_2yr_km))\n",
    "print('Mean Absolute Error:', metrics.mean_absolute_error(y_test_2yr, y_predict_2yr_km))\n",
    "print('Mean Squared Error:', metrics.mean_squared_error(y_test_2yr, y_predict_2yr_km))\n",
    "print('Root Mean Squared Error:', np.sqrt(metrics.mean_squared_error(y_test_2yr, y_predict_2yr_km)))\n",
    "print('----------------------------------------')\n",
    "\n",
    "print(\"Results for 5 year prediction:\")\n",
    "print(\"R squared:\", r2_score(y_test_5yr, y_predict_5yr_km))\n",
    "print('Mean Absolute Error:', metrics.mean_absolute_error(y_test_5yr, y_predict_5yr_km))\n",
    "print('Mean Squared Error:', metrics.mean_squared_error(y_test_5yr, y_predict_5yr_km))\n",
    "print('Root Mean Squared Error:', np.sqrt(metrics.mean_squared_error(y_test_5yr, y_predict_5yr_km)))\n",
    "print('----------------------------------------')\n",
    "\n",
    "print(\"Results for 10 year prediction:\")\n",
    "print(\"R squared:\", r2_score(y_test_10yr, y_predict_10yr_km))\n",
    "print('Mean Absolute Error:', metrics.mean_absolute_error(y_test_10yr, y_predict_10yr_km))\n",
    "print('Mean Squared Error:', metrics.mean_squared_error(y_test_10yr, y_predict_10yr_km))\n",
    "print('Root Mean Squared Error:', np.sqrt(metrics.mean_squared_error(y_test_10yr, y_predict_10yr_km)))"
   ]
  }
 ],
 "metadata": {
  "kernelspec": {
   "display_name": "Python 3",
   "language": "python",
   "name": "python3"
  },
  "language_info": {
   "codemirror_mode": {
    "name": "ipython",
    "version": 3
   },
   "file_extension": ".py",
   "mimetype": "text/x-python",
   "name": "python",
   "nbconvert_exporter": "python",
   "pygments_lexer": "ipython3",
   "version": "3.8.3"
  }
 },
 "nbformat": 4,
 "nbformat_minor": 5
}
