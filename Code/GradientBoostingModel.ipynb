{
 "cells": [
  {
   "cell_type": "code",
   "execution_count": 23,
   "metadata": {
    "id": "elcGHU_bb19u"
   },
   "outputs": [],
   "source": [
    "import pandas as pd\n",
    "import numpy as np\n",
    "from sklearn.model_selection import train_test_split\n",
    "import matplotlib.pyplot as plt\n",
    "import ast\n",
    "import seaborn as sns\n",
    "from sklearn import metrics\n",
    "from statistics import mean\n",
    "from sklearn.experimental import enable_hist_gradient_boosting\n",
    "from sklearn.ensemble import HistGradientBoostingRegressor\n",
    "from sklearn.model_selection import GridSearchCV , RepeatedStratifiedKFold , cross_val_predict, cross_val_score\n",
    "from sklearn.metrics import r2_score, confusion_matrix, accuracy_score, mean_absolute_error, mean_squared_error, median_absolute_error"
   ]
  },
  {
   "cell_type": "code",
   "execution_count": 24,
   "metadata": {},
   "outputs": [
    {
     "name": "stdout",
     "output_type": "stream",
     "text": [
      "<class 'pandas.core.frame.DataFrame'>\n",
      "RangeIndex: 1140720 entries, 0 to 1140719\n",
      "Data columns (total 18 columns):\n",
      " #   Column         Non-Null Count    Dtype  \n",
      "---  ------         --------------    -----  \n",
      " 0   Unnamed: 0     1140720 non-null  int64  \n",
      " 1   id             1140720 non-null  int64  \n",
      " 2   diversity      1140720 non-null  float64\n",
      " 3   venue_rank     1140720 non-null  float64\n",
      " 4   venue_MPI      1140720 non-null  float64\n",
      " 5   venue_TPI      1140720 non-null  float64\n",
      " 6   productivity   1140720 non-null  float64\n",
      " 7   H_index        1140720 non-null  float64\n",
      " 8   author_rank    1140720 non-null  float64\n",
      " 9   author_MPI     1140720 non-null  float64\n",
      " 10  author_TPI     1140720 non-null  float64\n",
      " 11  versatility    1140720 non-null  float64\n",
      " 12  citation_1yr   1140720 non-null  float64\n",
      " 13  citation_2yr   1140720 non-null  float64\n",
      " 14  citation_5yr   1140720 non-null  float64\n",
      " 15  citation_10yr  1140720 non-null  float64\n",
      " 16  n_citation     1140720 non-null  int64  \n",
      " 17  citation       1140720 non-null  float64\n",
      "dtypes: float64(15), int64(3)\n",
      "memory usage: 156.7 MB\n"
     ]
    }
   ],
   "source": [
    "# Data for 2005 to 2010 \n",
    "dataset = pd.read_csv('../Data/features_2005_2010_new.csv')\n",
    "dataset.head()\n",
    "dataset.info()"
   ]
  },
  {
   "cell_type": "code",
   "execution_count": 25,
   "metadata": {},
   "outputs": [
    {
     "data": {
      "text/html": [
       "<div>\n",
       "<style scoped>\n",
       "    .dataframe tbody tr th:only-of-type {\n",
       "        vertical-align: middle;\n",
       "    }\n",
       "\n",
       "    .dataframe tbody tr th {\n",
       "        vertical-align: top;\n",
       "    }\n",
       "\n",
       "    .dataframe thead th {\n",
       "        text-align: right;\n",
       "    }\n",
       "</style>\n",
       "<table border=\"1\" class=\"dataframe\">\n",
       "  <thead>\n",
       "    <tr style=\"text-align: right;\">\n",
       "      <th></th>\n",
       "      <th>Unnamed: 0</th>\n",
       "      <th>id</th>\n",
       "      <th>authors</th>\n",
       "      <th>title</th>\n",
       "      <th>year</th>\n",
       "      <th>n_citation</th>\n",
       "      <th>references</th>\n",
       "      <th>fos</th>\n",
       "      <th>venue</th>\n",
       "    </tr>\n",
       "  </thead>\n",
       "  <tbody>\n",
       "    <tr>\n",
       "      <th>0</th>\n",
       "      <td>0</td>\n",
       "      <td>117599</td>\n",
       "      <td>[{'name': 'Horacio Saggion', 'org': 'Universit...</td>\n",
       "      <td>Inserting rhetorical predicates for quasi-abst...</td>\n",
       "      <td>2010</td>\n",
       "      <td>1</td>\n",
       "      <td>[4508078, 2082416349, 2101390659, 2169546346, ...</td>\n",
       "      <td>[{'name': 'Multi-document summarization', 'w':...</td>\n",
       "      <td>{'raw': \"RIAO '10 Adaptivity, Personalization ...</td>\n",
       "    </tr>\n",
       "    <tr>\n",
       "      <th>1</th>\n",
       "      <td>1</td>\n",
       "      <td>133010</td>\n",
       "      <td>[{'name': 'Vadim Ermolayev', 'org': 'Cadence D...</td>\n",
       "      <td>Articulation and Sharing of Distributed Design...</td>\n",
       "      <td>2010</td>\n",
       "      <td>2</td>\n",
       "      <td>[53456027, 63764177, 99644187, 103455988, 1067...</td>\n",
       "      <td>[{'name': 'Project plan', 'w': 0.63773}, {'nam...</td>\n",
       "      <td>{'raw': 'IDC'}</td>\n",
       "    </tr>\n",
       "    <tr>\n",
       "      <th>2</th>\n",
       "      <td>2</td>\n",
       "      <td>182605</td>\n",
       "      <td>[{'name': 'Rohit Kumar', 'org': 'Carnegie Mell...</td>\n",
       "      <td>Engaging learning groups using Social Interact...</td>\n",
       "      <td>2010</td>\n",
       "      <td>2</td>\n",
       "      <td>[1510324139, 1980982162, 2101963588, 212166507...</td>\n",
       "      <td>[{'name': 'Social relation', 'w': 0.47114}, {'...</td>\n",
       "      <td>{'raw': 'North American Chapter of the Associa...</td>\n",
       "    </tr>\n",
       "    <tr>\n",
       "      <th>3</th>\n",
       "      <td>3</td>\n",
       "      <td>192912</td>\n",
       "      <td>[{'name': 'Prokopios Drogkaris', 'org': 'Labor...</td>\n",
       "      <td>Attaching multiple personal identifiers in X.5...</td>\n",
       "      <td>2010</td>\n",
       "      <td>0</td>\n",
       "      <td>[1660562555, 2088103037, 2092374634, 224378568...</td>\n",
       "      <td>[{'name': 'Internet privacy', 'w': 0.46058}, {...</td>\n",
       "      <td>{'raw': 'European Public Key Infrastructure Wo...</td>\n",
       "    </tr>\n",
       "    <tr>\n",
       "      <th>4</th>\n",
       "      <td>4</td>\n",
       "      <td>215073</td>\n",
       "      <td>[{'name': 'Chunfeng Liu', 'org': 'Hebei Polyte...</td>\n",
       "      <td>Research on a Class of Ordinary Differential E...</td>\n",
       "      <td>2010</td>\n",
       "      <td>0</td>\n",
       "      <td>NaN</td>\n",
       "      <td>[{'name': 'Slag', 'w': 0.42915}, {'name': 'Run...</td>\n",
       "      <td>{'raw': 'international conference on Informati...</td>\n",
       "    </tr>\n",
       "  </tbody>\n",
       "</table>\n",
       "</div>"
      ],
      "text/plain": [
       "   Unnamed: 0      id                                            authors  \\\n",
       "0           0  117599  [{'name': 'Horacio Saggion', 'org': 'Universit...   \n",
       "1           1  133010  [{'name': 'Vadim Ermolayev', 'org': 'Cadence D...   \n",
       "2           2  182605  [{'name': 'Rohit Kumar', 'org': 'Carnegie Mell...   \n",
       "3           3  192912  [{'name': 'Prokopios Drogkaris', 'org': 'Labor...   \n",
       "4           4  215073  [{'name': 'Chunfeng Liu', 'org': 'Hebei Polyte...   \n",
       "\n",
       "                                               title  year  n_citation  \\\n",
       "0  Inserting rhetorical predicates for quasi-abst...  2010           1   \n",
       "1  Articulation and Sharing of Distributed Design...  2010           2   \n",
       "2  Engaging learning groups using Social Interact...  2010           2   \n",
       "3  Attaching multiple personal identifiers in X.5...  2010           0   \n",
       "4  Research on a Class of Ordinary Differential E...  2010           0   \n",
       "\n",
       "                                          references  \\\n",
       "0  [4508078, 2082416349, 2101390659, 2169546346, ...   \n",
       "1  [53456027, 63764177, 99644187, 103455988, 1067...   \n",
       "2  [1510324139, 1980982162, 2101963588, 212166507...   \n",
       "3  [1660562555, 2088103037, 2092374634, 224378568...   \n",
       "4                                                NaN   \n",
       "\n",
       "                                                 fos  \\\n",
       "0  [{'name': 'Multi-document summarization', 'w':...   \n",
       "1  [{'name': 'Project plan', 'w': 0.63773}, {'nam...   \n",
       "2  [{'name': 'Social relation', 'w': 0.47114}, {'...   \n",
       "3  [{'name': 'Internet privacy', 'w': 0.46058}, {...   \n",
       "4  [{'name': 'Slag', 'w': 0.42915}, {'name': 'Run...   \n",
       "\n",
       "                                               venue  \n",
       "0  {'raw': \"RIAO '10 Adaptivity, Personalization ...  \n",
       "1                                     {'raw': 'IDC'}  \n",
       "2  {'raw': 'North American Chapter of the Associa...  \n",
       "3  {'raw': 'European Public Key Infrastructure Wo...  \n",
       "4  {'raw': 'international conference on Informati...  "
      ]
     },
     "execution_count": 25,
     "metadata": {},
     "output_type": "execute_result"
    }
   ],
   "source": [
    "# Data for 2010 to extract the paper ids from year 2010\n",
    "id_2010 = pd.read_csv('../Data/papers2010.csv')\n",
    "id_2010.head()"
   ]
  },
  {
   "cell_type": "code",
   "execution_count": 26,
   "metadata": {},
   "outputs": [
    {
     "name": "stdout",
     "output_type": "stream",
     "text": [
      "<class 'pandas.core.frame.DataFrame'>\n",
      "Int64Index: 919995 entries, 0 to 1140719\n",
      "Data columns (total 18 columns):\n",
      " #   Column         Non-Null Count   Dtype  \n",
      "---  ------         --------------   -----  \n",
      " 0   Unnamed: 0     919995 non-null  int64  \n",
      " 1   id             919995 non-null  int64  \n",
      " 2   diversity      919995 non-null  float64\n",
      " 3   venue_rank     919995 non-null  float64\n",
      " 4   venue_MPI      919995 non-null  float64\n",
      " 5   venue_TPI      919995 non-null  float64\n",
      " 6   productivity   919995 non-null  float64\n",
      " 7   H_index        919995 non-null  float64\n",
      " 8   author_rank    919995 non-null  float64\n",
      " 9   author_MPI     919995 non-null  float64\n",
      " 10  author_TPI     919995 non-null  float64\n",
      " 11  versatility    919995 non-null  float64\n",
      " 12  citation_1yr   919995 non-null  float64\n",
      " 13  citation_2yr   919995 non-null  float64\n",
      " 14  citation_5yr   919995 non-null  float64\n",
      " 15  citation_10yr  919995 non-null  float64\n",
      " 16  n_citation     919995 non-null  int64  \n",
      " 17  citation       919995 non-null  float64\n",
      "dtypes: float64(15), int64(3)\n",
      "memory usage: 133.4 MB\n"
     ]
    }
   ],
   "source": [
    "# Split data for train and test \n",
    "ids = id_2010['id'].tolist() \n",
    "train = dataset[dataset['id'].isin(ids) == False]\n",
    "test = dataset[dataset['id'].isin(ids)]\n",
    "train.info()"
   ]
  },
  {
   "cell_type": "code",
   "execution_count": 27,
   "metadata": {},
   "outputs": [
    {
     "name": "stdout",
     "output_type": "stream",
     "text": [
      "0          0.0\n",
      "1          0.0\n",
      "2          0.0\n",
      "3          0.0\n",
      "4          0.0\n",
      "          ... \n",
      "1140715    0.0\n",
      "1140716    0.0\n",
      "1140717    0.0\n",
      "1140718    0.0\n",
      "1140719    0.0\n",
      "Name: citation_5yr, Length: 919995, dtype: float64\n"
     ]
    },
    {
     "data": {
      "text/html": [
       "<div>\n",
       "<style scoped>\n",
       "    .dataframe tbody tr th:only-of-type {\n",
       "        vertical-align: middle;\n",
       "    }\n",
       "\n",
       "    .dataframe tbody tr th {\n",
       "        vertical-align: top;\n",
       "    }\n",
       "\n",
       "    .dataframe thead th {\n",
       "        text-align: right;\n",
       "    }\n",
       "</style>\n",
       "<table border=\"1\" class=\"dataframe\">\n",
       "  <thead>\n",
       "    <tr style=\"text-align: right;\">\n",
       "      <th></th>\n",
       "      <th>diversity</th>\n",
       "      <th>venue_rank</th>\n",
       "      <th>venue_MPI</th>\n",
       "      <th>venue_TPI</th>\n",
       "      <th>productivity</th>\n",
       "      <th>H_index</th>\n",
       "      <th>author_rank</th>\n",
       "      <th>author_MPI</th>\n",
       "      <th>author_TPI</th>\n",
       "      <th>versatility</th>\n",
       "    </tr>\n",
       "  </thead>\n",
       "  <tbody>\n",
       "    <tr>\n",
       "      <th>0</th>\n",
       "      <td>1.677395</td>\n",
       "      <td>11101.0</td>\n",
       "      <td>115.0</td>\n",
       "      <td>4188.0</td>\n",
       "      <td>170.000000</td>\n",
       "      <td>23.000000</td>\n",
       "      <td>3.447250e+05</td>\n",
       "      <td>132.000000</td>\n",
       "      <td>1927.000000</td>\n",
       "      <td>10.353863</td>\n",
       "    </tr>\n",
       "    <tr>\n",
       "      <th>1</th>\n",
       "      <td>1.068871</td>\n",
       "      <td>11101.0</td>\n",
       "      <td>115.0</td>\n",
       "      <td>4188.0</td>\n",
       "      <td>1.000000</td>\n",
       "      <td>0.000000</td>\n",
       "      <td>1.698048e+06</td>\n",
       "      <td>0.000000</td>\n",
       "      <td>0.000000</td>\n",
       "      <td>1.068871</td>\n",
       "    </tr>\n",
       "    <tr>\n",
       "      <th>2</th>\n",
       "      <td>1.821750</td>\n",
       "      <td>11101.0</td>\n",
       "      <td>115.0</td>\n",
       "      <td>4188.0</td>\n",
       "      <td>7.000000</td>\n",
       "      <td>2.000000</td>\n",
       "      <td>1.112349e+06</td>\n",
       "      <td>4.000000</td>\n",
       "      <td>10.000000</td>\n",
       "      <td>5.254207</td>\n",
       "    </tr>\n",
       "    <tr>\n",
       "      <th>3</th>\n",
       "      <td>1.081691</td>\n",
       "      <td>11101.0</td>\n",
       "      <td>115.0</td>\n",
       "      <td>4188.0</td>\n",
       "      <td>9.333333</td>\n",
       "      <td>3.666667</td>\n",
       "      <td>9.379188e+05</td>\n",
       "      <td>7.666667</td>\n",
       "      <td>47.333333</td>\n",
       "      <td>6.736735</td>\n",
       "    </tr>\n",
       "    <tr>\n",
       "      <th>4</th>\n",
       "      <td>2.869217</td>\n",
       "      <td>11101.0</td>\n",
       "      <td>115.0</td>\n",
       "      <td>4188.0</td>\n",
       "      <td>1.000000</td>\n",
       "      <td>0.000000</td>\n",
       "      <td>1.698048e+06</td>\n",
       "      <td>0.000000</td>\n",
       "      <td>0.000000</td>\n",
       "      <td>2.869217</td>\n",
       "    </tr>\n",
       "  </tbody>\n",
       "</table>\n",
       "</div>"
      ],
      "text/plain": [
       "   diversity  venue_rank  venue_MPI  venue_TPI  productivity    H_index  \\\n",
       "0   1.677395     11101.0      115.0     4188.0    170.000000  23.000000   \n",
       "1   1.068871     11101.0      115.0     4188.0      1.000000   0.000000   \n",
       "2   1.821750     11101.0      115.0     4188.0      7.000000   2.000000   \n",
       "3   1.081691     11101.0      115.0     4188.0      9.333333   3.666667   \n",
       "4   2.869217     11101.0      115.0     4188.0      1.000000   0.000000   \n",
       "\n",
       "    author_rank  author_MPI   author_TPI  versatility  \n",
       "0  3.447250e+05  132.000000  1927.000000    10.353863  \n",
       "1  1.698048e+06    0.000000     0.000000     1.068871  \n",
       "2  1.112349e+06    4.000000    10.000000     5.254207  \n",
       "3  9.379188e+05    7.666667    47.333333     6.736735  \n",
       "4  1.698048e+06    0.000000     0.000000     2.869217  "
      ]
     },
     "execution_count": 27,
     "metadata": {},
     "output_type": "execute_result"
    }
   ],
   "source": [
    "# Set ytrain and Xtrain\n",
    "y_train_1yr = train.iloc[:,12]\n",
    "y_train_2yr = train.iloc[:,13]\n",
    "y_train_5yr = train.iloc[:,14]\n",
    "y_train_10yr = train.iloc[:,15]\n",
    "\n",
    "X_train = train.iloc[:,2:12]\n",
    "print(y_train_5yr)\n",
    "X_train.head()"
   ]
  },
  {
   "cell_type": "code",
   "execution_count": 28,
   "metadata": {},
   "outputs": [
    {
     "name": "stdout",
     "output_type": "stream",
     "text": [
      "<class 'pandas.core.frame.DataFrame'>\n",
      "Int64Index: 220725 entries, 216 to 1140709\n",
      "Data columns (total 18 columns):\n",
      " #   Column         Non-Null Count   Dtype  \n",
      "---  ------         --------------   -----  \n",
      " 0   Unnamed: 0     220725 non-null  int64  \n",
      " 1   id             220725 non-null  int64  \n",
      " 2   diversity      220725 non-null  float64\n",
      " 3   venue_rank     220725 non-null  float64\n",
      " 4   venue_MPI      220725 non-null  float64\n",
      " 5   venue_TPI      220725 non-null  float64\n",
      " 6   productivity   220725 non-null  float64\n",
      " 7   H_index        220725 non-null  float64\n",
      " 8   author_rank    220725 non-null  float64\n",
      " 9   author_MPI     220725 non-null  float64\n",
      " 10  author_TPI     220725 non-null  float64\n",
      " 11  versatility    220725 non-null  float64\n",
      " 12  citation_1yr   220725 non-null  float64\n",
      " 13  citation_2yr   220725 non-null  float64\n",
      " 14  citation_5yr   220725 non-null  float64\n",
      " 15  citation_10yr  220725 non-null  float64\n",
      " 16  n_citation     220725 non-null  int64  \n",
      " 17  citation       220725 non-null  float64\n",
      "dtypes: float64(15), int64(3)\n",
      "memory usage: 32.0 MB\n"
     ]
    }
   ],
   "source": [
    "test.info()"
   ]
  },
  {
   "cell_type": "code",
   "execution_count": 29,
   "metadata": {},
   "outputs": [
    {
     "name": "stdout",
     "output_type": "stream",
     "text": [
      "216        3.0\n",
      "417        1.0\n",
      "421        2.0\n",
      "440        2.0\n",
      "441        1.0\n",
      "          ... \n",
      "1140665    0.0\n",
      "1140681    0.0\n",
      "1140688    1.0\n",
      "1140700    0.0\n",
      "1140709    0.0\n",
      "Name: citation_5yr, Length: 220725, dtype: float64\n"
     ]
    },
    {
     "data": {
      "text/html": [
       "<div>\n",
       "<style scoped>\n",
       "    .dataframe tbody tr th:only-of-type {\n",
       "        vertical-align: middle;\n",
       "    }\n",
       "\n",
       "    .dataframe tbody tr th {\n",
       "        vertical-align: top;\n",
       "    }\n",
       "\n",
       "    .dataframe thead th {\n",
       "        text-align: right;\n",
       "    }\n",
       "</style>\n",
       "<table border=\"1\" class=\"dataframe\">\n",
       "  <thead>\n",
       "    <tr style=\"text-align: right;\">\n",
       "      <th></th>\n",
       "      <th>diversity</th>\n",
       "      <th>venue_rank</th>\n",
       "      <th>venue_MPI</th>\n",
       "      <th>venue_TPI</th>\n",
       "      <th>productivity</th>\n",
       "      <th>H_index</th>\n",
       "      <th>author_rank</th>\n",
       "      <th>author_MPI</th>\n",
       "      <th>author_TPI</th>\n",
       "      <th>versatility</th>\n",
       "    </tr>\n",
       "  </thead>\n",
       "  <tbody>\n",
       "    <tr>\n",
       "      <th>216</th>\n",
       "      <td>3.561625</td>\n",
       "      <td>11101.0</td>\n",
       "      <td>115.0</td>\n",
       "      <td>4188.0</td>\n",
       "      <td>15.500000</td>\n",
       "      <td>5.000000</td>\n",
       "      <td>5.204462e+05</td>\n",
       "      <td>39.000000</td>\n",
       "      <td>125.500000</td>\n",
       "      <td>10.951452</td>\n",
       "    </tr>\n",
       "    <tr>\n",
       "      <th>417</th>\n",
       "      <td>1.669966</td>\n",
       "      <td>11101.0</td>\n",
       "      <td>115.0</td>\n",
       "      <td>4188.0</td>\n",
       "      <td>25.000000</td>\n",
       "      <td>6.000000</td>\n",
       "      <td>5.758400e+05</td>\n",
       "      <td>41.000000</td>\n",
       "      <td>161.000000</td>\n",
       "      <td>11.066745</td>\n",
       "    </tr>\n",
       "    <tr>\n",
       "      <th>421</th>\n",
       "      <td>1.992607</td>\n",
       "      <td>11101.0</td>\n",
       "      <td>115.0</td>\n",
       "      <td>4188.0</td>\n",
       "      <td>19.000000</td>\n",
       "      <td>4.000000</td>\n",
       "      <td>1.084376e+06</td>\n",
       "      <td>5.000000</td>\n",
       "      <td>34.000000</td>\n",
       "      <td>7.633989</td>\n",
       "    </tr>\n",
       "    <tr>\n",
       "      <th>440</th>\n",
       "      <td>2.749466</td>\n",
       "      <td>11101.0</td>\n",
       "      <td>115.0</td>\n",
       "      <td>4188.0</td>\n",
       "      <td>7.333333</td>\n",
       "      <td>2.666667</td>\n",
       "      <td>8.019018e+05</td>\n",
       "      <td>6.666667</td>\n",
       "      <td>32.333333</td>\n",
       "      <td>6.582855</td>\n",
       "    </tr>\n",
       "    <tr>\n",
       "      <th>441</th>\n",
       "      <td>3.376685</td>\n",
       "      <td>11101.0</td>\n",
       "      <td>115.0</td>\n",
       "      <td>4188.0</td>\n",
       "      <td>18.333333</td>\n",
       "      <td>4.666667</td>\n",
       "      <td>9.225598e+05</td>\n",
       "      <td>16.333333</td>\n",
       "      <td>87.333333</td>\n",
       "      <td>10.587081</td>\n",
       "    </tr>\n",
       "  </tbody>\n",
       "</table>\n",
       "</div>"
      ],
      "text/plain": [
       "     diversity  venue_rank  venue_MPI  venue_TPI  productivity   H_index  \\\n",
       "216   3.561625     11101.0      115.0     4188.0     15.500000  5.000000   \n",
       "417   1.669966     11101.0      115.0     4188.0     25.000000  6.000000   \n",
       "421   1.992607     11101.0      115.0     4188.0     19.000000  4.000000   \n",
       "440   2.749466     11101.0      115.0     4188.0      7.333333  2.666667   \n",
       "441   3.376685     11101.0      115.0     4188.0     18.333333  4.666667   \n",
       "\n",
       "      author_rank  author_MPI  author_TPI  versatility  \n",
       "216  5.204462e+05   39.000000  125.500000    10.951452  \n",
       "417  5.758400e+05   41.000000  161.000000    11.066745  \n",
       "421  1.084376e+06    5.000000   34.000000     7.633989  \n",
       "440  8.019018e+05    6.666667   32.333333     6.582855  \n",
       "441  9.225598e+05   16.333333   87.333333    10.587081  "
      ]
     },
     "execution_count": 29,
     "metadata": {},
     "output_type": "execute_result"
    }
   ],
   "source": [
    "# Set ytest and Xtest\n",
    "y_test_1yr = test.iloc[:,12]\n",
    "y_test_2yr = test.iloc[:,13]\n",
    "y_test_5yr = test.iloc[:,14]\n",
    "y_test_10yr = test.iloc[:,15]\n",
    "\n",
    "X_test = test.iloc[:,2:12]\n",
    "print(y_test_5yr)\n",
    "X_test.head()"
   ]
  },
  {
   "cell_type": "markdown",
   "metadata": {},
   "source": [
    "# Train Model"
   ]
  },
  {
   "cell_type": "code",
   "execution_count": 30,
   "metadata": {},
   "outputs": [],
   "source": [
    "def train_and_Predict(X_train, y_train, X_test):\n",
    "    hgbr = HistGradientBoostingRegressor(learning_rate=0.15, max_iter=100, max_leaf_nodes=31, min_samples_leaf=20)\n",
    "    model = hgbr.fit(X_train,y_train)\n",
    "    y_pred = model.predict(X_test)\n",
    "    return(y_pred)"
   ]
  },
  {
   "cell_type": "code",
   "execution_count": 31,
   "metadata": {},
   "outputs": [
    {
     "data": {
      "text/plain": [
       "array([0.70223526, 0.59373485, 0.18109995, ..., 0.36542258, 0.11904764,\n",
       "       0.11904764])"
      ]
     },
     "execution_count": 31,
     "metadata": {},
     "output_type": "execute_result"
    }
   ],
   "source": [
    "y_predict_1yr = train_and_Predict(X_train, y_train_1yr, X_test)\n",
    "y_predict_1yr"
   ]
  },
  {
   "cell_type": "code",
   "execution_count": 32,
   "metadata": {},
   "outputs": [
    {
     "data": {
      "text/plain": [
       "array([0.70223526, 0.59373485, 0.18109995, ..., 0.36542258, 0.11904764,\n",
       "       0.11904764])"
      ]
     },
     "execution_count": 32,
     "metadata": {},
     "output_type": "execute_result"
    }
   ],
   "source": [
    "y_predict_2yr = train_and_Predict(X_train, y_train_2yr, X_test)\n",
    "y_predict_1yr"
   ]
  },
  {
   "cell_type": "code",
   "execution_count": 33,
   "metadata": {},
   "outputs": [
    {
     "data": {
      "text/plain": [
       "array([2.80961054e+00, 2.13853741e+00, 4.61970754e-01, ...,\n",
       "       9.90181308e-01, 1.70281706e-03, 1.70281706e-03])"
      ]
     },
     "execution_count": 33,
     "metadata": {},
     "output_type": "execute_result"
    }
   ],
   "source": [
    "y_predict_5yr = train_and_Predict(X_train, y_train_5yr, X_test)\n",
    "y_predict_5yr"
   ]
  },
  {
   "cell_type": "code",
   "execution_count": 34,
   "metadata": {},
   "outputs": [
    {
     "data": {
      "text/plain": [
       "array([3.72328119, 3.17744861, 0.6946372 , ..., 0.93928466, 0.0247585 ,\n",
       "       0.0247585 ])"
      ]
     },
     "execution_count": 34,
     "metadata": {},
     "output_type": "execute_result"
    }
   ],
   "source": [
    "y_predict_10yr = train_and_Predict(X_train, y_train_10yr, X_test)\n",
    "y_predict_10yr"
   ]
  },
  {
   "cell_type": "markdown",
   "metadata": {},
   "source": [
    "# Evaluation"
   ]
  },
  {
   "cell_type": "code",
   "execution_count": 35,
   "metadata": {},
   "outputs": [
    {
     "name": "stdout",
     "output_type": "stream",
     "text": [
      "Results for 1 year prediction:\n",
      "R squared: 0.08426397441811795\n",
      "Mean Absolute Error: 1.186972307823082\n",
      "Mean Squared Error: 47.36762680566386\n",
      "Root Mean Squared Error: 6.882414315170503\n",
      "----------------------------------------\n",
      "Results for 2 year prediction:\n",
      "R squared: 0.18846975830554213\n",
      "Mean Absolute Error: 1.9251935270705538\n",
      "Mean Squared Error: 75.14497167899535\n",
      "Root Mean Squared Error: 8.66861994085537\n",
      "----------------------------------------\n",
      "Results for 5 year prediction:\n",
      "R squared: 0.30453691775659353\n",
      "Mean Absolute Error: 4.314922231335763\n",
      "Mean Squared Error: 357.3286321536688\n",
      "Root Mean Squared Error: 18.903138156233975\n",
      "----------------------------------------\n",
      "Results for 10 year prediction:\n",
      "R squared: 0.2760867006712868\n",
      "Mean Absolute Error: 7.248254820954615\n",
      "Mean Squared Error: 1328.222060559483\n",
      "Root Mean Squared Error: 36.444780978344255\n"
     ]
    }
   ],
   "source": [
    "print(\"Results for 1 year prediction:\")\n",
    "print(\"R squared:\", r2_score(y_test_1yr, y_predict_1yr))\n",
    "print('Mean Absolute Error:', metrics.mean_absolute_error(y_test_1yr, y_predict_1yr))\n",
    "print('Mean Squared Error:', metrics.mean_squared_error(y_test_1yr, y_predict_1yr))\n",
    "print('Root Mean Squared Error:', np.sqrt(metrics.mean_squared_error(y_test_1yr, y_predict_1yr)))\n",
    "print('----------------------------------------')\n",
    "\n",
    "print(\"Results for 2 year prediction:\")\n",
    "print(\"R squared:\", r2_score(y_test_2yr, y_predict_2yr))\n",
    "print('Mean Absolute Error:', metrics.mean_absolute_error(y_test_2yr, y_predict_2yr))\n",
    "print('Mean Squared Error:', metrics.mean_squared_error(y_test_2yr, y_predict_2yr))\n",
    "print('Root Mean Squared Error:', np.sqrt(metrics.mean_squared_error(y_test_2yr, y_predict_2yr)))\n",
    "print('----------------------------------------')\n",
    "\n",
    "print(\"Results for 5 year prediction:\")\n",
    "print(\"R squared:\", r2_score(y_test_5yr, y_predict_5yr))\n",
    "print('Mean Absolute Error:', metrics.mean_absolute_error(y_test_5yr, y_predict_5yr))\n",
    "print('Mean Squared Error:', metrics.mean_squared_error(y_test_5yr, y_predict_5yr))\n",
    "print('Root Mean Squared Error:', np.sqrt(metrics.mean_squared_error(y_test_5yr, y_predict_5yr)))\n",
    "print('----------------------------------------')\n",
    "\n",
    "print(\"Results for 10 year prediction:\")\n",
    "print(\"R squared:\", r2_score(y_test_10yr, y_predict_10yr))\n",
    "print('Mean Absolute Error:', metrics.mean_absolute_error(y_test_10yr, y_predict_10yr))\n",
    "print('Mean Squared Error:', metrics.mean_squared_error(y_test_10yr, y_predict_10yr))\n",
    "print('Root Mean Squared Error:', np.sqrt(metrics.mean_squared_error(y_test_10yr, y_predict_10yr)))"
   ]
  },
  {
   "cell_type": "code",
   "execution_count": 37,
   "metadata": {},
   "outputs": [],
   "source": [
    "def graph_hist(y_test, y_predict, bins, title):\n",
    "    plt.hist([y_test, y_predict],range=(0,bins), bins = bins, label=['test', 'predict'])\n",
    "    plt.legend(loc='upper right')\n",
    "    plt.title(title)\n",
    "    plt.show()"
   ]
  },
  {
   "cell_type": "code",
   "execution_count": 17,
   "metadata": {},
   "outputs": [
    {
     "data": {
      "image/png": "[encoded data removed]",
      "text/plain": [
       "<Figure size 432x288 with 1 Axes>"
      ]
     },
     "metadata": {
      "needs_background": "light"
     },
     "output_type": "display_data"
    },
    {
     "data": {
      "image/png": "[encoded data removed]",
      "text/plain": [
       "<Figure size 432x288 with 1 Axes>"
      ]
     },
     "metadata": {
      "needs_background": "light"
     },
     "output_type": "display_data"
    },
    {
     "data": {
      "image/png": "[encoded data removed]",
      "text/plain": [
       "<Figure size 432x288 with 1 Axes>"
      ]
     },
     "metadata": {
      "needs_background": "light"
     },
     "output_type": "display_data"
    },
    {
     "data": {
      "image/png": "[encoded data removed]",
      "text/plain": [
       "<Figure size 432x288 with 1 Axes>"
      ]
     },
     "metadata": {
      "needs_background": "light"
     },
     "output_type": "display_data"
    }
   ],
   "source": [
    "graph_hist(y_test_1yr, y_predict_1yr, 25, \"1 year prediction\")\n",
    "graph_hist(y_test_2yr, y_predict_2yr, 25, \"2 year prediction\")\n",
    "graph_hist(y_test_5yr, y_predict_5yr, 25, \"5 year prediction\")\n",
    "graph_hist(y_test_10yr, y_predict_10yr, 25, \"10 year prediction\")"
   ]
  },
  {
   "cell_type": "markdown",
   "metadata": {},
   "source": [
    "# Hyperparameter tuning"
   ]
  },
  {
   "cell_type": "code",
   "execution_count": 36,
   "metadata": {
    "id": "oWHfGljaB4Bh"
   },
   "outputs": [
    {
     "ename": "ValueError",
     "evalue": "Invalid parameter n_estimators for estimator HistGradientBoostingRegressor(learning_rate=0.35, max_depth=1). Check the list of available parameters with `estimator.get_params().keys()`.",
     "output_type": "error",
     "traceback": [
      "\u001b[0;31m---------------------------------------------------------------------------\u001b[0m",
      "\u001b[0;31mValueError\u001b[0m                                Traceback (most recent call last)",
      "\u001b[0;32m<ipython-input-36-898fd4326837>\u001b[0m in \u001b[0;36m<module>\u001b[0;34m\u001b[0m\n\u001b[1;32m      5\u001b[0m \u001b[0mtuning\u001b[0m \u001b[0;34m=\u001b[0m \u001b[0mGridSearchCV\u001b[0m\u001b[0;34m(\u001b[0m\u001b[0mestimator\u001b[0m\u001b[0;34m=\u001b[0m\u001b[0mHistGradientBoostingRegressor\u001b[0m\u001b[0;34m(\u001b[0m\u001b[0;34m)\u001b[0m\u001b[0;34m,\u001b[0m \u001b[0mcv\u001b[0m \u001b[0;34m=\u001b[0m \u001b[0;36m3\u001b[0m\u001b[0;34m,\u001b[0m \u001b[0mparam_grid\u001b[0m\u001b[0;34m=\u001b[0m\u001b[0mLR\u001b[0m\u001b[0;34m,\u001b[0m \u001b[0mscoring\u001b[0m \u001b[0;34m=\u001b[0m \u001b[0;34m'r2'\u001b[0m\u001b[0;34m)\u001b[0m\u001b[0;34m\u001b[0m\u001b[0;34m\u001b[0m\u001b[0m\n\u001b[1;32m      6\u001b[0m \u001b[0;34m\u001b[0m\u001b[0m\n\u001b[0;32m----> 7\u001b[0;31m \u001b[0mtuning\u001b[0m\u001b[0;34m.\u001b[0m\u001b[0mfit\u001b[0m\u001b[0;34m(\u001b[0m\u001b[0mX_train\u001b[0m\u001b[0;34m,\u001b[0m\u001b[0my_train_5yr\u001b[0m\u001b[0;34m)\u001b[0m\u001b[0;34m\u001b[0m\u001b[0;34m\u001b[0m\u001b[0m\n\u001b[0m\u001b[1;32m      8\u001b[0m \u001b[0mtuning\u001b[0m\u001b[0;34m.\u001b[0m\u001b[0mbest_params_\u001b[0m\u001b[0;34m,\u001b[0m \u001b[0mtuning\u001b[0m\u001b[0;34m.\u001b[0m\u001b[0mbest_score_\u001b[0m\u001b[0;34m\u001b[0m\u001b[0;34m\u001b[0m\u001b[0m\n\u001b[1;32m      9\u001b[0m \u001b[0;31m#y_pred = tuning.predict(X_test)\u001b[0m\u001b[0;34m\u001b[0m\u001b[0;34m\u001b[0m\u001b[0;34m\u001b[0m\u001b[0m\n",
      "\u001b[0;32m~/opt/anaconda3/lib/python3.8/site-packages/sklearn/utils/validation.py\u001b[0m in \u001b[0;36minner_f\u001b[0;34m(*args, **kwargs)\u001b[0m\n\u001b[1;32m     61\u001b[0m             \u001b[0mextra_args\u001b[0m \u001b[0;34m=\u001b[0m \u001b[0mlen\u001b[0m\u001b[0;34m(\u001b[0m\u001b[0margs\u001b[0m\u001b[0;34m)\u001b[0m \u001b[0;34m-\u001b[0m \u001b[0mlen\u001b[0m\u001b[0;34m(\u001b[0m\u001b[0mall_args\u001b[0m\u001b[0;34m)\u001b[0m\u001b[0;34m\u001b[0m\u001b[0;34m\u001b[0m\u001b[0m\n\u001b[1;32m     62\u001b[0m             \u001b[0;32mif\u001b[0m \u001b[0mextra_args\u001b[0m \u001b[0;34m<=\u001b[0m \u001b[0;36m0\u001b[0m\u001b[0;34m:\u001b[0m\u001b[0;34m\u001b[0m\u001b[0;34m\u001b[0m\u001b[0m\n\u001b[0;32m---> 63\u001b[0;31m                 \u001b[0;32mreturn\u001b[0m \u001b[0mf\u001b[0m\u001b[0;34m(\u001b[0m\u001b[0;34m*\u001b[0m\u001b[0margs\u001b[0m\u001b[0;34m,\u001b[0m \u001b[0;34m**\u001b[0m\u001b[0mkwargs\u001b[0m\u001b[0;34m)\u001b[0m\u001b[0;34m\u001b[0m\u001b[0;34m\u001b[0m\u001b[0m\n\u001b[0m\u001b[1;32m     64\u001b[0m \u001b[0;34m\u001b[0m\u001b[0m\n\u001b[1;32m     65\u001b[0m             \u001b[0;31m# extra_args > 0\u001b[0m\u001b[0;34m\u001b[0m\u001b[0;34m\u001b[0m\u001b[0;34m\u001b[0m\u001b[0m\n",
      "\u001b[0;32m~/opt/anaconda3/lib/python3.8/site-packages/sklearn/model_selection/_search.py\u001b[0m in \u001b[0;36mfit\u001b[0;34m(self, X, y, groups, **fit_params)\u001b[0m\n\u001b[1;32m    839\u001b[0m                 \u001b[0;32mreturn\u001b[0m \u001b[0mresults\u001b[0m\u001b[0;34m\u001b[0m\u001b[0;34m\u001b[0m\u001b[0m\n\u001b[1;32m    840\u001b[0m \u001b[0;34m\u001b[0m\u001b[0m\n\u001b[0;32m--> 841\u001b[0;31m             \u001b[0mself\u001b[0m\u001b[0;34m.\u001b[0m\u001b[0m_run_search\u001b[0m\u001b[0;34m(\u001b[0m\u001b[0mevaluate_candidates\u001b[0m\u001b[0;34m)\u001b[0m\u001b[0;34m\u001b[0m\u001b[0;34m\u001b[0m\u001b[0m\n\u001b[0m\u001b[1;32m    842\u001b[0m \u001b[0;34m\u001b[0m\u001b[0m\n\u001b[1;32m    843\u001b[0m             \u001b[0;31m# multimetric is determined here because in the case of a callable\u001b[0m\u001b[0;34m\u001b[0m\u001b[0;34m\u001b[0m\u001b[0;34m\u001b[0m\u001b[0m\n",
      "\u001b[0;32m~/opt/anaconda3/lib/python3.8/site-packages/sklearn/model_selection/_search.py\u001b[0m in \u001b[0;36m_run_search\u001b[0;34m(self, evaluate_candidates)\u001b[0m\n\u001b[1;32m   1286\u001b[0m     \u001b[0;32mdef\u001b[0m \u001b[0m_run_search\u001b[0m\u001b[0;34m(\u001b[0m\u001b[0mself\u001b[0m\u001b[0;34m,\u001b[0m \u001b[0mevaluate_candidates\u001b[0m\u001b[0;34m)\u001b[0m\u001b[0;34m:\u001b[0m\u001b[0;34m\u001b[0m\u001b[0;34m\u001b[0m\u001b[0m\n\u001b[1;32m   1287\u001b[0m         \u001b[0;34m\"\"\"Search all candidates in param_grid\"\"\"\u001b[0m\u001b[0;34m\u001b[0m\u001b[0;34m\u001b[0m\u001b[0m\n\u001b[0;32m-> 1288\u001b[0;31m         \u001b[0mevaluate_candidates\u001b[0m\u001b[0;34m(\u001b[0m\u001b[0mParameterGrid\u001b[0m\u001b[0;34m(\u001b[0m\u001b[0mself\u001b[0m\u001b[0;34m.\u001b[0m\u001b[0mparam_grid\u001b[0m\u001b[0;34m)\u001b[0m\u001b[0;34m)\u001b[0m\u001b[0;34m\u001b[0m\u001b[0;34m\u001b[0m\u001b[0m\n\u001b[0m\u001b[1;32m   1289\u001b[0m \u001b[0;34m\u001b[0m\u001b[0m\n\u001b[1;32m   1290\u001b[0m \u001b[0;34m\u001b[0m\u001b[0m\n",
      "\u001b[0;32m~/opt/anaconda3/lib/python3.8/site-packages/sklearn/model_selection/_search.py\u001b[0m in \u001b[0;36mevaluate_candidates\u001b[0;34m(candidate_params, cv, more_results)\u001b[0m\n\u001b[1;32m    793\u001b[0m                               n_splits, n_candidates, n_candidates * n_splits))\n\u001b[1;32m    794\u001b[0m \u001b[0;34m\u001b[0m\u001b[0m\n\u001b[0;32m--> 795\u001b[0;31m                 out = parallel(delayed(_fit_and_score)(clone(base_estimator),\n\u001b[0m\u001b[1;32m    796\u001b[0m                                                        \u001b[0mX\u001b[0m\u001b[0;34m,\u001b[0m \u001b[0my\u001b[0m\u001b[0;34m,\u001b[0m\u001b[0;34m\u001b[0m\u001b[0;34m\u001b[0m\u001b[0m\n\u001b[1;32m    797\u001b[0m                                                        \u001b[0mtrain\u001b[0m\u001b[0;34m=\u001b[0m\u001b[0mtrain\u001b[0m\u001b[0;34m,\u001b[0m \u001b[0mtest\u001b[0m\u001b[0;34m=\u001b[0m\u001b[0mtest\u001b[0m\u001b[0;34m,\u001b[0m\u001b[0;34m\u001b[0m\u001b[0;34m\u001b[0m\u001b[0m\n",
      "\u001b[0;32m~/opt/anaconda3/lib/python3.8/site-packages/joblib/parallel.py\u001b[0m in \u001b[0;36m__call__\u001b[0;34m(self, iterable)\u001b[0m\n\u001b[1;32m   1039\u001b[0m             \u001b[0;31m# remaining jobs.\u001b[0m\u001b[0;34m\u001b[0m\u001b[0;34m\u001b[0m\u001b[0;34m\u001b[0m\u001b[0m\n\u001b[1;32m   1040\u001b[0m             \u001b[0mself\u001b[0m\u001b[0;34m.\u001b[0m\u001b[0m_iterating\u001b[0m \u001b[0;34m=\u001b[0m \u001b[0;32mFalse\u001b[0m\u001b[0;34m\u001b[0m\u001b[0;34m\u001b[0m\u001b[0m\n\u001b[0;32m-> 1041\u001b[0;31m             \u001b[0;32mif\u001b[0m \u001b[0mself\u001b[0m\u001b[0;34m.\u001b[0m\u001b[0mdispatch_one_batch\u001b[0m\u001b[0;34m(\u001b[0m\u001b[0miterator\u001b[0m\u001b[0;34m)\u001b[0m\u001b[0;34m:\u001b[0m\u001b[0;34m\u001b[0m\u001b[0;34m\u001b[0m\u001b[0m\n\u001b[0m\u001b[1;32m   1042\u001b[0m                 \u001b[0mself\u001b[0m\u001b[0;34m.\u001b[0m\u001b[0m_iterating\u001b[0m \u001b[0;34m=\u001b[0m \u001b[0mself\u001b[0m\u001b[0;34m.\u001b[0m\u001b[0m_original_iterator\u001b[0m \u001b[0;32mis\u001b[0m \u001b[0;32mnot\u001b[0m \u001b[0;32mNone\u001b[0m\u001b[0;34m\u001b[0m\u001b[0;34m\u001b[0m\u001b[0m\n\u001b[1;32m   1043\u001b[0m \u001b[0;34m\u001b[0m\u001b[0m\n",
      "\u001b[0;32m~/opt/anaconda3/lib/python3.8/site-packages/joblib/parallel.py\u001b[0m in \u001b[0;36mdispatch_one_batch\u001b[0;34m(self, iterator)\u001b[0m\n\u001b[1;32m    857\u001b[0m                 \u001b[0;32mreturn\u001b[0m \u001b[0;32mFalse\u001b[0m\u001b[0;34m\u001b[0m\u001b[0;34m\u001b[0m\u001b[0m\n\u001b[1;32m    858\u001b[0m             \u001b[0;32melse\u001b[0m\u001b[0;34m:\u001b[0m\u001b[0;34m\u001b[0m\u001b[0;34m\u001b[0m\u001b[0m\n\u001b[0;32m--> 859\u001b[0;31m                 \u001b[0mself\u001b[0m\u001b[0;34m.\u001b[0m\u001b[0m_dispatch\u001b[0m\u001b[0;34m(\u001b[0m\u001b[0mtasks\u001b[0m\u001b[0;34m)\u001b[0m\u001b[0;34m\u001b[0m\u001b[0;34m\u001b[0m\u001b[0m\n\u001b[0m\u001b[1;32m    860\u001b[0m                 \u001b[0;32mreturn\u001b[0m \u001b[0;32mTrue\u001b[0m\u001b[0;34m\u001b[0m\u001b[0;34m\u001b[0m\u001b[0m\n\u001b[1;32m    861\u001b[0m \u001b[0;34m\u001b[0m\u001b[0m\n",
      "\u001b[0;32m~/opt/anaconda3/lib/python3.8/site-packages/joblib/parallel.py\u001b[0m in \u001b[0;36m_dispatch\u001b[0;34m(self, batch)\u001b[0m\n\u001b[1;32m    775\u001b[0m         \u001b[0;32mwith\u001b[0m \u001b[0mself\u001b[0m\u001b[0;34m.\u001b[0m\u001b[0m_lock\u001b[0m\u001b[0;34m:\u001b[0m\u001b[0;34m\u001b[0m\u001b[0;34m\u001b[0m\u001b[0m\n\u001b[1;32m    776\u001b[0m             \u001b[0mjob_idx\u001b[0m \u001b[0;34m=\u001b[0m \u001b[0mlen\u001b[0m\u001b[0;34m(\u001b[0m\u001b[0mself\u001b[0m\u001b[0;34m.\u001b[0m\u001b[0m_jobs\u001b[0m\u001b[0;34m)\u001b[0m\u001b[0;34m\u001b[0m\u001b[0;34m\u001b[0m\u001b[0m\n\u001b[0;32m--> 777\u001b[0;31m             \u001b[0mjob\u001b[0m \u001b[0;34m=\u001b[0m \u001b[0mself\u001b[0m\u001b[0;34m.\u001b[0m\u001b[0m_backend\u001b[0m\u001b[0;34m.\u001b[0m\u001b[0mapply_async\u001b[0m\u001b[0;34m(\u001b[0m\u001b[0mbatch\u001b[0m\u001b[0;34m,\u001b[0m \u001b[0mcallback\u001b[0m\u001b[0;34m=\u001b[0m\u001b[0mcb\u001b[0m\u001b[0;34m)\u001b[0m\u001b[0;34m\u001b[0m\u001b[0;34m\u001b[0m\u001b[0m\n\u001b[0m\u001b[1;32m    778\u001b[0m             \u001b[0;31m# A job can complete so quickly than its callback is\u001b[0m\u001b[0;34m\u001b[0m\u001b[0;34m\u001b[0m\u001b[0;34m\u001b[0m\u001b[0m\n\u001b[1;32m    779\u001b[0m             \u001b[0;31m# called before we get here, causing self._jobs to\u001b[0m\u001b[0;34m\u001b[0m\u001b[0;34m\u001b[0m\u001b[0;34m\u001b[0m\u001b[0m\n",
      "\u001b[0;32m~/opt/anaconda3/lib/python3.8/site-packages/joblib/_parallel_backends.py\u001b[0m in \u001b[0;36mapply_async\u001b[0;34m(self, func, callback)\u001b[0m\n\u001b[1;32m    206\u001b[0m     \u001b[0;32mdef\u001b[0m \u001b[0mapply_async\u001b[0m\u001b[0;34m(\u001b[0m\u001b[0mself\u001b[0m\u001b[0;34m,\u001b[0m \u001b[0mfunc\u001b[0m\u001b[0;34m,\u001b[0m \u001b[0mcallback\u001b[0m\u001b[0;34m=\u001b[0m\u001b[0;32mNone\u001b[0m\u001b[0;34m)\u001b[0m\u001b[0;34m:\u001b[0m\u001b[0;34m\u001b[0m\u001b[0;34m\u001b[0m\u001b[0m\n\u001b[1;32m    207\u001b[0m         \u001b[0;34m\"\"\"Schedule a func to be run\"\"\"\u001b[0m\u001b[0;34m\u001b[0m\u001b[0;34m\u001b[0m\u001b[0m\n\u001b[0;32m--> 208\u001b[0;31m         \u001b[0mresult\u001b[0m \u001b[0;34m=\u001b[0m \u001b[0mImmediateResult\u001b[0m\u001b[0;34m(\u001b[0m\u001b[0mfunc\u001b[0m\u001b[0;34m)\u001b[0m\u001b[0;34m\u001b[0m\u001b[0;34m\u001b[0m\u001b[0m\n\u001b[0m\u001b[1;32m    209\u001b[0m         \u001b[0;32mif\u001b[0m \u001b[0mcallback\u001b[0m\u001b[0;34m:\u001b[0m\u001b[0;34m\u001b[0m\u001b[0;34m\u001b[0m\u001b[0m\n\u001b[1;32m    210\u001b[0m             \u001b[0mcallback\u001b[0m\u001b[0;34m(\u001b[0m\u001b[0mresult\u001b[0m\u001b[0;34m)\u001b[0m\u001b[0;34m\u001b[0m\u001b[0;34m\u001b[0m\u001b[0m\n",
      "\u001b[0;32m~/opt/anaconda3/lib/python3.8/site-packages/joblib/_parallel_backends.py\u001b[0m in \u001b[0;36m__init__\u001b[0;34m(self, batch)\u001b[0m\n\u001b[1;32m    570\u001b[0m         \u001b[0;31m# Don't delay the application, to avoid keeping the input\u001b[0m\u001b[0;34m\u001b[0m\u001b[0;34m\u001b[0m\u001b[0;34m\u001b[0m\u001b[0m\n\u001b[1;32m    571\u001b[0m         \u001b[0;31m# arguments in memory\u001b[0m\u001b[0;34m\u001b[0m\u001b[0;34m\u001b[0m\u001b[0;34m\u001b[0m\u001b[0m\n\u001b[0;32m--> 572\u001b[0;31m         \u001b[0mself\u001b[0m\u001b[0;34m.\u001b[0m\u001b[0mresults\u001b[0m \u001b[0;34m=\u001b[0m \u001b[0mbatch\u001b[0m\u001b[0;34m(\u001b[0m\u001b[0;34m)\u001b[0m\u001b[0;34m\u001b[0m\u001b[0;34m\u001b[0m\u001b[0m\n\u001b[0m\u001b[1;32m    573\u001b[0m \u001b[0;34m\u001b[0m\u001b[0m\n\u001b[1;32m    574\u001b[0m     \u001b[0;32mdef\u001b[0m \u001b[0mget\u001b[0m\u001b[0;34m(\u001b[0m\u001b[0mself\u001b[0m\u001b[0;34m)\u001b[0m\u001b[0;34m:\u001b[0m\u001b[0;34m\u001b[0m\u001b[0;34m\u001b[0m\u001b[0m\n",
      "\u001b[0;32m~/opt/anaconda3/lib/python3.8/site-packages/joblib/parallel.py\u001b[0m in \u001b[0;36m__call__\u001b[0;34m(self)\u001b[0m\n\u001b[1;32m    260\u001b[0m         \u001b[0;31m# change the default number of processes to -1\u001b[0m\u001b[0;34m\u001b[0m\u001b[0;34m\u001b[0m\u001b[0;34m\u001b[0m\u001b[0m\n\u001b[1;32m    261\u001b[0m         \u001b[0;32mwith\u001b[0m \u001b[0mparallel_backend\u001b[0m\u001b[0;34m(\u001b[0m\u001b[0mself\u001b[0m\u001b[0;34m.\u001b[0m\u001b[0m_backend\u001b[0m\u001b[0;34m,\u001b[0m \u001b[0mn_jobs\u001b[0m\u001b[0;34m=\u001b[0m\u001b[0mself\u001b[0m\u001b[0;34m.\u001b[0m\u001b[0m_n_jobs\u001b[0m\u001b[0;34m)\u001b[0m\u001b[0;34m:\u001b[0m\u001b[0;34m\u001b[0m\u001b[0;34m\u001b[0m\u001b[0m\n\u001b[0;32m--> 262\u001b[0;31m             return [func(*args, **kwargs)\n\u001b[0m\u001b[1;32m    263\u001b[0m                     for func, args, kwargs in self.items]\n\u001b[1;32m    264\u001b[0m \u001b[0;34m\u001b[0m\u001b[0m\n",
      "\u001b[0;32m~/opt/anaconda3/lib/python3.8/site-packages/joblib/parallel.py\u001b[0m in \u001b[0;36m<listcomp>\u001b[0;34m(.0)\u001b[0m\n\u001b[1;32m    260\u001b[0m         \u001b[0;31m# change the default number of processes to -1\u001b[0m\u001b[0;34m\u001b[0m\u001b[0;34m\u001b[0m\u001b[0;34m\u001b[0m\u001b[0m\n\u001b[1;32m    261\u001b[0m         \u001b[0;32mwith\u001b[0m \u001b[0mparallel_backend\u001b[0m\u001b[0;34m(\u001b[0m\u001b[0mself\u001b[0m\u001b[0;34m.\u001b[0m\u001b[0m_backend\u001b[0m\u001b[0;34m,\u001b[0m \u001b[0mn_jobs\u001b[0m\u001b[0;34m=\u001b[0m\u001b[0mself\u001b[0m\u001b[0;34m.\u001b[0m\u001b[0m_n_jobs\u001b[0m\u001b[0;34m)\u001b[0m\u001b[0;34m:\u001b[0m\u001b[0;34m\u001b[0m\u001b[0;34m\u001b[0m\u001b[0m\n\u001b[0;32m--> 262\u001b[0;31m             return [func(*args, **kwargs)\n\u001b[0m\u001b[1;32m    263\u001b[0m                     for func, args, kwargs in self.items]\n\u001b[1;32m    264\u001b[0m \u001b[0;34m\u001b[0m\u001b[0m\n",
      "\u001b[0;32m~/opt/anaconda3/lib/python3.8/site-packages/sklearn/utils/fixes.py\u001b[0m in \u001b[0;36m__call__\u001b[0;34m(self, *args, **kwargs)\u001b[0m\n\u001b[1;32m    220\u001b[0m     \u001b[0;32mdef\u001b[0m \u001b[0m__call__\u001b[0m\u001b[0;34m(\u001b[0m\u001b[0mself\u001b[0m\u001b[0;34m,\u001b[0m \u001b[0;34m*\u001b[0m\u001b[0margs\u001b[0m\u001b[0;34m,\u001b[0m \u001b[0;34m**\u001b[0m\u001b[0mkwargs\u001b[0m\u001b[0;34m)\u001b[0m\u001b[0;34m:\u001b[0m\u001b[0;34m\u001b[0m\u001b[0;34m\u001b[0m\u001b[0m\n\u001b[1;32m    221\u001b[0m         \u001b[0;32mwith\u001b[0m \u001b[0mconfig_context\u001b[0m\u001b[0;34m(\u001b[0m\u001b[0;34m**\u001b[0m\u001b[0mself\u001b[0m\u001b[0;34m.\u001b[0m\u001b[0mconfig\u001b[0m\u001b[0;34m)\u001b[0m\u001b[0;34m:\u001b[0m\u001b[0;34m\u001b[0m\u001b[0;34m\u001b[0m\u001b[0m\n\u001b[0;32m--> 222\u001b[0;31m             \u001b[0;32mreturn\u001b[0m \u001b[0mself\u001b[0m\u001b[0;34m.\u001b[0m\u001b[0mfunction\u001b[0m\u001b[0;34m(\u001b[0m\u001b[0;34m*\u001b[0m\u001b[0margs\u001b[0m\u001b[0;34m,\u001b[0m \u001b[0;34m**\u001b[0m\u001b[0mkwargs\u001b[0m\u001b[0;34m)\u001b[0m\u001b[0;34m\u001b[0m\u001b[0;34m\u001b[0m\u001b[0m\n\u001b[0m",
      "\u001b[0;32m~/opt/anaconda3/lib/python3.8/site-packages/sklearn/model_selection/_validation.py\u001b[0m in \u001b[0;36m_fit_and_score\u001b[0;34m(estimator, X, y, scorer, train, test, verbose, parameters, fit_params, return_train_score, return_parameters, return_n_test_samples, return_times, return_estimator, split_progress, candidate_progress, error_score)\u001b[0m\n\u001b[1;32m    579\u001b[0m             \u001b[0mcloned_parameters\u001b[0m\u001b[0;34m[\u001b[0m\u001b[0mk\u001b[0m\u001b[0;34m]\u001b[0m \u001b[0;34m=\u001b[0m \u001b[0mclone\u001b[0m\u001b[0;34m(\u001b[0m\u001b[0mv\u001b[0m\u001b[0;34m,\u001b[0m \u001b[0msafe\u001b[0m\u001b[0;34m=\u001b[0m\u001b[0;32mFalse\u001b[0m\u001b[0;34m)\u001b[0m\u001b[0;34m\u001b[0m\u001b[0;34m\u001b[0m\u001b[0m\n\u001b[1;32m    580\u001b[0m \u001b[0;34m\u001b[0m\u001b[0m\n\u001b[0;32m--> 581\u001b[0;31m         \u001b[0mestimator\u001b[0m \u001b[0;34m=\u001b[0m \u001b[0mestimator\u001b[0m\u001b[0;34m.\u001b[0m\u001b[0mset_params\u001b[0m\u001b[0;34m(\u001b[0m\u001b[0;34m**\u001b[0m\u001b[0mcloned_parameters\u001b[0m\u001b[0;34m)\u001b[0m\u001b[0;34m\u001b[0m\u001b[0;34m\u001b[0m\u001b[0m\n\u001b[0m\u001b[1;32m    582\u001b[0m \u001b[0;34m\u001b[0m\u001b[0m\n\u001b[1;32m    583\u001b[0m     \u001b[0mstart_time\u001b[0m \u001b[0;34m=\u001b[0m \u001b[0mtime\u001b[0m\u001b[0;34m.\u001b[0m\u001b[0mtime\u001b[0m\u001b[0;34m(\u001b[0m\u001b[0;34m)\u001b[0m\u001b[0;34m\u001b[0m\u001b[0;34m\u001b[0m\u001b[0m\n",
      "\u001b[0;32m~/opt/anaconda3/lib/python3.8/site-packages/sklearn/base.py\u001b[0m in \u001b[0;36mset_params\u001b[0;34m(self, **params)\u001b[0m\n\u001b[1;32m    228\u001b[0m             \u001b[0mkey\u001b[0m\u001b[0;34m,\u001b[0m \u001b[0mdelim\u001b[0m\u001b[0;34m,\u001b[0m \u001b[0msub_key\u001b[0m \u001b[0;34m=\u001b[0m \u001b[0mkey\u001b[0m\u001b[0;34m.\u001b[0m\u001b[0mpartition\u001b[0m\u001b[0;34m(\u001b[0m\u001b[0;34m'__'\u001b[0m\u001b[0;34m)\u001b[0m\u001b[0;34m\u001b[0m\u001b[0;34m\u001b[0m\u001b[0m\n\u001b[1;32m    229\u001b[0m             \u001b[0;32mif\u001b[0m \u001b[0mkey\u001b[0m \u001b[0;32mnot\u001b[0m \u001b[0;32min\u001b[0m \u001b[0mvalid_params\u001b[0m\u001b[0;34m:\u001b[0m\u001b[0;34m\u001b[0m\u001b[0;34m\u001b[0m\u001b[0m\n\u001b[0;32m--> 230\u001b[0;31m                 raise ValueError('Invalid parameter %s for estimator %s. '\n\u001b[0m\u001b[1;32m    231\u001b[0m                                  \u001b[0;34m'Check the list of available parameters '\u001b[0m\u001b[0;34m\u001b[0m\u001b[0;34m\u001b[0m\u001b[0m\n\u001b[1;32m    232\u001b[0m                                  \u001b[0;34m'with `estimator.get_params().keys()`.'\u001b[0m \u001b[0;34m%\u001b[0m\u001b[0;34m\u001b[0m\u001b[0;34m\u001b[0m\u001b[0m\n",
      "\u001b[0;31mValueError\u001b[0m: Invalid parameter n_estimators for estimator HistGradientBoostingRegressor(learning_rate=0.35, max_depth=1). Check the list of available parameters with `estimator.get_params().keys()`."
     ]
    }
   ],
   "source": [
    "#TUNING \n",
    "from sklearn.model_selection import GridSearchCV\n",
    "LR = {'max_depth': [1,2,3,4,5,6,7,8],'n_estimators': [5,25,50,100,150, 200,250,300],'learning_rate':[0.35,0.30,0.25,0.20,0.15, 0.10, 0.1,0.05]}\n",
    "\n",
    "tuning = GridSearchCV(estimator=HistGradientBoostingRegressor(), cv = 3, param_grid=LR, scoring = 'r2')\n",
    "\n",
    "tuning.fit(X_train,y_train_5yr)\n",
    "tuning.best_params_, tuning.best_score_\n",
    "#y_pred = tuning.predict(X_test)\n"
   ]
  },
  {
   "cell_type": "code",
   "execution_count": 12,
   "metadata": {
    "id": "n79UBSfGSZPF"
   },
   "outputs": [],
   "source": [
    "#EVALUATION\n",
    "#tuning.cv_results_\n",
    "#y_pred = tuning.predict(X_test)\n",
    "MSE = ((y_pred-y_test)**2).mean()\n",
    "score = r2_score(y_pred,y_test)\n"
   ]
  },
  {
   "cell_type": "code",
   "execution_count": 26,
   "metadata": {
    "colab": {
     "base_uri": "https://localhost:8080/"
    },
    "id": "QkDMV_-wAAuX",
    "outputId": "4f285dcb-7a2b-466d-d53c-07f0c6ead394"
   },
   "outputs": [
    {
     "data": {
      "text/plain": [
       "array([ 3.70054981e+00,  2.62324381e+01,  2.06659634e+01,  7.99994961e+00,\n",
       "        4.78438565e+00,  5.75664413e+00,  2.52100315e+01,  2.05024202e+02,\n",
       "       -7.47324953e-05,  1.85875303e+01,  9.99996692e-01,  9.07661991e+00,\n",
       "        2.99927136e+00,  2.55115061e+01,  9.99940825e-01])"
      ]
     },
     "execution_count": 26,
     "metadata": {
      "tags": []
     },
     "output_type": "execute_result"
    }
   ],
   "source": [
    "y_pred = y_pred[:25]\n",
    "y_pred"
   ]
  },
  {
   "cell_type": "code",
   "execution_count": 27,
   "metadata": {
    "colab": {
     "base_uri": "https://localhost:8080/"
    },
    "id": "bRP2cghSTzPy",
    "outputId": "dae15526-ae87-40d9-cdb6-f4009981c5f6"
   },
   "outputs": [
    {
     "data": {
      "text/plain": [
       "array([  5,  27,   2,   9,   9,  11,  25, 118,   0,  33,   1,   6,   1,\n",
       "        58,   1])"
      ]
     },
     "execution_count": 27,
     "metadata": {
      "tags": []
     },
     "output_type": "execute_result"
    }
   ],
   "source": [
    "y_test = y_test[:25]\n",
    "y_test"
   ]
  }
 ],
 "metadata": {
  "colab": {
   "collapsed_sections": [],
   "name": "GradientBoostingModel.ipynb",
   "provenance": []
  },
  "kernelspec": {
   "display_name": "Python 3",
   "language": "python",
   "name": "python3"
  },
  "language_info": {
   "codemirror_mode": {
    "name": "ipython",
    "version": 3
   },
   "file_extension": ".py",
   "mimetype": "text/x-python",
   "name": "python",
   "nbconvert_exporter": "python",
   "pygments_lexer": "ipython3",
   "version": "3.8.3"
  }
 },
 "nbformat": 4,
 "nbformat_minor": 1
}
