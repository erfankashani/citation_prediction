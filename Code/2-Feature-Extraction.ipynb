{
 "cells": [
  {
   "cell_type": "markdown",
   "metadata": {},
   "source": [
    "# Feature Extraction"
   ]
  },
  {
   "cell_type": "markdown",
   "metadata": {},
   "source": [
    "### TODO\n",
    "\n",
    "- Create the Tables for Authors, Venues\n",
    "- Perform Feature Extractions\n",
    "- Create the final table with the features"
   ]
  },
  {
   "cell_type": "markdown",
   "metadata": {},
   "source": [
    "#### Adding the libraries"
   ]
  },
  {
   "cell_type": "code",
   "execution_count": 1,
   "metadata": {},
   "outputs": [],
   "source": [
    "import pandas as pd\n",
    "import matplotlib as plt\n",
    "import ast\n",
    "import numpy as np\n",
    "import seaborn as sns\n",
    "from statistics import mean"
   ]
  },
  {
   "cell_type": "markdown",
   "metadata": {},
   "source": [
    "#### Adding the database"
   ]
  },
  {
   "cell_type": "code",
   "execution_count": 2,
   "metadata": {
    "scrolled": true
   },
   "outputs": [
    {
     "data": {
      "text/html": [
       "<div>\n",
       "<style scoped>\n",
       "    .dataframe tbody tr th:only-of-type {\n",
       "        vertical-align: middle;\n",
       "    }\n",
       "\n",
       "    .dataframe tbody tr th {\n",
       "        vertical-align: top;\n",
       "    }\n",
       "\n",
       "    .dataframe thead th {\n",
       "        text-align: right;\n",
       "    }\n",
       "</style>\n",
       "<table border=\"1\" class=\"dataframe\">\n",
       "  <thead>\n",
       "    <tr style=\"text-align: right;\">\n",
       "      <th></th>\n",
       "      <th>id</th>\n",
       "      <th>authors</th>\n",
       "      <th>title</th>\n",
       "      <th>year</th>\n",
       "      <th>n_citation</th>\n",
       "      <th>page_start</th>\n",
       "      <th>page_end</th>\n",
       "      <th>doc_type</th>\n",
       "      <th>publisher</th>\n",
       "      <th>volume</th>\n",
       "      <th>issue</th>\n",
       "      <th>doi</th>\n",
       "      <th>references</th>\n",
       "      <th>fos</th>\n",
       "      <th>venue</th>\n",
       "      <th>indexed_abstract</th>\n",
       "      <th>alias_ids</th>\n",
       "    </tr>\n",
       "  </thead>\n",
       "  <tbody>\n",
       "    <tr>\n",
       "      <th>0</th>\n",
       "      <td>75067</td>\n",
       "      <td>[{'name': 'Narciso Cerpa', 'id': 2571766951}, ...</td>\n",
       "      <td>Comparing Estimated with Actual Efforts for a ...</td>\n",
       "      <td>2001</td>\n",
       "      <td>0</td>\n",
       "      <td>348</td>\n",
       "      <td>353</td>\n",
       "      <td>Conference</td>\n",
       "      <td>IIIS</td>\n",
       "      <td></td>\n",
       "      <td></td>\n",
       "      <td></td>\n",
       "      <td>[1989212489, 2007884971, 2014210483, 202969654...</td>\n",
       "      <td>[{'name': 'Software engineering', 'w': 0.46281...</td>\n",
       "      <td>{'raw': 'World Multiconference on Systemics, C...</td>\n",
       "      <td>NaN</td>\n",
       "      <td>NaN</td>\n",
       "    </tr>\n",
       "    <tr>\n",
       "      <th>1</th>\n",
       "      <td>40449</td>\n",
       "      <td>[{'name': 'José Luis Martín', 'id': 2322634291...</td>\n",
       "      <td>Software Workbench for Movement Estimation bas...</td>\n",
       "      <td>2001</td>\n",
       "      <td>1</td>\n",
       "      <td>517</td>\n",
       "      <td>522</td>\n",
       "      <td></td>\n",
       "      <td></td>\n",
       "      <td></td>\n",
       "      <td></td>\n",
       "      <td></td>\n",
       "      <td>NaN</td>\n",
       "      <td>[{'name': 'Workbench', 'w': 0.59515}, {'name':...</td>\n",
       "      <td>{'raw': 'VIIP'}</td>\n",
       "      <td>NaN</td>\n",
       "      <td>NaN</td>\n",
       "    </tr>\n",
       "    <tr>\n",
       "      <th>2</th>\n",
       "      <td>73220</td>\n",
       "      <td>[{'name': 'John F. Duff', 'id': 2670839461}, {...</td>\n",
       "      <td>Parallel Molecular Dynamics on Scyld Clusters.</td>\n",
       "      <td>2001</td>\n",
       "      <td>0</td>\n",
       "      <td></td>\n",
       "      <td></td>\n",
       "      <td></td>\n",
       "      <td></td>\n",
       "      <td></td>\n",
       "      <td></td>\n",
       "      <td></td>\n",
       "      <td>NaN</td>\n",
       "      <td>[{'name': 'Chemical physics', 'w': 0.41215}, {...</td>\n",
       "      <td>{'raw': 'PPSC'}</td>\n",
       "      <td>NaN</td>\n",
       "      <td>NaN</td>\n",
       "    </tr>\n",
       "    <tr>\n",
       "      <th>3</th>\n",
       "      <td>136660</td>\n",
       "      <td>[{'name': 'Junji Tomita', 'id': 2097955466}, {...</td>\n",
       "      <td>Interactive Web Search by Graphical Query Refi...</td>\n",
       "      <td>2001</td>\n",
       "      <td>17</td>\n",
       "      <td></td>\n",
       "      <td></td>\n",
       "      <td></td>\n",
       "      <td></td>\n",
       "      <td></td>\n",
       "      <td></td>\n",
       "      <td></td>\n",
       "      <td>[1982451429, 1997841190, 2165612380]</td>\n",
       "      <td>[{'name': 'Query optimization', 'w': 0.70923},...</td>\n",
       "      <td>{'raw': 'WWW Posters'}</td>\n",
       "      <td>{'IndexLength': 78, 'InvertedIndex': {'through...</td>\n",
       "      <td>NaN</td>\n",
       "    </tr>\n",
       "    <tr>\n",
       "      <th>4</th>\n",
       "      <td>155019</td>\n",
       "      <td>[{'name': 'Giuseppe Attardi', 'id': 1557751177...</td>\n",
       "      <td>PIQASso: PIsa Question Answering System</td>\n",
       "      <td>2001</td>\n",
       "      <td>46</td>\n",
       "      <td>566</td>\n",
       "      <td>607</td>\n",
       "      <td>Conference</td>\n",
       "      <td>NIST</td>\n",
       "      <td></td>\n",
       "      <td></td>\n",
       "      <td></td>\n",
       "      <td>[26591655, 1511749302, 1565963236, 2094276686,...</td>\n",
       "      <td>[{'name': 'Logical relations', 'w': 0.0}, {'na...</td>\n",
       "      <td>{'raw': 'Text REtrieval Conference', 'id': 253...</td>\n",
       "      <td>{'IndexLength': 140, 'InvertedIndex': {'tagger...</td>\n",
       "      <td>NaN</td>\n",
       "    </tr>\n",
       "  </tbody>\n",
       "</table>\n",
       "</div>"
      ],
      "text/plain": [
       "       id                                            authors  \\\n",
       "0   75067  [{'name': 'Narciso Cerpa', 'id': 2571766951}, ...   \n",
       "1   40449  [{'name': 'José Luis Martín', 'id': 2322634291...   \n",
       "2   73220  [{'name': 'John F. Duff', 'id': 2670839461}, {...   \n",
       "3  136660  [{'name': 'Junji Tomita', 'id': 2097955466}, {...   \n",
       "4  155019  [{'name': 'Giuseppe Attardi', 'id': 1557751177...   \n",
       "\n",
       "                                               title  year  n_citation  \\\n",
       "0  Comparing Estimated with Actual Efforts for a ...  2001           0   \n",
       "1  Software Workbench for Movement Estimation bas...  2001           1   \n",
       "2     Parallel Molecular Dynamics on Scyld Clusters.  2001           0   \n",
       "3  Interactive Web Search by Graphical Query Refi...  2001          17   \n",
       "4            PIQASso: PIsa Question Answering System  2001          46   \n",
       "\n",
       "  page_start page_end    doc_type publisher volume issue doi  \\\n",
       "0        348      353  Conference      IIIS                    \n",
       "1        517      522                                          \n",
       "2                                                              \n",
       "3                                                              \n",
       "4        566      607  Conference      NIST                    \n",
       "\n",
       "                                          references  \\\n",
       "0  [1989212489, 2007884971, 2014210483, 202969654...   \n",
       "1                                                NaN   \n",
       "2                                                NaN   \n",
       "3               [1982451429, 1997841190, 2165612380]   \n",
       "4  [26591655, 1511749302, 1565963236, 2094276686,...   \n",
       "\n",
       "                                                 fos  \\\n",
       "0  [{'name': 'Software engineering', 'w': 0.46281...   \n",
       "1  [{'name': 'Workbench', 'w': 0.59515}, {'name':...   \n",
       "2  [{'name': 'Chemical physics', 'w': 0.41215}, {...   \n",
       "3  [{'name': 'Query optimization', 'w': 0.70923},...   \n",
       "4  [{'name': 'Logical relations', 'w': 0.0}, {'na...   \n",
       "\n",
       "                                               venue  \\\n",
       "0  {'raw': 'World Multiconference on Systemics, C...   \n",
       "1                                    {'raw': 'VIIP'}   \n",
       "2                                    {'raw': 'PPSC'}   \n",
       "3                             {'raw': 'WWW Posters'}   \n",
       "4  {'raw': 'Text REtrieval Conference', 'id': 253...   \n",
       "\n",
       "                                    indexed_abstract alias_ids  \n",
       "0                                                NaN       NaN  \n",
       "1                                                NaN       NaN  \n",
       "2                                                NaN       NaN  \n",
       "3  {'IndexLength': 78, 'InvertedIndex': {'through...       NaN  \n",
       "4  {'IndexLength': 140, 'InvertedIndex': {'tagger...       NaN  "
      ]
     },
     "execution_count": 2,
     "metadata": {},
     "output_type": "execute_result"
    }
   ],
   "source": [
    "data_papers = pd.read_pickle('../Data/papers_clean.pkl')\n",
    "data_papers.head()"
   ]
  },
  {
   "cell_type": "markdown",
   "metadata": {},
   "source": [
    "#### The list of features:\n",
    "\n",
    "* Topic Rank\n",
    "* Diversity\n",
    "* Productivity\n",
    "* H-index\n",
    "* Author Rank\n",
    "* Venue Rank\n",
    "* Maximum Past Influence of Authors (Past Influence of Authors)\n",
    "* Total Past Influence of Authors (Past Influence of Authors)\n",
    "* Maximum Past Influence of Venues (Past Influence of Venues)\n",
    "* Total Past Influence of Venues (Past Influence of Venues)\n",
    "* Versatility\n",
    "* Novelty\n",
    "* Sociality\n",
    "* Authority\n",
    "* Venue Centrality\n",
    "* First two years performance \n",
    "* Yearly citations "
   ]
  },
  {
   "cell_type": "markdown",
   "metadata": {},
   "source": [
    "#### The features that need merge (like multi authors) will be calculated during feature file creation "
   ]
  },
  {
   "cell_type": "markdown",
   "metadata": {},
   "source": [
    "#### Topic Rank"
   ]
  },
  {
   "cell_type": "markdown",
   "metadata": {},
   "source": [
    "steps:\n",
    "\n",
    "- take the fos of all rows\n",
    "- take the unique values\n",
    "- create a --- matrix where the columns are the topics and each row is a paper, if topic exist => 1, otherwise 0\n",
    "- have a table with the topic as ID\n",
    "- calculate the score for each ID ==> \n",
    "- third column should be the rank\n",
    "\n",
    "INF(topic/d)= P(topic/d) * INF(paper)\n",
    "score = sum(Weight of fos in Document * n_citation of that document) in all papers\n",
    "rank = sort(score,ascending)\n",
    "\n",
    "Table: topics (topic, score, rank)"
   ]
  },
  {
   "cell_type": "code",
   "execution_count": 6,
   "metadata": {},
   "outputs": [],
   "source": [
    "topics = data_papers['fos']"
   ]
  },
  {
   "cell_type": "markdown",
   "metadata": {},
   "source": [
    "#### Diversity"
   ]
  },
  {
   "cell_type": "markdown",
   "metadata": {},
   "source": [
    "steps:\n",
    "\n",
    "- loop the FOS sum the Shannon index\n",
    "- Shannon index = -w Ln (w)\n",
    "\n",
    "The higher the value the more diversity; The lower the value the more focused the paper is\n",
    "\n",
    "https://en.wikipedia.org/wiki/Diversity_index\n",
    "\n",
    "https://en.wikipedia.org/wiki/Entropy_(information_theory)\n",
    "\n",
    "Table: paper"
   ]
  },
  {
   "cell_type": "code",
   "execution_count": null,
   "metadata": {},
   "outputs": [],
   "source": []
  },
  {
   "cell_type": "markdown",
   "metadata": {},
   "source": [
    "#### Productivity "
   ]
  },
  {
   "cell_type": "markdown",
   "metadata": {},
   "source": [
    "steps (table):\n",
    "\n",
    "- option 1:\n",
    "    - each row: [{'name':\"name1\",'id':\"id1\", 'org':\"org1\"},{'name':\"name2\",'id':, 'org':\"\"},...]\n",
    "    - a = [['name1','id1','org1'],...]\n",
    "    - a = list(set(a))\n",
    "    - a = [['name1','id1','org1', [paper_id1,paper_id2,..]],...]\n",
    "\n",
    "- option 2:\n",
    "    - [ [['name1','id1','org1'],[paper_id1]], ...]\n",
    "\n",
    "- option 3*:\n",
    "    - loop the papers and make this:\n",
    "    - {'id1':['name1','org1',[paper_id1,paper_id2,..]],..}\n",
    "\n",
    "steps (feature):\n",
    "- len(papers)\n",
    "- calculate the final value during the feature file creation\n",
    "\n",
    "Table: Author (id, name, org, papers, productivity)"
   ]
  },
  {
   "cell_type": "code",
   "execution_count": null,
   "metadata": {},
   "outputs": [],
   "source": []
  },
  {
   "cell_type": "markdown",
   "metadata": {},
   "source": [
    "#### H-index "
   ]
  },
  {
   "cell_type": "markdown",
   "metadata": {},
   "source": [
    "steps:\n",
    "- use the code from before\n",
    "- calculate the final value during the feature file creation\n",
    "\n",
    "Table: Author (id, name, org, papers, productivity, h_index)"
   ]
  },
  {
   "cell_type": "code",
   "execution_count": null,
   "metadata": {},
   "outputs": [],
   "source": []
  },
  {
   "cell_type": "markdown",
   "metadata": {},
   "source": [
    "#### Author Rank"
   ]
  },
  {
   "cell_type": "markdown",
   "metadata": {},
   "source": [
    "steps:\n",
    "- get citation of the papers the author has\n",
    "- take average\n",
    "- give rank \n",
    "\n",
    "Table: Author (id, name, org, papers, productivity, h_index, citations, ave_cite, author_rank)"
   ]
  },
  {
   "cell_type": "code",
   "execution_count": null,
   "metadata": {},
   "outputs": [],
   "source": []
  },
  {
   "cell_type": "markdown",
   "metadata": {},
   "source": [
    "#### Venue Rank"
   ]
  },
  {
   "cell_type": "markdown",
   "metadata": {},
   "source": [
    "steps (table):\n",
    "- same way as author\n",
    "- loop the papers and make this:\n",
    "- {'id1':['raw1',[paper_id1,paper_id2,..]],..}\n",
    "\n",
    "\n",
    "steps (feature):\n",
    "- get citation of the papers the venue has\n",
    "- take average\n",
    "- give rank\n",
    "\n",
    "\n",
    "table: Venue (id, raw (or name), papers(list of ids), citations, ave_citation, rank)"
   ]
  },
  {
   "cell_type": "code",
   "execution_count": null,
   "metadata": {},
   "outputs": [],
   "source": []
  },
  {
   "cell_type": "markdown",
   "metadata": {},
   "source": [
    "#### Maximum Past Influence of Authors (Past Influence of Authors)"
   ]
  },
  {
   "cell_type": "markdown",
   "metadata": {},
   "source": [
    "steps:\n",
    "- max of citation\n",
    "\n",
    "Table: Author (id, name, org, papers, productivity, h_index, citations, ave_cite, author_rank, author_MPI)"
   ]
  },
  {
   "cell_type": "code",
   "execution_count": null,
   "metadata": {},
   "outputs": [],
   "source": []
  },
  {
   "cell_type": "markdown",
   "metadata": {},
   "source": [
    "#### Total Past Influence of Authors (Past Influence of Authors)"
   ]
  },
  {
   "cell_type": "markdown",
   "metadata": {},
   "source": [
    "steps:\n",
    "- total citation\n",
    "\n",
    "Table: Author (id, name, org, papers, productivity, h_index, citations, ave_cite, author_rank, author_MPI, author_TPI)"
   ]
  },
  {
   "cell_type": "code",
   "execution_count": null,
   "metadata": {},
   "outputs": [],
   "source": []
  },
  {
   "cell_type": "markdown",
   "metadata": {},
   "source": [
    "#### Maximum Past Influence of Venue (Past Influence of Venue)"
   ]
  },
  {
   "cell_type": "markdown",
   "metadata": {},
   "source": [
    "steps:\n",
    "- max of citation\n",
    "\n",
    "table: Venue (id, raw (or name), papers(list of ids), citations, ave_citation, rank, venur_MPI)"
   ]
  },
  {
   "cell_type": "code",
   "execution_count": null,
   "metadata": {},
   "outputs": [],
   "source": []
  },
  {
   "cell_type": "markdown",
   "metadata": {},
   "source": [
    "#### Total Past Influence of Venue (Past Influence of Venue)"
   ]
  },
  {
   "cell_type": "markdown",
   "metadata": {},
   "source": [
    "steps:\n",
    "- total citation\n",
    "\n",
    "table: Venue (id, raw (or name), papers(list of ids), citations, ave_citation, rank, venur_MPI, venur_TPI)"
   ]
  },
  {
   "cell_type": "code",
   "execution_count": null,
   "metadata": {},
   "outputs": [],
   "source": []
  },
  {
   "cell_type": "markdown",
   "metadata": {},
   "source": [
    "#### Versatility "
   ]
  },
  {
   "cell_type": "markdown",
   "metadata": {},
   "source": [
    "steps:\n",
    "- add column topics to table author (format: {'FOS1':average w, 'FOS2':average w, ...})\n",
    "- go over the FOS of papers of author\n",
    "    - if FOS in dic, value = value + w/productivity\n",
    "    - if not, create new key with FOS name and value FOS w/productivity\n",
    "- what we get per row {'FOS1':average w, 'FOS2':average w, ...}\n",
    "- loop the FOS sum the Shannon index\n",
    "- Shannon index = -w Ln (w)\n",
    "\n",
    "\n",
    "Table: Author (id, name, org, papers, productivity, h_index, citations, ave_cite, author_rank, author_MPI, author_TPI, versatility)"
   ]
  },
  {
   "cell_type": "code",
   "execution_count": null,
   "metadata": {},
   "outputs": [],
   "source": []
  },
  {
   "cell_type": "code",
   "execution_count": null,
   "metadata": {},
   "outputs": [],
   "source": []
  }
 ],
 "metadata": {
  "kernelspec": {
   "display_name": "Python 3",
   "language": "python",
   "name": "python3"
  },
  "language_info": {
   "codemirror_mode": {
    "name": "ipython",
    "version": 3
   },
   "file_extension": ".py",
   "mimetype": "text/x-python",
   "name": "python",
   "nbconvert_exporter": "python",
   "pygments_lexer": "ipython3",
   "version": "3.8.5"
  }
 },
 "nbformat": 4,
 "nbformat_minor": 4
}
