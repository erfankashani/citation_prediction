{
 "cells": [
  {
   "cell_type": "markdown",
   "metadata": {
    "id": "4exNW2mzYhGE"
   },
   "source": [
    "# Data Fetching and Cleaning"
   ]
  },
  {
   "cell_type": "markdown",
   "metadata": {
    "id": "pE4R-oqYYhGI"
   },
   "source": [
    "## Introduction"
   ]
  },
  {
   "cell_type": "markdown",
   "metadata": {
    "id": "yxN7uU8jYhGJ"
   },
   "source": [
    "In this notebook we will fetch the dataset and clean the necessary parts"
   ]
  },
  {
   "cell_type": "markdown",
   "metadata": {
    "id": "EmKfCmanYhGJ"
   },
   "source": [
    "### Infoemation about the Dataset"
   ]
  },
  {
   "cell_type": "markdown",
   "metadata": {
    "id": "CMmhi9iUYhGJ"
   },
   "source": [
    "Dataset is based on the AMiner V12 database. The database can be downloaded from https://www.aminer.org/citation\n",
    "\n",
    "The Predictors (Inputs): \n",
    "The Target (Output): 'n_citation' (number of citations)\n"
   ]
  },
  {
   "cell_type": "markdown",
   "metadata": {
    "id": "CJi2iN9cYhGJ"
   },
   "source": [
    "## Plan of Attack:\n",
    "1- Analyze the Raw Data from papers.csv authors.cvs orgs.csv\n",
    "2- Analyze the Features from feature.csv and check the correlations"
   ]
  },
  {
   "cell_type": "markdown",
   "metadata": {
    "id": "JWSSPlWXYhGK"
   },
   "source": [
    "### Adding the libraries"
   ]
  },
  {
   "cell_type": "code",
   "execution_count": 2,
   "metadata": {
    "colab": {
     "base_uri": "https://localhost:8080/"
    },
    "executionInfo": {
     "elapsed": 481,
     "status": "ok",
     "timestamp": 1616273322286,
     "user": {
      "displayName": "Fatima Tafazzoli",
      "photoUrl": "",
      "userId": "09248389573288862170"
     },
     "user_tz": 240
    },
    "id": "QsDkcYznYhGK",
    "outputId": "e3892616-1d7a-4d7f-f16f-8ce3f61248c2"
   },
   "outputs": [
    {
     "name": "stdout",
     "output_type": "stream",
     "text": [
      "Drive already mounted at /content/drive; to attempt to forcibly remount, call drive.mount(\"/content/drive\", force_remount=True).\n"
     ]
    }
   ],
   "source": [
    "import pandas as pd\n",
    "import matplotlib as plt\n",
    "import ast\n",
    "import numpy as np\n",
    "import seaborn as sns\n",
    "from statistics import mean\n",
    "import pickle\n",
    "from google.colab import drive\n",
    "drive.mount('/content/drive')"
   ]
  },
  {
   "cell_type": "markdown",
   "metadata": {
    "id": "n-bhMRRrYhGK"
   },
   "source": [
    "### Adding the Database"
   ]
  },
  {
   "cell_type": "code",
   "execution_count": 3,
   "metadata": {
    "colab": {
     "base_uri": "https://localhost:8080/",
     "height": 246
    },
    "executionInfo": {
     "elapsed": 43218,
     "status": "ok",
     "timestamp": 1616273366638,
     "user": {
      "displayName": "Fatima Tafazzoli",
      "photoUrl": "",
      "userId": "09248389573288862170"
     },
     "user_tz": 240
    },
    "id": "Mzak4flsYhGL",
    "outputId": "d804072e-9daa-40d2-e979-2772c11c19a3"
   },
   "outputs": [
    {
     "data": {
      "text/html": [
       "<div>\n",
       "<style scoped>\n",
       "    .dataframe tbody tr th:only-of-type {\n",
       "        vertical-align: middle;\n",
       "    }\n",
       "\n",
       "    .dataframe tbody tr th {\n",
       "        vertical-align: top;\n",
       "    }\n",
       "\n",
       "    .dataframe thead th {\n",
       "        text-align: right;\n",
       "    }\n",
       "</style>\n",
       "<table border=\"1\" class=\"dataframe\">\n",
       "  <thead>\n",
       "    <tr style=\"text-align: right;\">\n",
       "      <th></th>\n",
       "      <th>id</th>\n",
       "      <th>authors</th>\n",
       "      <th>year</th>\n",
       "      <th>n_citation</th>\n",
       "      <th>fos</th>\n",
       "      <th>venue</th>\n",
       "      <th>references</th>\n",
       "    </tr>\n",
       "  </thead>\n",
       "  <tbody>\n",
       "    <tr>\n",
       "      <th>0</th>\n",
       "      <td>1388</td>\n",
       "      <td>[{'name': 'Pranava K. Jha', 'id': 2718958994}]</td>\n",
       "      <td>2000</td>\n",
       "      <td>1</td>\n",
       "      <td>[{'name': 'Graph', 'w': 0.0}, {'name': 'Discre...</td>\n",
       "      <td>{'raw': 'Ars Combinatoria', 'id': 73158690, 't...</td>\n",
       "      <td>NaN</td>\n",
       "    </tr>\n",
       "    <tr>\n",
       "      <th>1</th>\n",
       "      <td>1688</td>\n",
       "      <td>[{'name': 'Altaf Hossain', 'org': 'Department ...</td>\n",
       "      <td>2009</td>\n",
       "      <td>6</td>\n",
       "      <td>[{'name': 'Autoregressive–moving-average model...</td>\n",
       "      <td>{'raw': 'Pattern Recognition and Machine Intel...</td>\n",
       "      <td>[1560724230, 1986968751, 2156909104]</td>\n",
       "    </tr>\n",
       "    <tr>\n",
       "      <th>2</th>\n",
       "      <td>5411</td>\n",
       "      <td>[{'name': 'Rafael Álvarez', 'id': 2125293936},...</td>\n",
       "      <td>2009</td>\n",
       "      <td>0</td>\n",
       "      <td>[{'name': 'Computer vision', 'w': 0.44692}, {'...</td>\n",
       "      <td>{'raw': 'International Conference on Computer ...</td>\n",
       "      <td>NaN</td>\n",
       "    </tr>\n",
       "    <tr>\n",
       "      <th>3</th>\n",
       "      <td>5781</td>\n",
       "      <td>[{'name': 'Jovan Dj. Golic', 'id': 1237859792}...</td>\n",
       "      <td>2004</td>\n",
       "      <td>2</td>\n",
       "      <td>[{'name': 'Pattern recognition', 'w': 0.36821}...</td>\n",
       "      <td>{'raw': 'IACR Cryptology ePrint Archive', 'id'...</td>\n",
       "      <td>NaN</td>\n",
       "    </tr>\n",
       "    <tr>\n",
       "      <th>4</th>\n",
       "      <td>6762</td>\n",
       "      <td>[{'name': 'Pranay Chaudhuri', 'id': 2142249029...</td>\n",
       "      <td>2003</td>\n",
       "      <td>0</td>\n",
       "      <td>[{'name': 'Computer science', 'w': 0.44568}, {...</td>\n",
       "      <td>{'raw': 'Parallel and Distributed Processing T...</td>\n",
       "      <td>NaN</td>\n",
       "    </tr>\n",
       "  </tbody>\n",
       "</table>\n",
       "</div>"
      ],
      "text/plain": [
       "     id  ...                            references\n",
       "0  1388  ...                                   NaN\n",
       "1  1688  ...  [1560724230, 1986968751, 2156909104]\n",
       "2  5411  ...                                   NaN\n",
       "3  5781  ...                                   NaN\n",
       "4  6762  ...                                   NaN\n",
       "\n",
       "[5 rows x 7 columns]"
      ]
     },
     "execution_count": 3,
     "metadata": {
      "tags": []
     },
     "output_type": "execute_result"
    }
   ],
   "source": [
    "data_papers = pd.read_pickle('drive/My Drive/Capstone/Data/papers0-2010.pkl')\n",
    "data_papers.head()"
   ]
  },
  {
   "cell_type": "markdown",
   "metadata": {
    "id": "h3KaE7yhYhGL"
   },
   "source": [
    "Lets Analyse each column:"
   ]
  },
  {
   "cell_type": "code",
   "execution_count": 4,
   "metadata": {
    "colab": {
     "base_uri": "https://localhost:8080/"
    },
    "executionInfo": {
     "elapsed": 643,
     "status": "ok",
     "timestamp": 1616273397279,
     "user": {
      "displayName": "Fatima Tafazzoli",
      "photoUrl": "",
      "userId": "09248389573288862170"
     },
     "user_tz": 240
    },
    "id": "OCrJAjd3YhGL",
    "outputId": "a23e80a3-56f3-4a7e-d231-b1a45c819d78"
   },
   "outputs": [
    {
     "name": "stdout",
     "output_type": "stream",
     "text": [
      "The shape of the data is:  (2262458, 7)\n"
     ]
    },
    {
     "data": {
      "text/plain": [
       "id             int64\n",
       "authors       object\n",
       "year           int64\n",
       "n_citation     int64\n",
       "fos           object\n",
       "venue         object\n",
       "references    object\n",
       "dtype: object"
      ]
     },
     "execution_count": 4,
     "metadata": {
      "tags": []
     },
     "output_type": "execute_result"
    }
   ],
   "source": [
    "print(\"The shape of the data is: \", str(data_papers.shape))\n",
    "data_papers.dtypes"
   ]
  },
  {
   "cell_type": "markdown",
   "metadata": {
    "id": "ADa3fkixYhGM"
   },
   "source": [
    "most of the data consist of Integers and Strings which is analyzed as object. Moreover, we know that n_citation is the type int64 but due to some data inconsistancies it is showing as an Object. We will try to clean the data first."
   ]
  },
  {
   "cell_type": "code",
   "execution_count": 5,
   "metadata": {
    "colab": {
     "base_uri": "https://localhost:8080/"
    },
    "executionInfo": {
     "elapsed": 1936,
     "status": "ok",
     "timestamp": 1616273401876,
     "user": {
      "displayName": "Fatima Tafazzoli",
      "photoUrl": "",
      "userId": "09248389573288862170"
     },
     "user_tz": 240
    },
    "id": "rzqp2f2yYhGM",
    "outputId": "da40c32e-a453-4274-80ae-24b6d518df6e"
   },
   "outputs": [
    {
     "data": {
      "text/plain": [
       "0"
      ]
     },
     "execution_count": 5,
     "metadata": {
      "tags": []
     },
     "output_type": "execute_result"
    }
   ],
   "source": [
    "# first checking for Null values\n",
    "data_papers['n_citation'].isnull().sum()\n",
    "\n",
    "# fill the null vlaue with zero (0)\n",
    "data_papers = data_papers.dropna(subset = ['n_citation','year'])\n",
    "\n",
    "# check the data agian for null value\n",
    "data_papers['n_citation'].isnull().sum()\n"
   ]
  },
  {
   "cell_type": "markdown",
   "metadata": {
    "id": "96cttO9pYhGM"
   },
   "source": [
    "One of the rows had the value of 'object' instead of the actual n_citaion value. We will drop that row."
   ]
  },
  {
   "cell_type": "code",
   "execution_count": 6,
   "metadata": {
    "executionInfo": {
     "elapsed": 1110,
     "status": "ok",
     "timestamp": 1616273403934,
     "user": {
      "displayName": "Fatima Tafazzoli",
      "photoUrl": "",
      "userId": "09248389573288862170"
     },
     "user_tz": 240
    },
    "id": "ZQCt3Z2fYhGM"
   },
   "outputs": [],
   "source": [
    "data_papers = data_papers.drop(data_papers.loc[data_papers['n_citation'] == 'Journal'].index)"
   ]
  },
  {
   "cell_type": "markdown",
   "metadata": {
    "id": "7owr6KU7YhGM"
   },
   "source": [
    "Some of the rows have the citaion value in String format while others are in the Int format. We change all the values into integers for consistancy"
   ]
  },
  {
   "cell_type": "code",
   "execution_count": 7,
   "metadata": {
    "colab": {
     "base_uri": "https://localhost:8080/"
    },
    "executionInfo": {
     "elapsed": 683,
     "status": "ok",
     "timestamp": 1616273406416,
     "user": {
      "displayName": "Fatima Tafazzoli",
      "photoUrl": "",
      "userId": "09248389573288862170"
     },
     "user_tz": 240
    },
    "id": "VQ4-vkDbYhGN",
    "outputId": "d74641ba-7aab-401c-ddf0-575f295590f8"
   },
   "outputs": [
    {
     "data": {
      "text/plain": [
       "0          1\n",
       "1          6\n",
       "2          0\n",
       "3          2\n",
       "4          0\n",
       "          ..\n",
       "2262453    0\n",
       "2262454    6\n",
       "2262455    0\n",
       "2262456    2\n",
       "2262457    0\n",
       "Name: n_citation, Length: 2262458, dtype: int64"
      ]
     },
     "execution_count": 7,
     "metadata": {
      "tags": []
     },
     "output_type": "execute_result"
    }
   ],
   "source": [
    "data_papers['n_citation'] = pd.to_numeric(data_papers['n_citation'])\n",
    "data_papers['n_citation']"
   ]
  },
  {
   "cell_type": "code",
   "execution_count": 8,
   "metadata": {
    "colab": {
     "base_uri": "https://localhost:8080/"
    },
    "executionInfo": {
     "elapsed": 373,
     "status": "ok",
     "timestamp": 1616273406873,
     "user": {
      "displayName": "Fatima Tafazzoli",
      "photoUrl": "",
      "userId": "09248389573288862170"
     },
     "user_tz": 240
    },
    "id": "9z63W8MYYhGN",
    "outputId": "86b53571-20f2-4e13-f43e-c57c53a67738"
   },
   "outputs": [
    {
     "data": {
      "text/plain": [
       "id             int64\n",
       "authors       object\n",
       "year           int64\n",
       "n_citation     int64\n",
       "fos           object\n",
       "venue         object\n",
       "references    object\n",
       "dtype: object"
      ]
     },
     "execution_count": 8,
     "metadata": {
      "tags": []
     },
     "output_type": "execute_result"
    }
   ],
   "source": [
    "data_papers.dtypes"
   ]
  },
  {
   "cell_type": "markdown",
   "metadata": {
    "id": "y94TvldjYhGN"
   },
   "source": [
    "Now we see that the n_ciation type is an int64. Lets understand the basic statistical details like count, percentile, mean, std, max and min vlaues for the number of citaions."
   ]
  },
  {
   "cell_type": "code",
   "execution_count": 9,
   "metadata": {
    "colab": {
     "base_uri": "https://localhost:8080/"
    },
    "executionInfo": {
     "elapsed": 448,
     "status": "ok",
     "timestamp": 1616273409126,
     "user": {
      "displayName": "Fatima Tafazzoli",
      "photoUrl": "",
      "userId": "09248389573288862170"
     },
     "user_tz": 240
    },
    "id": "J7NfCP7hYhGN",
    "outputId": "6c182af1-fa81-4dcc-f411-c6d8dab23d46"
   },
   "outputs": [
    {
     "name": "stdout",
     "output_type": "stream",
     "text": [
      "<class 'pandas.core.frame.DataFrame'>\n",
      "Int64Index: 2262458 entries, 0 to 2262457\n",
      "Data columns (total 7 columns):\n",
      " #   Column      Dtype \n",
      "---  ------      ----- \n",
      " 0   id          int64 \n",
      " 1   authors     object\n",
      " 2   year        int64 \n",
      " 3   n_citation  int64 \n",
      " 4   fos         object\n",
      " 5   venue       object\n",
      " 6   references  object\n",
      "dtypes: int64(3), object(4)\n",
      "memory usage: 218.1+ MB\n"
     ]
    }
   ],
   "source": [
    "data_papers.info()"
   ]
  },
  {
   "cell_type": "code",
   "execution_count": 10,
   "metadata": {
    "colab": {
     "base_uri": "https://localhost:8080/"
    },
    "executionInfo": {
     "elapsed": 590,
     "status": "ok",
     "timestamp": 1616273409921,
     "user": {
      "displayName": "Fatima Tafazzoli",
      "photoUrl": "",
      "userId": "09248389573288862170"
     },
     "user_tz": 240
    },
    "id": "r8sB11V4YhGN",
    "outputId": "cbaf74e1-66fa-4ade-e114-26a8dc00e4ee"
   },
   "outputs": [
    {
     "data": {
      "text/plain": [
       "count    2.262458e+06\n",
       "mean     2.676727e+01\n",
       "std      1.599074e+02\n",
       "min      0.000000e+00\n",
       "25%      1.000000e+00\n",
       "50%      6.000000e+00\n",
       "75%      1.900000e+01\n",
       "max      4.832700e+04\n",
       "Name: n_citation, dtype: float64"
      ]
     },
     "execution_count": 10,
     "metadata": {
      "tags": []
     },
     "output_type": "execute_result"
    }
   ],
   "source": [
    "data_papers['n_citation'].describe()"
   ]
  },
  {
   "cell_type": "markdown",
   "metadata": {
    "id": "U0WKxjfRYhGO"
   },
   "source": [
    "Looking at the data, the mean value for citations is about 13 while the median is 3. this shows the data is fairly \n",
    "skewed. It shows half of the papers have lower than 3 citaions while 75% of the data have lower than 9 citation.\n",
    "\n",
    "- We suspect the max value 42080 can be an outlier\n"
   ]
  },
  {
   "cell_type": "markdown",
   "metadata": {
    "id": "QVP3xUn2YhGO"
   },
   "source": [
    "Lets look into the largest values of the dataset and how many times they were repeated."
   ]
  },
  {
   "cell_type": "code",
   "execution_count": 11,
   "metadata": {
    "colab": {
     "base_uri": "https://localhost:8080/"
    },
    "executionInfo": {
     "elapsed": 716,
     "status": "ok",
     "timestamp": 1616273413367,
     "user": {
      "displayName": "Fatima Tafazzoli",
      "photoUrl": "",
      "userId": "09248389573288862170"
     },
     "user_tz": 240
    },
    "id": "p2CM3N1BYhGO",
    "outputId": "90967342-fe21-4914-d88c-15dfb9537d54"
   },
   "outputs": [
    {
     "data": {
      "text/plain": [
       "[(2187900, 48327),\n",
       " (2149601, 44175),\n",
       " (2038669, 42437),\n",
       " (1913882, 35541),\n",
       " (2037995, 34741),\n",
       " (748857, 32053),\n",
       " (1770277, 28886),\n",
       " (500161, 25855),\n",
       " (1451066, 22276),\n",
       " (726456, 22122),\n",
       " (1309878, 21301),\n",
       " (1505282, 21153),\n",
       " (1676638, 20976),\n",
       " (1351035, 20162),\n",
       " (1667904, 19801),\n",
       " (1813278, 19433),\n",
       " (1890986, 19427),\n",
       " (539967, 19392),\n",
       " (1599177, 18732),\n",
       " (1174722, 18098),\n",
       " (1570400, 17339),\n",
       " (1808731, 17261),\n",
       " (1913970, 17231),\n",
       " (1561491, 17135),\n",
       " (2178383, 17118),\n",
       " (1564479, 16652),\n",
       " (1279861, 16450),\n",
       " (2214464, 16276),\n",
       " (1186770, 15271),\n",
       " (1935120, 15261)]"
      ]
     },
     "execution_count": 11,
     "metadata": {
      "tags": []
     },
     "output_type": "execute_result"
    }
   ],
   "source": [
    "top = data_papers['n_citation'].sort_values(ascending=False).head(30)\n",
    "top_dict = list(zip(top.index, top.values))\n",
    "top_dict"
   ]
  },
  {
   "cell_type": "markdown",
   "metadata": {
    "id": "W9YgG-QxYhGO"
   },
   "source": [
    "Plot the Citations vs number they have been used"
   ]
  },
  {
   "cell_type": "code",
   "execution_count": 12,
   "metadata": {
    "colab": {
     "base_uri": "https://localhost:8080/",
     "height": 388
    },
    "executionInfo": {
     "elapsed": 789,
     "status": "ok",
     "timestamp": 1616273415552,
     "user": {
      "displayName": "Fatima Tafazzoli",
      "photoUrl": "",
      "userId": "09248389573288862170"
     },
     "user_tz": 240
    },
    "id": "bKRp990OYhGO",
    "outputId": "b0d1c914-d00d-4dd5-b1e0-a36939b1966c"
   },
   "outputs": [
    {
     "data": {
      "text/plain": [
       "<seaborn.axisgrid.FacetGrid at 0x7f080afbc290>"
      ]
     },
     "execution_count": 12,
     "metadata": {
      "tags": []
     },
     "output_type": "execute_result"
    },
    {
     "data": {
      "image/png": "[encoded data removed]",
      "text/plain": [
       "<Figure size 360x360 with 1 Axes>"
      ]
     },
     "metadata": {
      "needs_background": "light",
      "tags": []
     },
     "output_type": "display_data"
    }
   ],
   "source": [
    "top_df = pd.DataFrame(top_dict, columns =['n_citation', 'Frequency']) \n",
    "sns.lmplot( x='n_citation', y='Frequency', data = top_df)"
   ]
  },
  {
   "cell_type": "markdown",
   "metadata": {
    "id": "2Q7FnrZXYhGP"
   },
   "source": [
    "Lets Also Analyze the number of citations vs. the year of publication (this takes 5 min to complete)"
   ]
  },
  {
   "cell_type": "code",
   "execution_count": 13,
   "metadata": {
    "executionInfo": {
     "elapsed": 425,
     "status": "ok",
     "timestamp": 1616273417051,
     "user": {
      "displayName": "Fatima Tafazzoli",
      "photoUrl": "",
      "userId": "09248389573288862170"
     },
     "user_tz": 240
    },
    "id": "1pf9enbcYhGP"
   },
   "outputs": [],
   "source": [
    "# import matplotlib.pyplot as plt\n",
    "# fig, ax = plt.subplots() \n",
    "# # get x and y data \n",
    "# year = data_papers['year']\n",
    "# citation = data_papers['n_citation'] \n",
    "# # create bar chart \n",
    "# ax.bar(year, citation) \n",
    "# # set title and labels \n",
    "# ax.set_title('Wine Review Scores') \n",
    "# ax.set_xlabel('Ciataion') \n",
    "# ax.set_ylabel('Frequency')"
   ]
  },
  {
   "cell_type": "code",
   "execution_count": 14,
   "metadata": {
    "colab": {
     "base_uri": "https://localhost:8080/",
     "height": 297
    },
    "executionInfo": {
     "elapsed": 1695,
     "status": "ok",
     "timestamp": 1616273420546,
     "user": {
      "displayName": "Fatima Tafazzoli",
      "photoUrl": "",
      "userId": "09248389573288862170"
     },
     "user_tz": 240
    },
    "id": "F7B-gbKLYhGP",
    "outputId": "40c520b6-6797-4f1f-de1f-943e2c11ce45"
   },
   "outputs": [
    {
     "data": {
      "text/plain": [
       "<matplotlib.axes._subplots.AxesSubplot at 0x7f04d369bc10>"
      ]
     },
     "execution_count": 14,
     "metadata": {
      "tags": []
     },
     "output_type": "execute_result"
    },
    {
     "data": {
      "image/png": "[encoded data removed]",
      "text/plain": [
       "<Figure size 432x288 with 1 Axes>"
      ]
     },
     "metadata": {
      "needs_background": "light",
      "tags": []
     },
     "output_type": "display_data"
    }
   ],
   "source": [
    "# print(data_papers.boxplot(column='year'))\n",
    "sns.boxplot(x=data_papers['n_citation'])"
   ]
  },
  {
   "cell_type": "markdown",
   "metadata": {
    "id": "b2EtFLpgYhGP"
   },
   "source": [
    "Here we can visually see that most of the citations are close to 3-10 and there are skewed data between 10-15000. There is also a surge of data in abour 40000 citations"
   ]
  },
  {
   "cell_type": "markdown",
   "metadata": {
    "id": "7suIV_J5YhGP"
   },
   "source": [
    "### Analyzing the other columns"
   ]
  },
  {
   "cell_type": "markdown",
   "metadata": {
    "id": "5lYzuc_EYhGP"
   },
   "source": [
    "#### analyze the column 'year'"
   ]
  },
  {
   "cell_type": "code",
   "execution_count": 15,
   "metadata": {
    "colab": {
     "base_uri": "https://localhost:8080/"
    },
    "executionInfo": {
     "elapsed": 485,
     "status": "ok",
     "timestamp": 1616273424882,
     "user": {
      "displayName": "Fatima Tafazzoli",
      "photoUrl": "",
      "userId": "09248389573288862170"
     },
     "user_tz": 240
    },
    "id": "TYL-E8p9YhGP",
    "outputId": "790d232a-dab1-454c-de56-969899002fde",
    "scrolled": false
   },
   "outputs": [
    {
     "data": {
      "text/plain": [
       "0    2000\n",
       "1    2009\n",
       "2    2009\n",
       "Name: year, dtype: int64"
      ]
     },
     "execution_count": 15,
     "metadata": {
      "tags": []
     },
     "output_type": "execute_result"
    }
   ],
   "source": [
    "data_papers['year'].head(3)"
   ]
  },
  {
   "cell_type": "markdown",
   "metadata": {
    "id": "roBj3SYlYhGQ"
   },
   "source": [
    "The years are represented as float64 format. We try to change them into int64."
   ]
  },
  {
   "cell_type": "code",
   "execution_count": 20,
   "metadata": {
    "colab": {
     "base_uri": "https://localhost:8080/"
    },
    "executionInfo": {
     "elapsed": 698,
     "status": "ok",
     "timestamp": 1616273506399,
     "user": {
      "displayName": "Fatima Tafazzoli",
      "photoUrl": "",
      "userId": "09248389573288862170"
     },
     "user_tz": 240
    },
    "id": "5HCzt_DXYhGQ",
    "outputId": "969790d0-9d9f-4e5b-94ef-4e226518c255",
    "scrolled": true
   },
   "outputs": [
    {
     "name": "stdout",
     "output_type": "stream",
     "text": [
      "Empty DataFrame\n",
      "Columns: [id, authors, year, n_citation, fos, venue, references]\n",
      "Index: []\n"
     ]
    },
    {
     "data": {
      "text/plain": [
       "array([2000, 2009, 2004, 2003, 2002, 2006, 1979, 2008, 2007, 1984, 1995,\n",
       "       1997, 1977, 1986, 1988, 1989, 1990, 1994, 1998, 1981, 2001, 1991,\n",
       "       1999, 1992, 2005, 1980, 2010, 1993, 1996, 1987, 1982, 1978, 1974,\n",
       "       1983, 1985, 1975, 1969, 1972, 1968, 1970, 1962, 1971, 1973, 1959,\n",
       "       1976, 1966, 1961, 1967, 1960, 1965, 1964, 1963, 1954, 1946, 1950,\n",
       "       1934, 1951, 1958, 1800, 1916, 1957, 1911, 1884, 1899, 1939, 1947,\n",
       "       1914, 1953, 1938, 1925, 1931, 1956, 1926, 1937, 1936, 1838, 1948,\n",
       "       1935, 1952, 1949, 1923, 1857, 1955, 1944, 1941, 1945, 1942, 1886,\n",
       "       1943, 1940, 1927, 1932, 1930, 1920, 1912, 1900, 1933, 1882, 1929,\n",
       "       1871, 1866])"
      ]
     },
     "execution_count": 20,
     "metadata": {
      "tags": []
     },
     "output_type": "execute_result"
    }
   ],
   "source": [
    "column_name = 'year'\n",
    "\n",
    "# first check for null value in the column\n",
    "print(data_papers[data_papers[column_name].isnull()])\n",
    "\n",
    "# change the data type into int64\n",
    "data_papers[column_name] = data_papers[column_name].astype(np.int64)\n",
    "\n",
    "# check for unique values\n",
    "data_papers[column_name].unique()"
   ]
  },
  {
   "cell_type": "markdown",
   "metadata": {
    "id": "GopTbmFzYhGQ"
   },
   "source": [
    "#### Alias_ids\n",
    "After checking the alias_ids we concluded that it is not a consistant attribute in the database. there are 480 instances in a 80k sample.\n",
    "\n",
    "#### Fos\n",
    "fos has 385 NaN values which was decided to be dropped from the dataset.\n",
    "\n",
    "#### Venue\n",
    "venue has 784 NaN values and it was decided to be dropped from the dataset"
   ]
  },
  {
   "cell_type": "markdown",
   "metadata": {
    "id": "W09BlRRCYhGQ"
   },
   "source": [
    "#### analyze the column fos"
   ]
  },
  {
   "cell_type": "code",
   "execution_count": 17,
   "metadata": {
    "colab": {
     "base_uri": "https://localhost:8080/"
    },
    "executionInfo": {
     "elapsed": 1646,
     "status": "ok",
     "timestamp": 1616273492934,
     "user": {
      "displayName": "Fatima Tafazzoli",
      "photoUrl": "",
      "userId": "09248389573288862170"
     },
     "user_tz": 240
    },
    "id": "giXxpmwrYhGQ",
    "outputId": "31f89d88-9dc4-4173-a768-3c6b247b2de9"
   },
   "outputs": [
    {
     "name": "stdout",
     "output_type": "stream",
     "text": [
      "11914\n"
     ]
    }
   ],
   "source": [
    "print(data_papers['fos'].isnull().sum())\n",
    "data_papers = data_papers.dropna(subset = ['fos'])"
   ]
  },
  {
   "cell_type": "code",
   "execution_count": 18,
   "metadata": {
    "colab": {
     "base_uri": "https://localhost:8080/"
    },
    "executionInfo": {
     "elapsed": 1167,
     "status": "ok",
     "timestamp": 1616273494397,
     "user": {
      "displayName": "Fatima Tafazzoli",
      "photoUrl": "",
      "userId": "09248389573288862170"
     },
     "user_tz": 240
    },
    "id": "Q7EsiqViYhGQ",
    "outputId": "540b72cb-713c-4d2a-c40f-f3d15c55a144",
    "scrolled": false
   },
   "outputs": [
    {
     "name": "stdout",
     "output_type": "stream",
     "text": [
      "24386\n"
     ]
    }
   ],
   "source": [
    "print(data_papers['venue'].isnull().sum())\n",
    "data_papers = data_papers.dropna(subset = ['venue'])"
   ]
  },
  {
   "cell_type": "markdown",
   "metadata": {
    "id": "Aoetl91ZYhGR"
   },
   "source": [
    "saving the data as pickel for next section"
   ]
  },
  {
   "cell_type": "code",
   "execution_count": 21,
   "metadata": {
    "executionInfo": {
     "elapsed": 61312,
     "status": "ok",
     "timestamp": 1616273576302,
     "user": {
      "displayName": "Fatima Tafazzoli",
      "photoUrl": "",
      "userId": "09248389573288862170"
     },
     "user_tz": 240
    },
    "id": "PlPi-PgdYhGR"
   },
   "outputs": [],
   "source": [
    "pickle_path = 'drive/My Drive/Capstone/Data/papers0-2010_clean.pkl'\n",
    "data_papers.to_pickle(pickle_path)"
   ]
  },
  {
   "cell_type": "code",
   "execution_count": 19,
   "metadata": {
    "executionInfo": {
     "elapsed": 784,
     "status": "ok",
     "timestamp": 1616273497811,
     "user": {
      "displayName": "Fatima Tafazzoli",
      "photoUrl": "",
      "userId": "09248389573288862170"
     },
     "user_tz": 240
    },
    "id": "muvsYw3IYhGR"
   },
   "outputs": [],
   "source": [
    "data_papers = data_papers[data_papers['year']>1000]"
   ]
  },
  {
   "cell_type": "markdown",
   "metadata": {
    "id": "v-9HO7xsYhGR"
   },
   "source": [
    "TODO:\n",
    "- Try the same analysis on some other years, making sure the NaN values for other years are not too different.\n",
    "- Feature selection and extraction\n",
    "  - the graph features\n",
    "  - h-index etc."
   ]
  },
  {
   "cell_type": "markdown",
   "metadata": {
    "id": "rjcr2I-gYhGR"
   },
   "source": [
    "### Adding the Current Features"
   ]
  },
  {
   "cell_type": "code",
   "execution_count": null,
   "metadata": {
    "id": "lmr95ZK6YhGR"
   },
   "outputs": [],
   "source": [
    "data_features = pd.read_csv('../Data/features100.csv')\n",
    "data_features.head()"
   ]
  },
  {
   "cell_type": "code",
   "execution_count": null,
   "metadata": {
    "id": "OM78-njYYhGR"
   },
   "outputs": [],
   "source": []
  },
  {
   "cell_type": "markdown",
   "metadata": {
    "id": "ZDQi9aacYhGS"
   },
   "source": [
    "### Saving the temp dataframes for later use "
   ]
  },
  {
   "cell_type": "markdown",
   "metadata": {
    "id": "ssI99Xx0YhGS"
   },
   "source": [
    "We can use 'feather' to save the dataFrames into binary which later can be loaded. much more efficient than saving using CSV"
   ]
  },
  {
   "cell_type": "markdown",
   "metadata": {
    "id": "a0Vd5G_cYhGS"
   },
   "source": [
    "### TO-DOs\n",
    "read the below for feature engineering:\n",
    "- https://towardsdatascience.com/feature-engineering-for-machine-learning-3a5e293a5114\n"
   ]
  },
  {
   "cell_type": "markdown",
   "metadata": {
    "id": "EFUBB2cMYhGS"
   },
   "source": [
    "### Ideas to save the RAM space\n",
    "\n",
    "1- memory optimization step we can perform already at this point (assuming we know our table structure by now) \n",
    "   is specifying the columns data types during the import (via the dtype= input parameter).\n",
    "\n",
    "```\n",
    "df = pd.read_csv(‘data/clickstream_data.tsv’, \n",
    "    delimiter=’\\t’,\n",
    "    names=[‘coming_from’, ‘article’, ‘referrer_type’, ‘n’],\n",
    "    dtype={\n",
    "        ‘referrer_type’: ‘category’, \n",
    "        ’n’: ‘uint32’}\n",
    ")\n",
    "```\n",
    "\n",
    "2- using the python Dask library which uses parallel computing and supports dask dataframs.\n",
    "3- migrate the data into postgreSQL and write quaries. it can be connected into your jupyter notebook.\n",
    "\n",
    "\n",
    "source: https://towardsdatascience.com/how-to-handle-large-datasets-in-python-with-pandas-and-dask-34f43a897d55\n"
   ]
  }
 ],
 "metadata": {
  "colab": {
   "machine_shape": "hm",
   "name": "1-Data-cleaning.ipynb",
   "provenance": []
  },
  "kernelspec": {
   "display_name": "Python 3",
   "language": "python",
   "name": "python3"
  },
  "language_info": {
   "codemirror_mode": {
    "name": "ipython",
    "version": 3
   },
   "file_extension": ".py",
   "mimetype": "text/x-python",
   "name": "python",
   "nbconvert_exporter": "python",
   "pygments_lexer": "ipython3",
   "version": "3.8.8"
  }
 },
 "nbformat": 4,
 "nbformat_minor": 1
}
