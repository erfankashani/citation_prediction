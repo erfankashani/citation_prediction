{
 "cells": [
  {
   "cell_type": "markdown",
   "metadata": {
    "id": "4exNW2mzYhGE"
   },
   "source": [
    "# Data Fetching and Cleaning"
   ]
  },
  {
   "cell_type": "markdown",
   "metadata": {
    "id": "pE4R-oqYYhGI"
   },
   "source": [
    "## Introduction"
   ]
  },
  {
   "cell_type": "markdown",
   "metadata": {
    "id": "yxN7uU8jYhGJ"
   },
   "source": [
    "In this notebook we will fetch the dataset and clean the necessary parts"
   ]
  },
  {
   "cell_type": "markdown",
   "metadata": {
    "id": "EmKfCmanYhGJ"
   },
   "source": [
    "### Infoemation about the Dataset"
   ]
  },
  {
   "cell_type": "markdown",
   "metadata": {
    "id": "CMmhi9iUYhGJ"
   },
   "source": [
    "Dataset is based on the AMiner V12 database. The database can be downloaded from https://www.aminer.org/citation\n",
    "\n",
    "The Predictors (Inputs): \n",
    "The Target (Output): 'n_citation' (number of citations)\n"
   ]
  },
  {
   "cell_type": "markdown",
   "metadata": {
    "id": "JWSSPlWXYhGK"
   },
   "source": [
    "### Adding the libraries"
   ]
  },
  {
   "cell_type": "code",
   "execution_count": null,
   "metadata": {
    "colab": {
     "base_uri": "https://localhost:8080/"
    },
    "executionInfo": {
     "elapsed": 481,
     "status": "ok",
     "timestamp": 1616273322286,
     "user": {
      "displayName": "Fatima Tafazzoli",
      "photoUrl": "",
      "userId": "09248389573288862170"
     },
     "user_tz": 240
    },
    "id": "QsDkcYznYhGK",
    "outputId": "e3892616-1d7a-4d7f-f16f-8ce3f61248c2"
   },
   "outputs": [],
   "source": [
    "import pandas as pd\n",
    "import matplotlib as plt\n",
    "import ast\n",
    "import numpy as np\n",
    "import seaborn as sns\n",
    "from statistics import mean\n",
    "import pickle"
   ]
  },
  {
   "cell_type": "markdown",
   "metadata": {
    "id": "n-bhMRRrYhGK"
   },
   "source": [
    "### Adding the Database"
   ]
  },
  {
   "cell_type": "code",
   "execution_count": null,
   "metadata": {
    "colab": {
     "base_uri": "https://localhost:8080/",
     "height": 246
    },
    "executionInfo": {
     "elapsed": 43218,
     "status": "ok",
     "timestamp": 1616273366638,
     "user": {
      "displayName": "Fatima Tafazzoli",
      "photoUrl": "",
      "userId": "09248389573288862170"
     },
     "user_tz": 240
    },
    "id": "Mzak4flsYhGL",
    "outputId": "d804072e-9daa-40d2-e979-2772c11c19a3"
   },
   "outputs": [],
   "source": [
    "data_papers = pd.read_pickle('../Data/papers0-2010.pkl')\n",
    "data_papers.head()"
   ]
  },
  {
   "cell_type": "markdown",
   "metadata": {
    "id": "h3KaE7yhYhGL"
   },
   "source": [
    "Lets Analyse each column:"
   ]
  },
  {
   "cell_type": "code",
   "execution_count": null,
   "metadata": {
    "colab": {
     "base_uri": "https://localhost:8080/"
    },
    "executionInfo": {
     "elapsed": 643,
     "status": "ok",
     "timestamp": 1616273397279,
     "user": {
      "displayName": "Fatima Tafazzoli",
      "photoUrl": "",
      "userId": "09248389573288862170"
     },
     "user_tz": 240
    },
    "id": "OCrJAjd3YhGL",
    "outputId": "a23e80a3-56f3-4a7e-d231-b1a45c819d78"
   },
   "outputs": [],
   "source": [
    "print(\"The shape of the data is: \", str(data_papers.shape))\n",
    "data_papers.dtypes"
   ]
  },
  {
   "cell_type": "markdown",
   "metadata": {},
   "source": [
    "## Data Analysis and Cleaning"
   ]
  },
  {
   "cell_type": "markdown",
   "metadata": {
    "id": "ADa3fkixYhGM"
   },
   "source": [
    "most of the data consist of Integers and Strings which is analyzed as object. Moreover, we know that n_citation is the type int64 but due to some data inconsistancies it is showing as an Object. We will try to clean the data first."
   ]
  },
  {
   "cell_type": "code",
   "execution_count": null,
   "metadata": {
    "colab": {
     "base_uri": "https://localhost:8080/"
    },
    "executionInfo": {
     "elapsed": 1936,
     "status": "ok",
     "timestamp": 1616273401876,
     "user": {
      "displayName": "Fatima Tafazzoli",
      "photoUrl": "",
      "userId": "09248389573288862170"
     },
     "user_tz": 240
    },
    "id": "rzqp2f2yYhGM",
    "outputId": "da40c32e-a453-4274-80ae-24b6d518df6e"
   },
   "outputs": [],
   "source": [
    "# first checking for Null values\n",
    "data_papers['n_citation'].isnull().sum()\n",
    "\n",
    "# fill the null vlaue with zero (0)\n",
    "data_papers = data_papers.dropna(subset = ['n_citation','year'])\n",
    "\n",
    "# check the data agian for null value\n",
    "data_papers['n_citation'].isnull().sum()"
   ]
  },
  {
   "cell_type": "markdown",
   "metadata": {
    "id": "96cttO9pYhGM"
   },
   "source": [
    "One of the rows had the value of 'object' instead of the actual n_citaion value. We will drop that row."
   ]
  },
  {
   "cell_type": "code",
   "execution_count": null,
   "metadata": {
    "executionInfo": {
     "elapsed": 1110,
     "status": "ok",
     "timestamp": 1616273403934,
     "user": {
      "displayName": "Fatima Tafazzoli",
      "photoUrl": "",
      "userId": "09248389573288862170"
     },
     "user_tz": 240
    },
    "id": "ZQCt3Z2fYhGM"
   },
   "outputs": [],
   "source": [
    "data_papers = data_papers.drop(data_papers.loc[data_papers['n_citation'] == 'Journal'].index)"
   ]
  },
  {
   "cell_type": "markdown",
   "metadata": {
    "id": "7owr6KU7YhGM"
   },
   "source": [
    "Some of the rows have the citaion value in String format while others are in the Int format. We change all the values into integers for consistancy"
   ]
  },
  {
   "cell_type": "code",
   "execution_count": null,
   "metadata": {
    "colab": {
     "base_uri": "https://localhost:8080/"
    },
    "executionInfo": {
     "elapsed": 683,
     "status": "ok",
     "timestamp": 1616273406416,
     "user": {
      "displayName": "Fatima Tafazzoli",
      "photoUrl": "",
      "userId": "09248389573288862170"
     },
     "user_tz": 240
    },
    "id": "VQ4-vkDbYhGN",
    "outputId": "d74641ba-7aab-401c-ddf0-575f295590f8"
   },
   "outputs": [],
   "source": [
    "data_papers['n_citation'] = pd.to_numeric(data_papers['n_citation'])\n",
    "data_papers['n_citation']"
   ]
  },
  {
   "cell_type": "code",
   "execution_count": null,
   "metadata": {
    "colab": {
     "base_uri": "https://localhost:8080/"
    },
    "executionInfo": {
     "elapsed": 373,
     "status": "ok",
     "timestamp": 1616273406873,
     "user": {
      "displayName": "Fatima Tafazzoli",
      "photoUrl": "",
      "userId": "09248389573288862170"
     },
     "user_tz": 240
    },
    "id": "9z63W8MYYhGN",
    "outputId": "86b53571-20f2-4e13-f43e-c57c53a67738"
   },
   "outputs": [],
   "source": [
    "data_papers.dtypes"
   ]
  },
  {
   "cell_type": "markdown",
   "metadata": {
    "id": "y94TvldjYhGN"
   },
   "source": [
    "Now we see that the n_ciation type is an int64. Lets understand the basic statistical details like count, percentile, mean, std, max and min vlaues for the number of citaions."
   ]
  },
  {
   "cell_type": "code",
   "execution_count": null,
   "metadata": {
    "colab": {
     "base_uri": "https://localhost:8080/"
    },
    "executionInfo": {
     "elapsed": 448,
     "status": "ok",
     "timestamp": 1616273409126,
     "user": {
      "displayName": "Fatima Tafazzoli",
      "photoUrl": "",
      "userId": "09248389573288862170"
     },
     "user_tz": 240
    },
    "id": "J7NfCP7hYhGN",
    "outputId": "6c182af1-fa81-4dcc-f411-c6d8dab23d46"
   },
   "outputs": [],
   "source": [
    "data_papers.info()"
   ]
  },
  {
   "cell_type": "code",
   "execution_count": null,
   "metadata": {
    "colab": {
     "base_uri": "https://localhost:8080/"
    },
    "executionInfo": {
     "elapsed": 590,
     "status": "ok",
     "timestamp": 1616273409921,
     "user": {
      "displayName": "Fatima Tafazzoli",
      "photoUrl": "",
      "userId": "09248389573288862170"
     },
     "user_tz": 240
    },
    "id": "r8sB11V4YhGN",
    "outputId": "cbaf74e1-66fa-4ade-e114-26a8dc00e4ee"
   },
   "outputs": [],
   "source": [
    "data_papers['n_citation'].describe()"
   ]
  },
  {
   "cell_type": "markdown",
   "metadata": {
    "id": "U0WKxjfRYhGO"
   },
   "source": [
    "Looking at the data, the mean value for citations is about 13 while the median is 3. this shows the data is fairly \n",
    "skewed. It shows half of the papers have lower than 3 citaions while 75% of the data have lower than 9 citation.\n",
    "\n",
    "- We suspect the max value 42080 can be an outlier\n"
   ]
  },
  {
   "cell_type": "markdown",
   "metadata": {
    "id": "QVP3xUn2YhGO"
   },
   "source": [
    "Lets look into the largest values of the dataset and how many times they were repeated."
   ]
  },
  {
   "cell_type": "code",
   "execution_count": null,
   "metadata": {
    "colab": {
     "base_uri": "https://localhost:8080/"
    },
    "executionInfo": {
     "elapsed": 716,
     "status": "ok",
     "timestamp": 1616273413367,
     "user": {
      "displayName": "Fatima Tafazzoli",
      "photoUrl": "",
      "userId": "09248389573288862170"
     },
     "user_tz": 240
    },
    "id": "p2CM3N1BYhGO",
    "outputId": "90967342-fe21-4914-d88c-15dfb9537d54"
   },
   "outputs": [],
   "source": [
    "top = data_papers['n_citation'].sort_values(ascending=False).head(30)\n",
    "top_dict = list(zip(top.index, top.values))\n",
    "top_dict"
   ]
  },
  {
   "cell_type": "markdown",
   "metadata": {
    "id": "W9YgG-QxYhGO"
   },
   "source": [
    "Plot the Citations vs number they have been used"
   ]
  },
  {
   "cell_type": "code",
   "execution_count": null,
   "metadata": {
    "colab": {
     "base_uri": "https://localhost:8080/",
     "height": 388
    },
    "executionInfo": {
     "elapsed": 789,
     "status": "ok",
     "timestamp": 1616273415552,
     "user": {
      "displayName": "Fatima Tafazzoli",
      "photoUrl": "",
      "userId": "09248389573288862170"
     },
     "user_tz": 240
    },
    "id": "bKRp990OYhGO",
    "outputId": "b0d1c914-d00d-4dd5-b1e0-a36939b1966c"
   },
   "outputs": [],
   "source": [
    "top_df = pd.DataFrame(top_dict, columns =['n_citation', 'Frequency']) \n",
    "sns.lmplot( x='n_citation', y='Frequency', data = top_df)"
   ]
  },
  {
   "cell_type": "markdown",
   "metadata": {
    "id": "2Q7FnrZXYhGP"
   },
   "source": [
    "Lets Also Analyze the number of citations vs. the year of publication."
   ]
  },
  {
   "cell_type": "code",
   "execution_count": null,
   "metadata": {
    "colab": {
     "base_uri": "https://localhost:8080/",
     "height": 297
    },
    "executionInfo": {
     "elapsed": 1695,
     "status": "ok",
     "timestamp": 1616273420546,
     "user": {
      "displayName": "Fatima Tafazzoli",
      "photoUrl": "",
      "userId": "09248389573288862170"
     },
     "user_tz": 240
    },
    "id": "F7B-gbKLYhGP",
    "outputId": "40c520b6-6797-4f1f-de1f-943e2c11ce45"
   },
   "outputs": [],
   "source": [
    "sns.boxplot(x=data_papers['n_citation'])"
   ]
  },
  {
   "cell_type": "markdown",
   "metadata": {
    "id": "b2EtFLpgYhGP"
   },
   "source": [
    "Here we can visually see that most of the citations are close to 3-10 and there are skewed data between 10-15000. There is also a surge of data in abour 40000 citations"
   ]
  },
  {
   "cell_type": "markdown",
   "metadata": {
    "id": "7suIV_J5YhGP"
   },
   "source": [
    "### Analyzing the other columns"
   ]
  },
  {
   "cell_type": "markdown",
   "metadata": {
    "id": "5lYzuc_EYhGP"
   },
   "source": [
    "#### analyze the column 'year'"
   ]
  },
  {
   "cell_type": "code",
   "execution_count": null,
   "metadata": {
    "colab": {
     "base_uri": "https://localhost:8080/"
    },
    "executionInfo": {
     "elapsed": 485,
     "status": "ok",
     "timestamp": 1616273424882,
     "user": {
      "displayName": "Fatima Tafazzoli",
      "photoUrl": "",
      "userId": "09248389573288862170"
     },
     "user_tz": 240
    },
    "id": "TYL-E8p9YhGP",
    "outputId": "790d232a-dab1-454c-de56-969899002fde",
    "scrolled": false
   },
   "outputs": [],
   "source": [
    "data_papers['year'].head(3)"
   ]
  },
  {
   "cell_type": "markdown",
   "metadata": {
    "id": "roBj3SYlYhGQ"
   },
   "source": [
    "The years are represented as float64 format. We try to change them into int64."
   ]
  },
  {
   "cell_type": "code",
   "execution_count": null,
   "metadata": {
    "colab": {
     "base_uri": "https://localhost:8080/"
    },
    "executionInfo": {
     "elapsed": 698,
     "status": "ok",
     "timestamp": 1616273506399,
     "user": {
      "displayName": "Fatima Tafazzoli",
      "photoUrl": "",
      "userId": "09248389573288862170"
     },
     "user_tz": 240
    },
    "id": "5HCzt_DXYhGQ",
    "outputId": "969790d0-9d9f-4e5b-94ef-4e226518c255",
    "scrolled": true
   },
   "outputs": [],
   "source": [
    "column_name = 'year'\n",
    "\n",
    "# first check for null value in the column\n",
    "print(data_papers[data_papers[column_name].isnull()])\n",
    "\n",
    "# change the data type into int64\n",
    "data_papers[column_name] = data_papers[column_name].astype(np.int64)\n",
    "\n",
    "# check for unique values\n",
    "data_papers[column_name].unique()"
   ]
  },
  {
   "cell_type": "markdown",
   "metadata": {
    "id": "GopTbmFzYhGQ"
   },
   "source": [
    "#### Alias_ids\n",
    "After checking the alias_ids we concluded that it is not a consistant attribute in the database. there are 480 instances in a 80k sample.\n",
    "\n",
    "#### Fos\n",
    "fos has 385 NaN values which was decided to be dropped from the dataset.\n",
    "\n",
    "#### Venue\n",
    "venue has 784 NaN values and it was decided to be dropped from the dataset"
   ]
  },
  {
   "cell_type": "markdown",
   "metadata": {
    "id": "W09BlRRCYhGQ"
   },
   "source": [
    "#### analyze the column fos"
   ]
  },
  {
   "cell_type": "code",
   "execution_count": null,
   "metadata": {
    "colab": {
     "base_uri": "https://localhost:8080/"
    },
    "executionInfo": {
     "elapsed": 1646,
     "status": "ok",
     "timestamp": 1616273492934,
     "user": {
      "displayName": "Fatima Tafazzoli",
      "photoUrl": "",
      "userId": "09248389573288862170"
     },
     "user_tz": 240
    },
    "id": "giXxpmwrYhGQ",
    "outputId": "31f89d88-9dc4-4173-a768-3c6b247b2de9"
   },
   "outputs": [],
   "source": [
    "print(data_papers['fos'].isnull().sum())\n",
    "data_papers = data_papers.dropna(subset = ['fos'])"
   ]
  },
  {
   "cell_type": "code",
   "execution_count": null,
   "metadata": {
    "colab": {
     "base_uri": "https://localhost:8080/"
    },
    "executionInfo": {
     "elapsed": 1167,
     "status": "ok",
     "timestamp": 1616273494397,
     "user": {
      "displayName": "Fatima Tafazzoli",
      "photoUrl": "",
      "userId": "09248389573288862170"
     },
     "user_tz": 240
    },
    "id": "Q7EsiqViYhGQ",
    "outputId": "540b72cb-713c-4d2a-c40f-f3d15c55a144",
    "scrolled": false
   },
   "outputs": [],
   "source": [
    "print(data_papers['venue'].isnull().sum())\n",
    "data_papers = data_papers.dropna(subset = ['venue'])"
   ]
  },
  {
   "cell_type": "markdown",
   "metadata": {
    "id": "Aoetl91ZYhGR"
   },
   "source": [
    "saving the data as pickel for next section"
   ]
  },
  {
   "cell_type": "code",
   "execution_count": null,
   "metadata": {
    "executionInfo": {
     "elapsed": 61312,
     "status": "ok",
     "timestamp": 1616273576302,
     "user": {
      "displayName": "Fatima Tafazzoli",
      "photoUrl": "",
      "userId": "09248389573288862170"
     },
     "user_tz": 240
    },
    "id": "PlPi-PgdYhGR"
   },
   "outputs": [],
   "source": [
    "pickle_path = '../Data/papers0-2010_clean.pkl'\n",
    "data_papers.to_pickle(pickle_path)"
   ]
  }
 ],
 "metadata": {
  "colab": {
   "machine_shape": "hm",
   "name": "1-Data-cleaning.ipynb",
   "provenance": []
  },
  "kernelspec": {
   "display_name": "Python 3",
   "language": "python",
   "name": "python3"
  },
  "language_info": {
   "codemirror_mode": {
    "name": "ipython",
    "version": 3
   },
   "file_extension": ".py",
   "mimetype": "text/x-python",
   "name": "python",
   "nbconvert_exporter": "python",
   "pygments_lexer": "ipython3",
   "version": "3.8.3"
  }
 },
 "nbformat": 4,
 "nbformat_minor": 1
}
