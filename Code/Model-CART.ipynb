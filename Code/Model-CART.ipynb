{
 "cells": [
  {
   "cell_type": "code",
   "execution_count": null,
   "metadata": {},
   "outputs": [],
   "source": [
    "import numpy as np \n",
    "import pandas as pd\n",
    "import matplotlib.pyplot as plt \n",
    "import seaborn as sns\n",
    "# Needed to classify the data (not regression)\n",
    "from sklearn.tree import DecisionTreeClassifier\n",
    "# Used to assign values in a column to a # \n",
    "from sklearn.preprocessing import LabelEncoder \n",
    "# Splits data into training and testing datasets \n",
    "from sklearn.model_selection import train_test_split"
   ]
  },
  {
   "cell_type": "code",
   "execution_count": null,
   "metadata": {},
   "outputs": [],
   "source": [
    "import warnings\n",
    "warnings.filterwarnings(\"ignore\")\n",
    "\n",
    "import logging\n",
    "logging.basicConfig(level=logging.INFO)\n",
    "transformers_logger = logging.getLogger(\"transformers\")\n",
    "transformers_logger.setLevel(logging.WARNING)\n"
   ]
  },
  {
   "cell_type": "code",
   "execution_count": null,
   "metadata": {},
   "outputs": [],
   "source": [
    "# Defining data file path \n",
    "dataset = pd.read_csv('../Data/features100_1.csv')\n",
    "dataset.info()\n",
    "dataset.head()"
   ]
  },
  {
   "cell_type": "code",
   "execution_count": null,
   "metadata": {},
   "outputs": [],
   "source": [
    "# All the columns, excluding \"Unnamed 0\" and \"id\" are to be included\n",
    "# The columns which include \"venur\" were renamed to \"venue\"\n",
    "dataset = pd.DataFrame(data=dataset.iloc[:,2:14].values, columns=[\"topic_rank\",\"diversity\",\"productivity\",\"h_index\",\"author_rank\",\"venue_rank\",\"author_MPI\",\"author_TPI\",\"venue_MPI\",\"venue_TPI\",\"versatility\",\"n_citation\"])\n",
    "dataset.head(10)"
   ]
  },
  {
   "cell_type": "code",
   "execution_count": null,
   "metadata": {},
   "outputs": [],
   "source": [
    "le  = LabelEncoder() \n",
    "\n",
    "# The label encoder will take a single attribute and encode it to a numeric value\n",
    "dataset_encoded = dataset.iloc[:,0:13]\n",
    "\n",
    "# Will loop through all column names, and encode the attributes \n",
    "for i in dataset_encoded:   \n",
    "    dataset_encoded[i] = le.fit_transform(dataset_encoded[i])\n",
    "print(dataset_encoded)"
   ]
  },
  {
   "cell_type": "code",
   "execution_count": null,
   "metadata": {},
   "outputs": [],
   "source": [
    "le.fit_transform(dataset_encoded[\"topic_rank\"])"
   ]
  },
  {
   "cell_type": "code",
   "execution_count": null,
   "metadata": {},
   "outputs": [],
   "source": []
  }
 ],
 "metadata": {
  "kernelspec": {
   "display_name": "Python 3",
   "language": "python",
   "name": "python3"
  },
  "language_info": {
   "codemirror_mode": {
    "name": "ipython",
    "version": 3
   },
   "file_extension": ".py",
   "mimetype": "text/x-python",
   "name": "python",
   "nbconvert_exporter": "python",
   "pygments_lexer": "ipython3",
   "version": "3.5.5"
  }
 },
 "nbformat": 4,
 "nbformat_minor": 4
}
