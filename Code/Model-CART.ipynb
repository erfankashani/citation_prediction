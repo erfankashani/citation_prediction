{
 "cells": [
  {
   "cell_type": "code",
   "execution_count": 6,
   "metadata": {},
   "outputs": [],
   "source": [
    "import numpy as np \n",
    "import pandas as pd\n",
    "import matplotlib.pyplot as plt \n",
    "import seaborn as sns\n",
    "import math as m\n",
    "import pickle\n",
    "\n",
    "# Needed to classify the data (not regression)\n",
    "from sklearn.tree import DecisionTreeClassifier\n",
    "\n",
    "# Used to assign values in a column to a # \n",
    "from sklearn.preprocessing import LabelEncoder \n",
    "\n",
    "# Splits data into training and testing datasets \n",
    "from sklearn.model_selection import train_test_split\n",
    "\n",
    "# The metrics is used to calculate the accuracy of the model\n",
    "from sklearn import metrics"
   ]
  },
  {
   "cell_type": "code",
   "execution_count": 7,
   "metadata": {},
   "outputs": [],
   "source": [
    "import warnings\n",
    "warnings.filterwarnings(\"ignore\")\n",
    "\n",
    "import logging\n",
    "logging.basicConfig(level=logging.INFO)\n",
    "transformers_logger = logging.getLogger(\"transformers\")\n",
    "transformers_logger.setLevel(logging.WARNING)"
   ]
  },
  {
   "cell_type": "code",
   "execution_count": 9,
   "metadata": {},
   "outputs": [
    {
     "data": {
      "text/html": [
       "<div>\n",
       "<style scoped>\n",
       "    .dataframe tbody tr th:only-of-type {\n",
       "        vertical-align: middle;\n",
       "    }\n",
       "\n",
       "    .dataframe tbody tr th {\n",
       "        vertical-align: top;\n",
       "    }\n",
       "\n",
       "    .dataframe thead th {\n",
       "        text-align: right;\n",
       "    }\n",
       "</style>\n",
       "<table border=\"1\" class=\"dataframe\">\n",
       "  <thead>\n",
       "    <tr style=\"text-align: right;\">\n",
       "      <th></th>\n",
       "      <th>Unnamed: 0</th>\n",
       "      <th>id</th>\n",
       "      <th>diversity</th>\n",
       "      <th>venue_rank</th>\n",
       "      <th>venue_MPI</th>\n",
       "      <th>venue_TPI</th>\n",
       "      <th>productivity</th>\n",
       "      <th>H_index</th>\n",
       "      <th>author_rank</th>\n",
       "      <th>author_MPI</th>\n",
       "      <th>author_TPI</th>\n",
       "      <th>versatility</th>\n",
       "      <th>citation_1yr</th>\n",
       "      <th>citation_2yr</th>\n",
       "      <th>citation_5yr</th>\n",
       "      <th>citation_10yr</th>\n",
       "      <th>n_citation</th>\n",
       "      <th>citation</th>\n",
       "    </tr>\n",
       "  </thead>\n",
       "  <tbody>\n",
       "    <tr>\n",
       "      <th>0</th>\n",
       "      <td>0</td>\n",
       "      <td>49268</td>\n",
       "      <td>1.677395</td>\n",
       "      <td>11101.0</td>\n",
       "      <td>115.0</td>\n",
       "      <td>4188.0</td>\n",
       "      <td>170.000000</td>\n",
       "      <td>23.000000</td>\n",
       "      <td>3.447250e+05</td>\n",
       "      <td>132.000000</td>\n",
       "      <td>1927.000000</td>\n",
       "      <td>10.353863</td>\n",
       "      <td>0.0</td>\n",
       "      <td>0.0</td>\n",
       "      <td>0.0</td>\n",
       "      <td>0.0</td>\n",
       "      <td>0</td>\n",
       "      <td>0.0</td>\n",
       "    </tr>\n",
       "    <tr>\n",
       "      <th>1</th>\n",
       "      <td>1</td>\n",
       "      <td>209002</td>\n",
       "      <td>1.068871</td>\n",
       "      <td>11101.0</td>\n",
       "      <td>115.0</td>\n",
       "      <td>4188.0</td>\n",
       "      <td>1.000000</td>\n",
       "      <td>0.000000</td>\n",
       "      <td>1.698048e+06</td>\n",
       "      <td>0.000000</td>\n",
       "      <td>0.000000</td>\n",
       "      <td>1.068871</td>\n",
       "      <td>0.0</td>\n",
       "      <td>0.0</td>\n",
       "      <td>0.0</td>\n",
       "      <td>0.0</td>\n",
       "      <td>0</td>\n",
       "      <td>0.0</td>\n",
       "    </tr>\n",
       "    <tr>\n",
       "      <th>2</th>\n",
       "      <td>2</td>\n",
       "      <td>1862735</td>\n",
       "      <td>1.821750</td>\n",
       "      <td>11101.0</td>\n",
       "      <td>115.0</td>\n",
       "      <td>4188.0</td>\n",
       "      <td>7.000000</td>\n",
       "      <td>2.000000</td>\n",
       "      <td>1.112349e+06</td>\n",
       "      <td>4.000000</td>\n",
       "      <td>10.000000</td>\n",
       "      <td>5.254207</td>\n",
       "      <td>0.0</td>\n",
       "      <td>0.0</td>\n",
       "      <td>0.0</td>\n",
       "      <td>0.0</td>\n",
       "      <td>0</td>\n",
       "      <td>0.0</td>\n",
       "    </tr>\n",
       "    <tr>\n",
       "      <th>3</th>\n",
       "      <td>3</td>\n",
       "      <td>2266186</td>\n",
       "      <td>1.081691</td>\n",
       "      <td>11101.0</td>\n",
       "      <td>115.0</td>\n",
       "      <td>4188.0</td>\n",
       "      <td>9.333333</td>\n",
       "      <td>3.666667</td>\n",
       "      <td>9.379188e+05</td>\n",
       "      <td>7.666667</td>\n",
       "      <td>47.333333</td>\n",
       "      <td>6.736735</td>\n",
       "      <td>0.0</td>\n",
       "      <td>0.0</td>\n",
       "      <td>0.0</td>\n",
       "      <td>0.0</td>\n",
       "      <td>0</td>\n",
       "      <td>0.0</td>\n",
       "    </tr>\n",
       "    <tr>\n",
       "      <th>4</th>\n",
       "      <td>4</td>\n",
       "      <td>2757565</td>\n",
       "      <td>2.869217</td>\n",
       "      <td>11101.0</td>\n",
       "      <td>115.0</td>\n",
       "      <td>4188.0</td>\n",
       "      <td>1.000000</td>\n",
       "      <td>0.000000</td>\n",
       "      <td>1.698048e+06</td>\n",
       "      <td>0.000000</td>\n",
       "      <td>0.000000</td>\n",
       "      <td>2.869217</td>\n",
       "      <td>0.0</td>\n",
       "      <td>0.0</td>\n",
       "      <td>0.0</td>\n",
       "      <td>0.0</td>\n",
       "      <td>2</td>\n",
       "      <td>0.0</td>\n",
       "    </tr>\n",
       "  </tbody>\n",
       "</table>\n",
       "</div>"
      ],
      "text/plain": [
       "   Unnamed: 0       id  diversity  venue_rank  venue_MPI  venue_TPI  \\\n",
       "0           0    49268   1.677395     11101.0      115.0     4188.0   \n",
       "1           1   209002   1.068871     11101.0      115.0     4188.0   \n",
       "2           2  1862735   1.821750     11101.0      115.0     4188.0   \n",
       "3           3  2266186   1.081691     11101.0      115.0     4188.0   \n",
       "4           4  2757565   2.869217     11101.0      115.0     4188.0   \n",
       "\n",
       "   productivity    H_index   author_rank  author_MPI   author_TPI  \\\n",
       "0    170.000000  23.000000  3.447250e+05  132.000000  1927.000000   \n",
       "1      1.000000   0.000000  1.698048e+06    0.000000     0.000000   \n",
       "2      7.000000   2.000000  1.112349e+06    4.000000    10.000000   \n",
       "3      9.333333   3.666667  9.379188e+05    7.666667    47.333333   \n",
       "4      1.000000   0.000000  1.698048e+06    0.000000     0.000000   \n",
       "\n",
       "   versatility  citation_1yr  citation_2yr  citation_5yr  citation_10yr  \\\n",
       "0    10.353863           0.0           0.0           0.0            0.0   \n",
       "1     1.068871           0.0           0.0           0.0            0.0   \n",
       "2     5.254207           0.0           0.0           0.0            0.0   \n",
       "3     6.736735           0.0           0.0           0.0            0.0   \n",
       "4     2.869217           0.0           0.0           0.0            0.0   \n",
       "\n",
       "   n_citation  citation  \n",
       "0           0       0.0  \n",
       "1           0       0.0  \n",
       "2           0       0.0  \n",
       "3           0       0.0  \n",
       "4           2       0.0  "
      ]
     },
     "execution_count": 9,
     "metadata": {},
     "output_type": "execute_result"
    }
   ],
   "source": [
    "# Data for 2005 to 2010 \n",
    "# dataset = pd.read_csv('../Data/features_2000-2010.csv')\n",
    "dataset = pd.read_csv('../Data/features_2005_2010_new.csv')\n",
    "# Data for 2010\n",
    "id_2010 = pd.read_csv('../Data/papers2010.csv')\n",
    "dataset.head()"
   ]
  },
  {
   "cell_type": "markdown",
   "metadata": {},
   "source": [
    "### Applying train and test split "
   ]
  },
  {
   "cell_type": "code",
   "execution_count": 11,
   "metadata": {},
   "outputs": [
    {
     "name": "stdout",
     "output_type": "stream",
     "text": [
      "<class 'pandas.core.frame.DataFrame'>\n",
      "Int64Index: 919995 entries, 0 to 1140719\n",
      "Data columns (total 18 columns):\n",
      " #   Column         Non-Null Count   Dtype  \n",
      "---  ------         --------------   -----  \n",
      " 0   Unnamed: 0     919995 non-null  int64  \n",
      " 1   id             919995 non-null  int64  \n",
      " 2   diversity      919995 non-null  float64\n",
      " 3   venue_rank     919995 non-null  float64\n",
      " 4   venue_MPI      919995 non-null  float64\n",
      " 5   venue_TPI      919995 non-null  float64\n",
      " 6   productivity   919995 non-null  float64\n",
      " 7   H_index        919995 non-null  float64\n",
      " 8   author_rank    919995 non-null  float64\n",
      " 9   author_MPI     919995 non-null  float64\n",
      " 10  author_TPI     919995 non-null  float64\n",
      " 11  versatility    919995 non-null  float64\n",
      " 12  citation_1yr   919995 non-null  float64\n",
      " 13  citation_2yr   919995 non-null  float64\n",
      " 14  citation_5yr   919995 non-null  float64\n",
      " 15  citation_10yr  919995 non-null  float64\n",
      " 16  n_citation     919995 non-null  int64  \n",
      " 17  citation       919995 non-null  float64\n",
      "dtypes: float64(15), int64(3)\n",
      "memory usage: 133.4 MB\n"
     ]
    }
   ],
   "source": [
    "# Split data for train and test \n",
    "ids = id_2010['id'].tolist() \n",
    "train = dataset[dataset['id'].isin(ids) == False]\n",
    "test = dataset[dataset['id'].isin(ids)]\n",
    "train.info()"
   ]
  },
  {
   "cell_type": "code",
   "execution_count": 31,
   "metadata": {
    "scrolled": true
   },
   "outputs": [
    {
     "data": {
      "text/html": [
       "<div>\n",
       "<style scoped>\n",
       "    .dataframe tbody tr th:only-of-type {\n",
       "        vertical-align: middle;\n",
       "    }\n",
       "\n",
       "    .dataframe tbody tr th {\n",
       "        vertical-align: top;\n",
       "    }\n",
       "\n",
       "    .dataframe thead th {\n",
       "        text-align: right;\n",
       "    }\n",
       "</style>\n",
       "<table border=\"1\" class=\"dataframe\">\n",
       "  <thead>\n",
       "    <tr style=\"text-align: right;\">\n",
       "      <th></th>\n",
       "      <th>diversity</th>\n",
       "      <th>venue_rank</th>\n",
       "      <th>venue_MPI</th>\n",
       "      <th>venue_TPI</th>\n",
       "      <th>productivity</th>\n",
       "      <th>H_index</th>\n",
       "      <th>author_rank</th>\n",
       "      <th>author_MPI</th>\n",
       "      <th>author_TPI</th>\n",
       "      <th>versatility</th>\n",
       "    </tr>\n",
       "  </thead>\n",
       "  <tbody>\n",
       "    <tr>\n",
       "      <th>0</th>\n",
       "      <td>1.677395</td>\n",
       "      <td>11101.0</td>\n",
       "      <td>115.0</td>\n",
       "      <td>4188.0</td>\n",
       "      <td>170.000000</td>\n",
       "      <td>23.000000</td>\n",
       "      <td>3.447250e+05</td>\n",
       "      <td>132.000000</td>\n",
       "      <td>1927.000000</td>\n",
       "      <td>10.353863</td>\n",
       "    </tr>\n",
       "    <tr>\n",
       "      <th>1</th>\n",
       "      <td>1.068871</td>\n",
       "      <td>11101.0</td>\n",
       "      <td>115.0</td>\n",
       "      <td>4188.0</td>\n",
       "      <td>1.000000</td>\n",
       "      <td>0.000000</td>\n",
       "      <td>1.698048e+06</td>\n",
       "      <td>0.000000</td>\n",
       "      <td>0.000000</td>\n",
       "      <td>1.068871</td>\n",
       "    </tr>\n",
       "    <tr>\n",
       "      <th>2</th>\n",
       "      <td>1.821750</td>\n",
       "      <td>11101.0</td>\n",
       "      <td>115.0</td>\n",
       "      <td>4188.0</td>\n",
       "      <td>7.000000</td>\n",
       "      <td>2.000000</td>\n",
       "      <td>1.112349e+06</td>\n",
       "      <td>4.000000</td>\n",
       "      <td>10.000000</td>\n",
       "      <td>5.254207</td>\n",
       "    </tr>\n",
       "    <tr>\n",
       "      <th>3</th>\n",
       "      <td>1.081691</td>\n",
       "      <td>11101.0</td>\n",
       "      <td>115.0</td>\n",
       "      <td>4188.0</td>\n",
       "      <td>9.333333</td>\n",
       "      <td>3.666667</td>\n",
       "      <td>9.379188e+05</td>\n",
       "      <td>7.666667</td>\n",
       "      <td>47.333333</td>\n",
       "      <td>6.736735</td>\n",
       "    </tr>\n",
       "    <tr>\n",
       "      <th>4</th>\n",
       "      <td>2.869217</td>\n",
       "      <td>11101.0</td>\n",
       "      <td>115.0</td>\n",
       "      <td>4188.0</td>\n",
       "      <td>1.000000</td>\n",
       "      <td>0.000000</td>\n",
       "      <td>1.698048e+06</td>\n",
       "      <td>0.000000</td>\n",
       "      <td>0.000000</td>\n",
       "      <td>2.869217</td>\n",
       "    </tr>\n",
       "  </tbody>\n",
       "</table>\n",
       "</div>"
      ],
      "text/plain": [
       "   diversity  venue_rank  venue_MPI  venue_TPI  productivity    H_index  \\\n",
       "0   1.677395     11101.0      115.0     4188.0    170.000000  23.000000   \n",
       "1   1.068871     11101.0      115.0     4188.0      1.000000   0.000000   \n",
       "2   1.821750     11101.0      115.0     4188.0      7.000000   2.000000   \n",
       "3   1.081691     11101.0      115.0     4188.0      9.333333   3.666667   \n",
       "4   2.869217     11101.0      115.0     4188.0      1.000000   0.000000   \n",
       "\n",
       "    author_rank  author_MPI   author_TPI  versatility  \n",
       "0  3.447250e+05  132.000000  1927.000000    10.353863  \n",
       "1  1.698048e+06    0.000000     0.000000     1.068871  \n",
       "2  1.112349e+06    4.000000    10.000000     5.254207  \n",
       "3  9.379188e+05    7.666667    47.333333     6.736735  \n",
       "4  1.698048e+06    0.000000     0.000000     2.869217  "
      ]
     },
     "execution_count": 31,
     "metadata": {},
     "output_type": "execute_result"
    }
   ],
   "source": [
    "# Set values for train dataset columns \n",
    "# train = pd.DataFrame(data=train.iloc[:,2:14].values, columns=[\"diversity\",\"venue_rank\",\"venue_MPI\",\"venue_TPI\",\"productivity\",\"H_index\",\"author_rank\",\"author_MPI\",\"author_TPI\",\"versatility\",\"n_citation\"])\n",
    "# Set ytrain and Xtrain\n",
    "y_train_1yr = train.iloc[:,12]\n",
    "y_train_2yr = train.iloc[:,13]\n",
    "y_train_5yr = train.iloc[:,14]\n",
    "y_train_10yr = train.iloc[:,15]\n",
    "\n",
    "X_train = train.iloc[:,2:12]\n",
    "X_train.head()"
   ]
  },
  {
   "cell_type": "code",
   "execution_count": 14,
   "metadata": {},
   "outputs": [
    {
     "data": {
      "text/plain": [
       "0    0.0\n",
       "1    0.0\n",
       "2    0.0\n",
       "3    0.0\n",
       "4    0.0\n",
       "Name: citation_1yr, dtype: float64"
      ]
     },
     "execution_count": 14,
     "metadata": {},
     "output_type": "execute_result"
    }
   ],
   "source": [
    "y_train_2yr.head()"
   ]
  },
  {
   "cell_type": "code",
   "execution_count": 32,
   "metadata": {},
   "outputs": [
    {
     "data": {
      "text/html": [
       "<div>\n",
       "<style scoped>\n",
       "    .dataframe tbody tr th:only-of-type {\n",
       "        vertical-align: middle;\n",
       "    }\n",
       "\n",
       "    .dataframe tbody tr th {\n",
       "        vertical-align: top;\n",
       "    }\n",
       "\n",
       "    .dataframe thead th {\n",
       "        text-align: right;\n",
       "    }\n",
       "</style>\n",
       "<table border=\"1\" class=\"dataframe\">\n",
       "  <thead>\n",
       "    <tr style=\"text-align: right;\">\n",
       "      <th></th>\n",
       "      <th>diversity</th>\n",
       "      <th>venue_rank</th>\n",
       "      <th>venue_MPI</th>\n",
       "      <th>venue_TPI</th>\n",
       "      <th>productivity</th>\n",
       "      <th>H_index</th>\n",
       "      <th>author_rank</th>\n",
       "      <th>author_MPI</th>\n",
       "      <th>author_TPI</th>\n",
       "      <th>versatility</th>\n",
       "    </tr>\n",
       "  </thead>\n",
       "  <tbody>\n",
       "    <tr>\n",
       "      <th>216</th>\n",
       "      <td>3.561625</td>\n",
       "      <td>11101.0</td>\n",
       "      <td>115.0</td>\n",
       "      <td>4188.0</td>\n",
       "      <td>15.500000</td>\n",
       "      <td>5.000000</td>\n",
       "      <td>5.204462e+05</td>\n",
       "      <td>39.000000</td>\n",
       "      <td>125.500000</td>\n",
       "      <td>10.951452</td>\n",
       "    </tr>\n",
       "    <tr>\n",
       "      <th>417</th>\n",
       "      <td>1.669966</td>\n",
       "      <td>11101.0</td>\n",
       "      <td>115.0</td>\n",
       "      <td>4188.0</td>\n",
       "      <td>25.000000</td>\n",
       "      <td>6.000000</td>\n",
       "      <td>5.758400e+05</td>\n",
       "      <td>41.000000</td>\n",
       "      <td>161.000000</td>\n",
       "      <td>11.066745</td>\n",
       "    </tr>\n",
       "    <tr>\n",
       "      <th>421</th>\n",
       "      <td>1.992607</td>\n",
       "      <td>11101.0</td>\n",
       "      <td>115.0</td>\n",
       "      <td>4188.0</td>\n",
       "      <td>19.000000</td>\n",
       "      <td>4.000000</td>\n",
       "      <td>1.084376e+06</td>\n",
       "      <td>5.000000</td>\n",
       "      <td>34.000000</td>\n",
       "      <td>7.633989</td>\n",
       "    </tr>\n",
       "    <tr>\n",
       "      <th>440</th>\n",
       "      <td>2.749466</td>\n",
       "      <td>11101.0</td>\n",
       "      <td>115.0</td>\n",
       "      <td>4188.0</td>\n",
       "      <td>7.333333</td>\n",
       "      <td>2.666667</td>\n",
       "      <td>8.019018e+05</td>\n",
       "      <td>6.666667</td>\n",
       "      <td>32.333333</td>\n",
       "      <td>6.582855</td>\n",
       "    </tr>\n",
       "    <tr>\n",
       "      <th>441</th>\n",
       "      <td>3.376685</td>\n",
       "      <td>11101.0</td>\n",
       "      <td>115.0</td>\n",
       "      <td>4188.0</td>\n",
       "      <td>18.333333</td>\n",
       "      <td>4.666667</td>\n",
       "      <td>9.225598e+05</td>\n",
       "      <td>16.333333</td>\n",
       "      <td>87.333333</td>\n",
       "      <td>10.587081</td>\n",
       "    </tr>\n",
       "  </tbody>\n",
       "</table>\n",
       "</div>"
      ],
      "text/plain": [
       "     diversity  venue_rank  venue_MPI  venue_TPI  productivity   H_index  \\\n",
       "216   3.561625     11101.0      115.0     4188.0     15.500000  5.000000   \n",
       "417   1.669966     11101.0      115.0     4188.0     25.000000  6.000000   \n",
       "421   1.992607     11101.0      115.0     4188.0     19.000000  4.000000   \n",
       "440   2.749466     11101.0      115.0     4188.0      7.333333  2.666667   \n",
       "441   3.376685     11101.0      115.0     4188.0     18.333333  4.666667   \n",
       "\n",
       "      author_rank  author_MPI  author_TPI  versatility  \n",
       "216  5.204462e+05   39.000000  125.500000    10.951452  \n",
       "417  5.758400e+05   41.000000  161.000000    11.066745  \n",
       "421  1.084376e+06    5.000000   34.000000     7.633989  \n",
       "440  8.019018e+05    6.666667   32.333333     6.582855  \n",
       "441  9.225598e+05   16.333333   87.333333    10.587081  "
      ]
     },
     "execution_count": 32,
     "metadata": {},
     "output_type": "execute_result"
    }
   ],
   "source": [
    "# Set values for test dataset columns\n",
    "# test = pd.DataFrame(data=test.iloc[:,2:14].values, columns=[\"diversity\",\"venue_rank\",\"venue_MPI\",\"venue_TPI\",\"productivity\",\"H_index\",\"author_rank\",\"author_MPI\",\"author_TPI\",\"versatility\",\"n_citation\"])\n",
    "# Set ytest and Xtest\n",
    "y_test_1yr = test.iloc[:,12]\n",
    "y_test_2yr = test.iloc[:,13]\n",
    "y_test_5yr = test.iloc[:,14]\n",
    "y_test_10yr = test.iloc[:,15]\n",
    "\n",
    "\n",
    "\n",
    "X_test = test.iloc[:,2:12]\n",
    "X_test.head()"
   ]
  },
  {
   "cell_type": "code",
   "execution_count": 16,
   "metadata": {},
   "outputs": [
    {
     "data": {
      "text/plain": [
       "216    0.0\n",
       "417    1.0\n",
       "421    0.0\n",
       "440    0.0\n",
       "441    1.0\n",
       "Name: citation_1yr, dtype: float64"
      ]
     },
     "execution_count": 16,
     "metadata": {},
     "output_type": "execute_result"
    }
   ],
   "source": [
    "y_test_2yr.head()"
   ]
  },
  {
   "cell_type": "markdown",
   "metadata": {},
   "source": [
    "# Model training"
   ]
  },
  {
   "cell_type": "code",
   "execution_count": 33,
   "metadata": {},
   "outputs": [],
   "source": [
    "def model_train_and_predict(X_train, y_train, X_test):\n",
    "    # Creates the decision tree classifier object\n",
    "    clf = DecisionTreeClassifier(criterion='gini', splitter='best', max_depth = 25, min_samples_split=4, min_samples_leaf=2, random_state = 0)\n",
    "\n",
    "    # Train decision tree classifier\n",
    "    clf = clf.fit(X_train,y_train)\n",
    "\n",
    "    # Predicts response for test data\n",
    "    y_pred = clf.predict(X_test)\n",
    "    return(y_pred)"
   ]
  },
  {
   "cell_type": "code",
   "execution_count": 34,
   "metadata": {},
   "outputs": [],
   "source": [
    "y_prediction_1yr = model_train_and_predict(X_train, y_train_1yr, X_test)"
   ]
  },
  {
   "cell_type": "code",
   "execution_count": 35,
   "metadata": {},
   "outputs": [],
   "source": [
    "y_prediction_2yr = model_train_and_predict(X_train, y_train_2yr, X_test)"
   ]
  },
  {
   "cell_type": "code",
   "execution_count": 36,
   "metadata": {},
   "outputs": [],
   "source": [
    "y_prediction_5yr = model_train_and_predict(X_train, y_train_5yr, X_test)"
   ]
  },
  {
   "cell_type": "code",
   "execution_count": 37,
   "metadata": {},
   "outputs": [],
   "source": [
    "y_prediction_10yr = model_train_and_predict(X_train, y_train_10yr, X_test)"
   ]
  },
  {
   "cell_type": "markdown",
   "metadata": {},
   "source": [
    "# Evaluation"
   ]
  },
  {
   "cell_type": "code",
   "execution_count": 40,
   "metadata": {},
   "outputs": [
    {
     "name": "stdout",
     "output_type": "stream",
     "text": [
      "Results for 1 year prediction:\n",
      "Accuracy:  0.5313081889228678\n",
      "R squared: 0.01921658737075438\n",
      "Mean Absolute Error: 1.2308528712198437\n",
      "Mean Squared Error: 50.73228678219504\n",
      "Root Mean Squared Error: 7.122660091721002\n",
      "----------------------------------------\n",
      "Results for 2 year prediction:\n",
      "Accuracy:  0.4268660097406275\n",
      "R squared: 0.0591857119509539\n",
      "Mean Absolute Error: 2.1241544908823196\n",
      "Mean Squared Error: 87.11623966474119\n",
      "Root Mean Squared Error: 9.333608073234123\n",
      "----------------------------------------\n",
      "Results for 5 year prediction:\n",
      "Accuracy:  0.34641748782421566\n",
      "R squared: 0.09546344887057956\n",
      "Mean Absolute Error: 4.810393022992411\n",
      "Mean Squared Error: 464.7504904292672\n",
      "Root Mean Squared Error: 21.55807251192154\n",
      "----------------------------------------\n",
      "Results for 10 year prediction:\n",
      "Accuracy:  0.36615245214633596\n",
      "R squared: 0.07031548004595589\n",
      "Mean Absolute Error: 7.476004077471967\n",
      "Mean Squared Error: 1705.7670993317477\n",
      "Root Mean Squared Error: 41.30093339540582\n"
     ]
    }
   ],
   "source": [
    "from sklearn import metrics\n",
    "from sklearn.metrics import r2_score\n",
    "\n",
    "print(\"Results for 1 year prediction:\")\n",
    "print(\"Accuracy: \", metrics.accuracy_score(y_test_1yr,y_prediction_1yr))\n",
    "print(\"R squared:\", r2_score(y_test_1yr, y_prediction_1yr))\n",
    "print('Mean Absolute Error:', metrics.mean_absolute_error(y_test_1yr, y_prediction_1yr))\n",
    "print('Mean Squared Error:', metrics.mean_squared_error(y_test_1yr, y_prediction_1yr))\n",
    "print('Root Mean Squared Error:', np.sqrt(metrics.mean_squared_error(y_test_1yr, y_prediction_1yr)))\n",
    "print('----------------------------------------')\n",
    "\n",
    "print(\"Results for 2 year prediction:\")\n",
    "print(\"Accuracy: \", metrics.accuracy_score(y_test_2yr,y_prediction_2yr))\n",
    "print(\"R squared:\", r2_score(y_test_2yr, y_prediction_2yr))\n",
    "print('Mean Absolute Error:', metrics.mean_absolute_error(y_test_2yr, y_prediction_2yr))\n",
    "print('Mean Squared Error:', metrics.mean_squared_error(y_test_2yr, y_prediction_2yr))\n",
    "print('Root Mean Squared Error:', np.sqrt(metrics.mean_squared_error(y_test_2yr, y_prediction_2yr)))\n",
    "print('----------------------------------------')\n",
    "\n",
    "print(\"Results for 5 year prediction:\")\n",
    "print(\"Accuracy: \", metrics.accuracy_score(y_test_5yr,y_prediction_5yr))\n",
    "print(\"R squared:\", r2_score(y_test_5yr, y_prediction_5yr))\n",
    "print('Mean Absolute Error:', metrics.mean_absolute_error(y_test_5yr, y_prediction_5yr))\n",
    "print('Mean Squared Error:', metrics.mean_squared_error(y_test_5yr, y_prediction_5yr))\n",
    "print('Root Mean Squared Error:', np.sqrt(metrics.mean_squared_error(y_test_5yr, y_prediction_5yr)))\n",
    "print('----------------------------------------')\n",
    "\n",
    "print(\"Results for 10 year prediction:\")\n",
    "print(\"Accuracy: \", metrics.accuracy_score(y_test_10yr,y_prediction_10yr))\n",
    "print(\"R squared:\", r2_score(y_test_10yr, y_prediction_10yr))\n",
    "print('Mean Absolute Error:', metrics.mean_absolute_error(y_test_10yr, y_prediction_10yr))\n",
    "print('Mean Squared Error:', metrics.mean_squared_error(y_test_10yr, y_prediction_10yr))\n",
    "print('Root Mean Squared Error:', np.sqrt(metrics.mean_squared_error(y_test_10yr, y_prediction_10yr)))"
   ]
  },
  {
   "cell_type": "code",
   "execution_count": 20,
   "metadata": {},
   "outputs": [],
   "source": [
    "def graph_hist(y_test_2yr, y_predict, bins, title):\n",
    "    plt.hist([y_test_2yr, y_predict],range=(0,bins), bins = bins, label=['test', 'predict'])\n",
    "    plt.legend(loc='upper right')\n",
    "    plt.title(title)\n",
    "    plt.show()"
   ]
  },
  {
   "cell_type": "code",
   "execution_count": 41,
   "metadata": {},
   "outputs": [
    {
     "data": {
      "image/png": "[encoded data removed]",
      "text/plain": [
       "<Figure size 432x288 with 1 Axes>"
      ]
     },
     "metadata": {
      "needs_background": "light"
     },
     "output_type": "display_data"
    },
    {
     "data": {
      "image/png": "[encoded data removed]",
      "text/plain": [
       "<Figure size 432x288 with 1 Axes>"
      ]
     },
     "metadata": {
      "needs_background": "light"
     },
     "output_type": "display_data"
    },
    {
     "data": {
      "image/png": "[encoded data removed]",
      "text/plain": [
       "<Figure size 432x288 with 1 Axes>"
      ]
     },
     "metadata": {
      "needs_background": "light"
     },
     "output_type": "display_data"
    },
    {
     "data": {
      "image/png": "[encoded data removed]",
      "text/plain": [
       "<Figure size 432x288 with 1 Axes>"
      ]
     },
     "metadata": {
      "needs_background": "light"
     },
     "output_type": "display_data"
    }
   ],
   "source": [
    "graph_hist(y_test_1yr, y_prediction_1yr, 25, \"1 year prediction\")\n",
    "graph_hist(y_test_2yr, y_prediction_2yr, 25, \"2 year prediction\")\n",
    "graph_hist(y_test_5yr, y_prediction_5yr, 25, \"5 year prediction\")\n",
    "graph_hist(y_test_10yr, y_prediction_10yr, 25, \"10 year prediction\")"
   ]
  }
 ],
 "metadata": {
  "kernelspec": {
   "display_name": "Python 3",
   "language": "python",
   "name": "python3"
  },
  "language_info": {
   "codemirror_mode": {
    "name": "ipython",
    "version": 3
   },
   "file_extension": ".py",
   "mimetype": "text/x-python",
   "name": "python",
   "nbconvert_exporter": "python",
   "pygments_lexer": "ipython3",
   "version": "3.8.3"
  }
 },
 "nbformat": 4,
 "nbformat_minor": 4
}
