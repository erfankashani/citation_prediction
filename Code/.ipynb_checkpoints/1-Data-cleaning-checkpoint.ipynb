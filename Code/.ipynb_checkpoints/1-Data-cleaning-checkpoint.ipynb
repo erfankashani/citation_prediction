{
 "cells": [
  {
   "cell_type": "markdown",
   "metadata": {},
   "source": [
    "# Data Fetching and Cleaning"
   ]
  },
  {
   "cell_type": "markdown",
   "metadata": {},
   "source": [
    "## Introduction"
   ]
  },
  {
   "cell_type": "markdown",
   "metadata": {},
   "source": [
    "In this notebook we will fetch the dataset and clean the necessary parts"
   ]
  },
  {
   "cell_type": "markdown",
   "metadata": {},
   "source": [
    "### Infoemation about the Dataset"
   ]
  },
  {
   "cell_type": "markdown",
   "metadata": {},
   "source": [
    "Dataset is based on the AMiner V12 database. The database can be downloaded from https://www.aminer.org/citation\n",
    "\n",
    "The Predictors (Inputs): \n",
    "The Target (Output): 'n_citation' (number of citations)\n"
   ]
  },
  {
   "cell_type": "markdown",
   "metadata": {},
   "source": [
    "## Plan of Attack:\n",
    "1- Analyze the Raw Data from papers.csv authors.cvs orgs.csv\n",
    "2- Analyze the Features from feature.csv and check the correlations"
   ]
  },
  {
   "cell_type": "markdown",
   "metadata": {},
   "source": [
    "### Adding the libraries"
   ]
  },
  {
   "cell_type": "code",
   "execution_count": 1,
   "metadata": {},
   "outputs": [],
   "source": [
    "import pandas as pd\n",
    "import matplotlib as plt\n",
    "import ast\n",
    "import numpy as np\n",
    "import seaborn as sns\n",
    "from statistics import mean"
   ]
  },
  {
   "cell_type": "markdown",
   "metadata": {},
   "source": [
    "### Adding the Database"
   ]
  },
  {
   "cell_type": "code",
   "execution_count": null,
   "metadata": {},
   "outputs": [],
   "source": [
    "data_papers = pd.read_pickle('../Data/papers.pkl')\n",
    "data_papers.head()"
   ]
  },
  {
   "cell_type": "markdown",
   "metadata": {},
   "source": [
    "Lets Analyse each column:"
   ]
  },
  {
   "cell_type": "code",
   "execution_count": 3,
   "metadata": {},
   "outputs": [
    {
     "name": "stdout",
     "output_type": "stream",
     "text": [
      "The shape of the data is:  (81364, 18)\n"
     ]
    },
    {
     "data": {
      "text/plain": [
       "Unnamed: 0           object\n",
       "id                    int64\n",
       "authors              object\n",
       "title                object\n",
       "year                float64\n",
       "n_citation           object\n",
       "page_start           object\n",
       "page_end            float64\n",
       "doc_type             object\n",
       "publisher            object\n",
       "volume               object\n",
       "issue                object\n",
       "doi                  object\n",
       "indexed_abstract     object\n",
       "fos                  object\n",
       "venue                object\n",
       "references           object\n",
       "alias_ids            object\n",
       "dtype: object"
      ]
     },
     "execution_count": 3,
     "metadata": {},
     "output_type": "execute_result"
    }
   ],
   "source": [
    "print(\"The shape of the data is: \", str(data_papers.shape))\n",
    "data_papers.dtypes"
   ]
  },
  {
   "cell_type": "markdown",
   "metadata": {},
   "source": [
    "most of the data consist of Integers and Strings which is analyzed as object. Moreover, we know that n_citation is the type int64 but due to some data inconsistancies it is showing as an Object. We will try to clean the data first."
   ]
  },
  {
   "cell_type": "code",
   "execution_count": 4,
   "metadata": {},
   "outputs": [
    {
     "data": {
      "text/plain": [
       "0"
      ]
     },
     "execution_count": 4,
     "metadata": {},
     "output_type": "execute_result"
    }
   ],
   "source": [
    "# first checking for Null values\n",
    "data_papers['n_citation'].isnull().sum()\n",
    "\n",
    "# fill the null vlaue with zero (0)\n",
    "data_papers = data_papers.dropna(subset = ['n_citation','year'])\n",
    "\n",
    "# check the data agian for null value\n",
    "data_papers['n_citation'].isnull().sum()\n"
   ]
  },
  {
   "cell_type": "markdown",
   "metadata": {},
   "source": [
    "One of the rows had the value of 'object' instead of the actual n_citaion value. We will drop that row."
   ]
  },
  {
   "cell_type": "code",
   "execution_count": 5,
   "metadata": {},
   "outputs": [],
   "source": [
    "data_papers = data_papers.drop(data_papers.loc[data_papers['n_citation'] == 'Journal'].index)"
   ]
  },
  {
   "cell_type": "markdown",
   "metadata": {},
   "source": [
    "Some of the rows have the citaion value in String format while others are in the Int format. We change all the values into integers for consistancy"
   ]
  },
  {
   "cell_type": "code",
   "execution_count": 6,
   "metadata": {},
   "outputs": [
    {
     "data": {
      "text/plain": [
       "0         0\n",
       "1         0\n",
       "2         0\n",
       "3        28\n",
       "4         0\n",
       "         ..\n",
       "81359     3\n",
       "81360     0\n",
       "81361     0\n",
       "81362     2\n",
       "81363     0\n",
       "Name: n_citation, Length: 81362, dtype: int64"
      ]
     },
     "execution_count": 6,
     "metadata": {},
     "output_type": "execute_result"
    }
   ],
   "source": [
    "data_papers['n_citation'] = pd.to_numeric(data_papers['n_citation'])\n",
    "data_papers['n_citation']"
   ]
  },
  {
   "cell_type": "code",
   "execution_count": 7,
   "metadata": {},
   "outputs": [
    {
     "data": {
      "text/plain": [
       "Unnamed: 0           object\n",
       "id                    int64\n",
       "authors              object\n",
       "title                object\n",
       "year                float64\n",
       "n_citation            int64\n",
       "page_start           object\n",
       "page_end            float64\n",
       "doc_type             object\n",
       "publisher            object\n",
       "volume               object\n",
       "issue                object\n",
       "doi                  object\n",
       "indexed_abstract     object\n",
       "fos                  object\n",
       "venue                object\n",
       "references           object\n",
       "alias_ids            object\n",
       "dtype: object"
      ]
     },
     "execution_count": 7,
     "metadata": {},
     "output_type": "execute_result"
    }
   ],
   "source": [
    "data_papers.dtypes"
   ]
  },
  {
   "cell_type": "markdown",
   "metadata": {},
   "source": [
    "Now we see that the n_ciation type is an int64. Lets understand the basic statistical details like count, percentile, mean, std, max and min vlaues for the number of citaions."
   ]
  },
  {
   "cell_type": "code",
   "execution_count": 8,
   "metadata": {},
   "outputs": [
    {
     "name": "stdout",
     "output_type": "stream",
     "text": [
      "<class 'pandas.core.frame.DataFrame'>\n",
      "Int64Index: 81362 entries, 0 to 81363\n",
      "Data columns (total 18 columns):\n",
      " #   Column            Non-Null Count  Dtype  \n",
      "---  ------            --------------  -----  \n",
      " 0   Unnamed: 0        81362 non-null  object \n",
      " 1   id                81362 non-null  int64  \n",
      " 2   authors           81362 non-null  object \n",
      " 3   title             81362 non-null  object \n",
      " 4   year              81362 non-null  float64\n",
      " 5   n_citation        81362 non-null  int64  \n",
      " 6   page_start        75252 non-null  object \n",
      " 7   page_end          72454 non-null  float64\n",
      " 8   doc_type          72846 non-null  object \n",
      " 9   publisher         69948 non-null  object \n",
      " 10  volume            44152 non-null  object \n",
      " 11  issue             29957 non-null  object \n",
      " 12  doi               63238 non-null  object \n",
      " 13  indexed_abstract  69235 non-null  object \n",
      " 14  fos               80977 non-null  object \n",
      " 15  venue             80558 non-null  object \n",
      " 16  references        57544 non-null  object \n",
      " 17  alias_ids         483 non-null    object \n",
      "dtypes: float64(2), int64(2), object(14)\n",
      "memory usage: 11.8+ MB\n"
     ]
    }
   ],
   "source": [
    "data_papers.info()"
   ]
  },
  {
   "cell_type": "code",
   "execution_count": 9,
   "metadata": {},
   "outputs": [
    {
     "data": {
      "text/plain": [
       "count    81362.000000\n",
       "mean        34.281200\n",
       "std        212.629751\n",
       "min          0.000000\n",
       "25%          1.000000\n",
       "50%          7.000000\n",
       "75%         24.000000\n",
       "max      34741.000000\n",
       "Name: n_citation, dtype: float64"
      ]
     },
     "execution_count": 9,
     "metadata": {},
     "output_type": "execute_result"
    }
   ],
   "source": [
    "data_papers['n_citation'].describe()"
   ]
  },
  {
   "cell_type": "markdown",
   "metadata": {},
   "source": [
    "Looking at the data, the mean value for citations is about 13 while the median is 3. this shows the data is fairly \n",
    "skewed. It shows half of the papers have lower than 3 citaions while 75% of the data have lower than 9 citation.\n",
    "\n",
    "- We suspect the max value 42080 can be an outlier\n"
   ]
  },
  {
   "cell_type": "markdown",
   "metadata": {},
   "source": [
    "Lets look into the largest values of the dataset and how many times they were repeated."
   ]
  },
  {
   "cell_type": "code",
   "execution_count": 10,
   "metadata": {},
   "outputs": [
    {
     "data": {
      "text/plain": [
       "[(73941, 34741),\n",
       " (65937, 17261),\n",
       " (79704, 13391),\n",
       " (66936, 12574),\n",
       " (58727, 12305),\n",
       " (61816, 9358),\n",
       " (52207, 7527),\n",
       " (67913, 7157),\n",
       " (64934, 6719),\n",
       " (46663, 6692),\n",
       " (63661, 6676),\n",
       " (66461, 6324),\n",
       " (60587, 5707),\n",
       " (64419, 5663),\n",
       " (9458, 5638),\n",
       " (48837, 5460),\n",
       " (67284, 5404),\n",
       " (38049, 5253),\n",
       " (81022, 5155),\n",
       " (62556, 5099),\n",
       " (15907, 4840),\n",
       " (69790, 4455),\n",
       " (20602, 4186),\n",
       " (62061, 4102),\n",
       " (54276, 3993),\n",
       " (58463, 3957),\n",
       " (26865, 3862),\n",
       " (54017, 3810),\n",
       " (54645, 3633),\n",
       " (50517, 3436)]"
      ]
     },
     "execution_count": 10,
     "metadata": {},
     "output_type": "execute_result"
    }
   ],
   "source": [
    "top = data_papers['n_citation'].sort_values(ascending=False).head(30)\n",
    "top_dict = list(zip(top.index, top.values))\n",
    "top_dict"
   ]
  },
  {
   "cell_type": "markdown",
   "metadata": {},
   "source": [
    "Plot the Citations vs number they have been used"
   ]
  },
  {
   "cell_type": "code",
   "execution_count": 11,
   "metadata": {},
   "outputs": [
    {
     "data": {
      "text/plain": [
       "<seaborn.axisgrid.FacetGrid at 0x7fd9800f5640>"
      ]
     },
     "execution_count": 11,
     "metadata": {},
     "output_type": "execute_result"
    },
    {
     "data": {
      "image/png": "[encoded data removed]",
      "text/plain": [
       "<Figure size 360x360 with 1 Axes>"
      ]
     },
     "metadata": {
      "needs_background": "light"
     },
     "output_type": "display_data"
    }
   ],
   "source": [
    "top_df = pd.DataFrame(top_dict, columns =['n_citation', 'Frequency']) \n",
    "sns.lmplot( x='n_citation', y='Frequency', data = top_df)"
   ]
  },
  {
   "cell_type": "markdown",
   "metadata": {},
   "source": [
    "Lets Also Analyze the number of citations vs. the year of publication (this takes 5 min to complete)"
   ]
  },
  {
   "cell_type": "code",
   "execution_count": 70,
   "metadata": {},
   "outputs": [],
   "source": [
    "# import matplotlib.pyplot as plt\n",
    "# fig, ax = plt.subplots() \n",
    "# # get x and y data \n",
    "# year = data_papers['year']\n",
    "# citation = data_papers['n_citation'] \n",
    "# # create bar chart \n",
    "# ax.bar(year, citation) \n",
    "# # set title and labels \n",
    "# ax.set_title('Wine Review Scores') \n",
    "# ax.set_xlabel('Ciataion') \n",
    "# ax.set_ylabel('Frequency')"
   ]
  },
  {
   "cell_type": "code",
   "execution_count": 12,
   "metadata": {},
   "outputs": [
    {
     "data": {
      "text/plain": [
       "<matplotlib.axes._subplots.AxesSubplot at 0x7fd9758eebe0>"
      ]
     },
     "execution_count": 12,
     "metadata": {},
     "output_type": "execute_result"
    },
    {
     "data": {
      "image/png": "[encoded data removed]",
      "text/plain": [
       "<Figure size 432x288 with 1 Axes>"
      ]
     },
     "metadata": {
      "needs_background": "light"
     },
     "output_type": "display_data"
    }
   ],
   "source": [
    "# print(data_papers.boxplot(column='year'))\n",
    "sns.boxplot(x=data_papers['n_citation'])"
   ]
  },
  {
   "cell_type": "markdown",
   "metadata": {},
   "source": [
    "Here we can visually see that most of the citations are close to 3-10 and there are skewed data between 10-15000. There is also a surge of data in abour 40000 citations"
   ]
  },
  {
   "cell_type": "markdown",
   "metadata": {},
   "source": [
    "### Analyzing the other columns"
   ]
  },
  {
   "cell_type": "markdown",
   "metadata": {},
   "source": [
    "#### analyze the column 'year'"
   ]
  },
  {
   "cell_type": "code",
   "execution_count": 13,
   "metadata": {
    "scrolled": false
   },
   "outputs": [
    {
     "data": {
      "text/plain": [
       "0    2001.0\n",
       "1    2001.0\n",
       "2    2001.0\n",
       "Name: year, dtype: float64"
      ]
     },
     "execution_count": 13,
     "metadata": {},
     "output_type": "execute_result"
    }
   ],
   "source": [
    "data_papers['year'].head(3)"
   ]
  },
  {
   "cell_type": "markdown",
   "metadata": {},
   "source": [
    "The years are represented as float64 format. We try to change them into int64."
   ]
  },
  {
   "cell_type": "code",
   "execution_count": 14,
   "metadata": {
    "scrolled": true
   },
   "outputs": [
    {
     "name": "stdout",
     "output_type": "stream",
     "text": [
      "Empty DataFrame\n",
      "Columns: [Unnamed: 0, id, authors, title, year, n_citation, page_start, page_end, doc_type, publisher, volume, issue, doi, indexed_abstract, fos, venue, references, alias_ids]\n",
      "Index: []\n"
     ]
    },
    {
     "data": {
      "text/plain": [
       "array([2001])"
      ]
     },
     "execution_count": 14,
     "metadata": {},
     "output_type": "execute_result"
    }
   ],
   "source": [
    "column_name = 'year'\n",
    "\n",
    "# first check for null value in the column\n",
    "print(data_papers[data_papers[column_name].isnull()])\n",
    "\n",
    "# change the data type into int64\n",
    "data_papers[column_name] = data_papers[column_name].astype(np.int64)\n",
    "\n",
    "# check for unique values\n",
    "data_papers[column_name].unique()"
   ]
  },
  {
   "cell_type": "markdown",
   "metadata": {},
   "source": [
    "#### Alias_ids\n",
    "After checking the alias_ids we concluded that it is not a consistant attribute in the database. there are 480 instances in a 80k sample.\n",
    "\n",
    "#### Fos\n",
    "fos has 385 NaN values which was decided to be dropped from the dataset.\n",
    "\n",
    "#### Venue\n",
    "venue has 784 NaN values and it was decided to be dropped from the dataset"
   ]
  },
  {
   "cell_type": "markdown",
   "metadata": {},
   "source": [
    "#### analyze the column fos"
   ]
  },
  {
   "cell_type": "code",
   "execution_count": 15,
   "metadata": {},
   "outputs": [
    {
     "name": "stdout",
     "output_type": "stream",
     "text": [
      "385\n"
     ]
    }
   ],
   "source": [
    "print(data_papers['fos'].isnull().sum())\n",
    "data_papers = data_papers.dropna(subset = ['fos'])"
   ]
  },
  {
   "cell_type": "code",
   "execution_count": 16,
   "metadata": {
    "scrolled": false
   },
   "outputs": [
    {
     "name": "stdout",
     "output_type": "stream",
     "text": [
      "784\n"
     ]
    }
   ],
   "source": [
    "print(data_papers['venue'].isnull().sum())\n",
    "data_papers = data_papers.dropna(subset = ['venue'])"
   ]
  },
  {
   "cell_type": "markdown",
   "metadata": {},
   "source": [
    "saving the data as pickel for next section"
   ]
  },
  {
   "cell_type": "code",
   "execution_count": 19,
   "metadata": {},
   "outputs": [],
   "source": [
    "import pickle\n",
    "pickle_path = '../Data/papers_clean.pkl'\n",
    "data_papers.to_pickle(pickle_path)"
   ]
  },
  {
   "cell_type": "markdown",
   "metadata": {},
   "source": [
    "TODO:\n",
    "- Try the same analysis on some other years, making sure the NaN values for other years are not too different.\n",
    "- Feature selection and extraction\n",
    "  - the graph features\n",
    "  - h-index etc."
   ]
  },
  {
   "cell_type": "markdown",
   "metadata": {},
   "source": [
    "### Adding the Current Features"
   ]
  },
  {
   "cell_type": "code",
   "execution_count": 3,
   "metadata": {},
   "outputs": [
    {
     "data": {
      "text/html": [
       "<div>\n",
       "<style scoped>\n",
       "    .dataframe tbody tr th:only-of-type {\n",
       "        vertical-align: middle;\n",
       "    }\n",
       "\n",
       "    .dataframe tbody tr th {\n",
       "        vertical-align: top;\n",
       "    }\n",
       "\n",
       "    .dataframe thead th {\n",
       "        text-align: right;\n",
       "    }\n",
       "</style>\n",
       "<table border=\"1\" class=\"dataframe\">\n",
       "  <thead>\n",
       "    <tr style=\"text-align: right;\">\n",
       "      <th></th>\n",
       "      <th>Unnamed: 0</th>\n",
       "      <th>id</th>\n",
       "      <th>doc_type</th>\n",
       "      <th>journal_publications</th>\n",
       "      <th>organization_num</th>\n",
       "      <th>prev_citation_sum</th>\n",
       "      <th>faculty_impact</th>\n",
       "      <th>productivity</th>\n",
       "      <th>title_length</th>\n",
       "      <th>H_index</th>\n",
       "      <th>...</th>\n",
       "      <th>journal_percent</th>\n",
       "      <th>conference_percent</th>\n",
       "      <th>patent_percent</th>\n",
       "      <th>book_percent</th>\n",
       "      <th>paper_len</th>\n",
       "      <th>avg_cite</th>\n",
       "      <th>n_papers</th>\n",
       "      <th>n_references</th>\n",
       "      <th>n_authors</th>\n",
       "      <th>n_citation</th>\n",
       "    </tr>\n",
       "  </thead>\n",
       "  <tbody>\n",
       "    <tr>\n",
       "      <th>0</th>\n",
       "      <td>0</td>\n",
       "      <td>100001334</td>\n",
       "      <td>NaN</td>\n",
       "      <td>NaN</td>\n",
       "      <td>0</td>\n",
       "      <td>NaN</td>\n",
       "      <td>NaN</td>\n",
       "      <td>1</td>\n",
       "      <td>9</td>\n",
       "      <td>1</td>\n",
       "      <td>...</td>\n",
       "      <td>NaN</td>\n",
       "      <td>NaN</td>\n",
       "      <td>NaN</td>\n",
       "      <td>NaN</td>\n",
       "      <td>2.0</td>\n",
       "      <td>NaN</td>\n",
       "      <td>NaN</td>\n",
       "      <td>NaN</td>\n",
       "      <td>3</td>\n",
       "      <td>2</td>\n",
       "    </tr>\n",
       "    <tr>\n",
       "      <th>1</th>\n",
       "      <td>1</td>\n",
       "      <td>1000018889</td>\n",
       "      <td>Conference</td>\n",
       "      <td>NaN</td>\n",
       "      <td>2</td>\n",
       "      <td>NaN</td>\n",
       "      <td>1.0</td>\n",
       "      <td>2</td>\n",
       "      <td>10</td>\n",
       "      <td>1</td>\n",
       "      <td>...</td>\n",
       "      <td>0.0</td>\n",
       "      <td>0.0</td>\n",
       "      <td>0.0</td>\n",
       "      <td>0.0</td>\n",
       "      <td>13.0</td>\n",
       "      <td>NaN</td>\n",
       "      <td>1.0</td>\n",
       "      <td>12.0</td>\n",
       "      <td>4</td>\n",
       "      <td>2</td>\n",
       "    </tr>\n",
       "    <tr>\n",
       "      <th>2</th>\n",
       "      <td>2</td>\n",
       "      <td>1000022707</td>\n",
       "      <td>Journal</td>\n",
       "      <td>NaN</td>\n",
       "      <td>0</td>\n",
       "      <td>NaN</td>\n",
       "      <td>NaN</td>\n",
       "      <td>1</td>\n",
       "      <td>9</td>\n",
       "      <td>0</td>\n",
       "      <td>...</td>\n",
       "      <td>0.0</td>\n",
       "      <td>0.0</td>\n",
       "      <td>0.0</td>\n",
       "      <td>0.0</td>\n",
       "      <td>9.0</td>\n",
       "      <td>NaN</td>\n",
       "      <td>NaN</td>\n",
       "      <td>2.0</td>\n",
       "      <td>1</td>\n",
       "      <td>0</td>\n",
       "    </tr>\n",
       "    <tr>\n",
       "      <th>3</th>\n",
       "      <td>3</td>\n",
       "      <td>100004108</td>\n",
       "      <td>Conference</td>\n",
       "      <td>NaN</td>\n",
       "      <td>1</td>\n",
       "      <td>NaN</td>\n",
       "      <td>0.0</td>\n",
       "      <td>1</td>\n",
       "      <td>9</td>\n",
       "      <td>0</td>\n",
       "      <td>...</td>\n",
       "      <td>0.0</td>\n",
       "      <td>0.0</td>\n",
       "      <td>0.0</td>\n",
       "      <td>0.0</td>\n",
       "      <td>8.0</td>\n",
       "      <td>NaN</td>\n",
       "      <td>1.0</td>\n",
       "      <td>9.0</td>\n",
       "      <td>2</td>\n",
       "      <td>0</td>\n",
       "    </tr>\n",
       "    <tr>\n",
       "      <th>4</th>\n",
       "      <td>4</td>\n",
       "      <td>10000571</td>\n",
       "      <td>Conference</td>\n",
       "      <td>NaN</td>\n",
       "      <td>2</td>\n",
       "      <td>NaN</td>\n",
       "      <td>1.0</td>\n",
       "      <td>1</td>\n",
       "      <td>11</td>\n",
       "      <td>1</td>\n",
       "      <td>...</td>\n",
       "      <td>0.0</td>\n",
       "      <td>0.0</td>\n",
       "      <td>0.0</td>\n",
       "      <td>0.0</td>\n",
       "      <td>8.0</td>\n",
       "      <td>NaN</td>\n",
       "      <td>1.0</td>\n",
       "      <td>7.0</td>\n",
       "      <td>3</td>\n",
       "      <td>5</td>\n",
       "    </tr>\n",
       "  </tbody>\n",
       "</table>\n",
       "<p>5 rows × 23 columns</p>\n",
       "</div>"
      ],
      "text/plain": [
       "   Unnamed: 0          id    doc_type  journal_publications  organization_num  \\\n",
       "0           0   100001334         NaN                   NaN                 0   \n",
       "1           1  1000018889  Conference                   NaN                 2   \n",
       "2           2  1000022707     Journal                   NaN                 0   \n",
       "3           3   100004108  Conference                   NaN                 1   \n",
       "4           4    10000571  Conference                   NaN                 2   \n",
       "\n",
       "   prev_citation_sum  faculty_impact  productivity  title_length  H_index  \\\n",
       "0                NaN             NaN             1             9        1   \n",
       "1                NaN             1.0             2            10        1   \n",
       "2                NaN             NaN             1             9        0   \n",
       "3                NaN             0.0             1             9        0   \n",
       "4                NaN             1.0             1            11        1   \n",
       "\n",
       "   ...  journal_percent  conference_percent  patent_percent  book_percent  \\\n",
       "0  ...              NaN                 NaN             NaN           NaN   \n",
       "1  ...              0.0                 0.0             0.0           0.0   \n",
       "2  ...              0.0                 0.0             0.0           0.0   \n",
       "3  ...              0.0                 0.0             0.0           0.0   \n",
       "4  ...              0.0                 0.0             0.0           0.0   \n",
       "\n",
       "   paper_len  avg_cite  n_papers  n_references  n_authors  n_citation  \n",
       "0        2.0       NaN       NaN           NaN          3           2  \n",
       "1       13.0       NaN       1.0          12.0          4           2  \n",
       "2        9.0       NaN       NaN           2.0          1           0  \n",
       "3        8.0       NaN       1.0           9.0          2           0  \n",
       "4        8.0       NaN       1.0           7.0          3           5  \n",
       "\n",
       "[5 rows x 23 columns]"
      ]
     },
     "execution_count": 3,
     "metadata": {},
     "output_type": "execute_result"
    }
   ],
   "source": [
    "data_features = pd.read_csv('../Data/features100.csv')\n",
    "data_features.head()"
   ]
  },
  {
   "cell_type": "code",
   "execution_count": null,
   "metadata": {},
   "outputs": [],
   "source": []
  },
  {
   "cell_type": "markdown",
   "metadata": {},
   "source": [
    "### Saving the temp dataframes for later use "
   ]
  },
  {
   "cell_type": "markdown",
   "metadata": {},
   "source": [
    "We can use 'feather' to save the dataFrames into binary which later can be loaded. much more efficient than saving using CSV"
   ]
  },
  {
   "cell_type": "markdown",
   "metadata": {},
   "source": [
    "### TO-DOs\n",
    "read the below for feature engineering:\n",
    "- https://towardsdatascience.com/feature-engineering-for-machine-learning-3a5e293a5114\n"
   ]
  },
  {
   "cell_type": "markdown",
   "metadata": {},
   "source": [
    "### Ideas to save the RAM space\n",
    "\n",
    "1- memory optimization step we can perform already at this point (assuming we know our table structure by now) \n",
    "   is specifying the columns data types during the import (via the dtype= input parameter).\n",
    "\n",
    "```\n",
    "df = pd.read_csv(‘data/clickstream_data.tsv’, \n",
    "    delimiter=’\\t’,\n",
    "    names=[‘coming_from’, ‘article’, ‘referrer_type’, ‘n’],\n",
    "    dtype={\n",
    "        ‘referrer_type’: ‘category’, \n",
    "        ’n’: ‘uint32’}\n",
    ")\n",
    "```\n",
    "\n",
    "2- using the python Dask library which uses parallel computing and supports dask dataframs.\n",
    "3- migrate the data into postgreSQL and write quaries. it can be connected into your jupyter notebook.\n",
    "\n",
    "\n",
    "source: https://towardsdatascience.com/how-to-handle-large-datasets-in-python-with-pandas-and-dask-34f43a897d55\n"
   ]
  }
 ],
 "metadata": {
  "kernelspec": {
   "display_name": "Python 3",
   "language": "python",
   "name": "python3"
  },
  "language_info": {
   "codemirror_mode": {
    "name": "ipython",
    "version": 3
   },
   "file_extension": ".py",
   "mimetype": "text/x-python",
   "name": "python",
   "nbconvert_exporter": "python",
   "pygments_lexer": "ipython3",
   "version": "3.8.3"
  }
 },
 "nbformat": 4,
 "nbformat_minor": 4
}
