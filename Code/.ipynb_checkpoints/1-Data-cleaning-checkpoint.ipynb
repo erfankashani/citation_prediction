{
 "cells": [
  {
   "cell_type": "markdown",
   "metadata": {},
   "source": [
    "# Data Fetching and Cleaning"
   ]
  },
  {
   "cell_type": "markdown",
   "metadata": {},
   "source": [
    "## Introduction"
   ]
  },
  {
   "cell_type": "markdown",
   "metadata": {},
   "source": [
    "In this notebook we will fetch the dataset and clean the necessary parts"
   ]
  },
  {
   "cell_type": "markdown",
   "metadata": {},
   "source": [
    "### Infoemation about the Dataset"
   ]
  },
  {
   "cell_type": "markdown",
   "metadata": {},
   "source": [
    "Dataset is based on the AMiner V12 database. The database can be downloaded from https://www.aminer.org/citation\n",
    "\n",
    "The Predictors (Inputs): \n",
    "The Target (Output): 'n_citation' (number of citations)\n"
   ]
  },
  {
   "cell_type": "markdown",
   "metadata": {},
   "source": [
    "## Plan of Attack:\n",
    "1- Analyze the Raw Data from papers.csv authors.cvs orgs.csv\n",
    "2- Analyze the Features from feature.csv and check the correlations"
   ]
  },
  {
   "cell_type": "markdown",
   "metadata": {},
   "source": [
    "### Adding the libraries"
   ]
  },
  {
   "cell_type": "code",
   "execution_count": 14,
   "metadata": {},
   "outputs": [],
   "source": [
    "import pandas as pd\n",
    "import matplotlib as plt\n",
    "import ast\n",
    "import numpy as np\n",
    "import seaborn as sns\n",
    "from statistics import mean"
   ]
  },
  {
   "cell_type": "markdown",
   "metadata": {},
   "source": [
    "### Adding the Database"
   ]
  },
  {
   "cell_type": "code",
   "execution_count": 42,
   "metadata": {},
   "outputs": [
    {
     "data": {
      "text/html": [
       "<div>\n",
       "<style scoped>\n",
       "    .dataframe tbody tr th:only-of-type {\n",
       "        vertical-align: middle;\n",
       "    }\n",
       "\n",
       "    .dataframe tbody tr th {\n",
       "        vertical-align: top;\n",
       "    }\n",
       "\n",
       "    .dataframe thead th {\n",
       "        text-align: right;\n",
       "    }\n",
       "</style>\n",
       "<table border=\"1\" class=\"dataframe\">\n",
       "  <thead>\n",
       "    <tr style=\"text-align: right;\">\n",
       "      <th></th>\n",
       "      <th>Unnamed: 0</th>\n",
       "      <th>id</th>\n",
       "      <th>authors</th>\n",
       "      <th>title</th>\n",
       "      <th>year</th>\n",
       "      <th>n_citation</th>\n",
       "      <th>page_start</th>\n",
       "      <th>page_end</th>\n",
       "      <th>doc_type</th>\n",
       "      <th>publisher</th>\n",
       "      <th>volume</th>\n",
       "      <th>issue</th>\n",
       "      <th>doi</th>\n",
       "      <th>indexed_abstract</th>\n",
       "      <th>fos</th>\n",
       "      <th>venue</th>\n",
       "      <th>references</th>\n",
       "      <th>alias_ids</th>\n",
       "    </tr>\n",
       "  </thead>\n",
       "  <tbody>\n",
       "    <tr>\n",
       "      <th>0</th>\n",
       "      <td>0</td>\n",
       "      <td>1883489</td>\n",
       "      <td>[{'name': 'Orazio Miglino', 'org': 'Seconda Un...</td>\n",
       "      <td>Behavioural Trajectories of Adaptive Mobile Ro...</td>\n",
       "      <td>2001.0</td>\n",
       "      <td>0</td>\n",
       "      <td>22</td>\n",
       "      <td>27.0</td>\n",
       "      <td>Conference</td>\n",
       "      <td>IOS Press</td>\n",
       "      <td>NaN</td>\n",
       "      <td>NaN</td>\n",
       "      <td>NaN</td>\n",
       "      <td>{'IndexLength': 234, 'InvertedIndex': {'equiva...</td>\n",
       "      <td>[{'name': 'Cognitive map', 'w': 0.51094}, {'na...</td>\n",
       "      <td>{'raw': 'Scandinavian Conference on AI', 'id':...</td>\n",
       "      <td>NaN</td>\n",
       "      <td>NaN</td>\n",
       "    </tr>\n",
       "    <tr>\n",
       "      <th>1</th>\n",
       "      <td>1</td>\n",
       "      <td>1888009</td>\n",
       "      <td>[{'name': 'Qiao Liu', 'id': 2311584535}, {'nam...</td>\n",
       "      <td>Functional modeling of process systems for int...</td>\n",
       "      <td>2001.0</td>\n",
       "      <td>0</td>\n",
       "      <td>685</td>\n",
       "      <td>689.0</td>\n",
       "      <td>Conference</td>\n",
       "      <td>NaN</td>\n",
       "      <td>NaN</td>\n",
       "      <td>NaN</td>\n",
       "      <td>NaN</td>\n",
       "      <td>NaN</td>\n",
       "      <td>[{'name': 'Computer science', 'w': 0.41495}, {...</td>\n",
       "      <td>{'raw': 'International Conference on Human-Com...</td>\n",
       "      <td>NaN</td>\n",
       "      <td>NaN</td>\n",
       "    </tr>\n",
       "    <tr>\n",
       "      <th>2</th>\n",
       "      <td>2</td>\n",
       "      <td>1900505</td>\n",
       "      <td>[{'name': 'Islam Shdaifat', 'id': 2303763467},...</td>\n",
       "      <td>Viseme recognition using multiple feature matc...</td>\n",
       "      <td>2001.0</td>\n",
       "      <td>0</td>\n",
       "      <td>2431</td>\n",
       "      <td>2434.0</td>\n",
       "      <td>Conference</td>\n",
       "      <td>NaN</td>\n",
       "      <td>NaN</td>\n",
       "      <td>NaN</td>\n",
       "      <td>NaN</td>\n",
       "      <td>{'IndexLength': 135, 'InvertedIndex': {'small'...</td>\n",
       "      <td>[{'name': 'Line segment', 'w': 0.45362}, {'nam...</td>\n",
       "      <td>{'raw': 'Conference of the International Speec...</td>\n",
       "      <td>[1488183088, 1547339340, 2045266328, 210288002...</td>\n",
       "      <td>NaN</td>\n",
       "    </tr>\n",
       "    <tr>\n",
       "      <th>3</th>\n",
       "      <td>3</td>\n",
       "      <td>1800840</td>\n",
       "      <td>[{'name': 'Irna M. R. Evangelista Filha', 'id'...</td>\n",
       "      <td>Querying Semistructured Data By Example: The Q...</td>\n",
       "      <td>2001.0</td>\n",
       "      <td>28</td>\n",
       "      <td>156</td>\n",
       "      <td>163.0</td>\n",
       "      <td>NaN</td>\n",
       "      <td>NaN</td>\n",
       "      <td>NaN</td>\n",
       "      <td>NaN</td>\n",
       "      <td>NaN</td>\n",
       "      <td>NaN</td>\n",
       "      <td>[{'name': 'Computer science', 'w': 0.43741}, {...</td>\n",
       "      <td>{'raw': 'Workshop on Information Integration o...</td>\n",
       "      <td>NaN</td>\n",
       "      <td>NaN</td>\n",
       "    </tr>\n",
       "    <tr>\n",
       "      <th>4</th>\n",
       "      <td>4</td>\n",
       "      <td>1887734</td>\n",
       "      <td>[{'name': 'J. Ramanujam', 'org': 'Louisiana St...</td>\n",
       "      <td>Integer lattice based methods for local addres...</td>\n",
       "      <td>2001.0</td>\n",
       "      <td>0</td>\n",
       "      <td>597</td>\n",
       "      <td>645.0</td>\n",
       "      <td>NaN</td>\n",
       "      <td>Springer, Berlin, Heidelberg</td>\n",
       "      <td>NaN</td>\n",
       "      <td>NaN</td>\n",
       "      <td>10.1007/3-540-45403-9_17</td>\n",
       "      <td>{'IndexLength': 236, 'InvertedIndex': {'(non-u...</td>\n",
       "      <td>[{'name': 'Linear combination', 'w': 0.51501},...</td>\n",
       "      <td>{'raw': 'Compiler optimizations for scalable p...</td>\n",
       "      <td>[154696699, 1485615235, 1527919631, 1562081118...</td>\n",
       "      <td>NaN</td>\n",
       "    </tr>\n",
       "  </tbody>\n",
       "</table>\n",
       "</div>"
      ],
      "text/plain": [
       "  Unnamed: 0       id                                            authors  \\\n",
       "0          0  1883489  [{'name': 'Orazio Miglino', 'org': 'Seconda Un...   \n",
       "1          1  1888009  [{'name': 'Qiao Liu', 'id': 2311584535}, {'nam...   \n",
       "2          2  1900505  [{'name': 'Islam Shdaifat', 'id': 2303763467},...   \n",
       "3          3  1800840  [{'name': 'Irna M. R. Evangelista Filha', 'id'...   \n",
       "4          4  1887734  [{'name': 'J. Ramanujam', 'org': 'Louisiana St...   \n",
       "\n",
       "                                               title    year n_citation  \\\n",
       "0  Behavioural Trajectories of Adaptive Mobile Ro...  2001.0          0   \n",
       "1  Functional modeling of process systems for int...  2001.0          0   \n",
       "2  Viseme recognition using multiple feature matc...  2001.0          0   \n",
       "3  Querying Semistructured Data By Example: The Q...  2001.0         28   \n",
       "4  Integer lattice based methods for local addres...  2001.0          0   \n",
       "\n",
       "  page_start  page_end    doc_type                     publisher volume issue  \\\n",
       "0         22      27.0  Conference                     IOS Press    NaN   NaN   \n",
       "1        685     689.0  Conference                           NaN    NaN   NaN   \n",
       "2       2431    2434.0  Conference                           NaN    NaN   NaN   \n",
       "3        156     163.0         NaN                           NaN    NaN   NaN   \n",
       "4        597     645.0         NaN  Springer, Berlin, Heidelberg    NaN   NaN   \n",
       "\n",
       "                        doi  \\\n",
       "0                       NaN   \n",
       "1                       NaN   \n",
       "2                       NaN   \n",
       "3                       NaN   \n",
       "4  10.1007/3-540-45403-9_17   \n",
       "\n",
       "                                    indexed_abstract  \\\n",
       "0  {'IndexLength': 234, 'InvertedIndex': {'equiva...   \n",
       "1                                                NaN   \n",
       "2  {'IndexLength': 135, 'InvertedIndex': {'small'...   \n",
       "3                                                NaN   \n",
       "4  {'IndexLength': 236, 'InvertedIndex': {'(non-u...   \n",
       "\n",
       "                                                 fos  \\\n",
       "0  [{'name': 'Cognitive map', 'w': 0.51094}, {'na...   \n",
       "1  [{'name': 'Computer science', 'w': 0.41495}, {...   \n",
       "2  [{'name': 'Line segment', 'w': 0.45362}, {'nam...   \n",
       "3  [{'name': 'Computer science', 'w': 0.43741}, {...   \n",
       "4  [{'name': 'Linear combination', 'w': 0.51501},...   \n",
       "\n",
       "                                               venue  \\\n",
       "0  {'raw': 'Scandinavian Conference on AI', 'id':...   \n",
       "1  {'raw': 'International Conference on Human-Com...   \n",
       "2  {'raw': 'Conference of the International Speec...   \n",
       "3  {'raw': 'Workshop on Information Integration o...   \n",
       "4  {'raw': 'Compiler optimizations for scalable p...   \n",
       "\n",
       "                                          references alias_ids  \n",
       "0                                                NaN       NaN  \n",
       "1                                                NaN       NaN  \n",
       "2  [1488183088, 1547339340, 2045266328, 210288002...       NaN  \n",
       "3                                                NaN       NaN  \n",
       "4  [154696699, 1485615235, 1527919631, 1562081118...       NaN  "
      ]
     },
     "execution_count": 42,
     "metadata": {},
     "output_type": "execute_result"
    }
   ],
   "source": [
    "data_papers = pd.read_pickle('../Data/papers.pkl')\n",
    "data_papers.head()"
   ]
  },
  {
   "cell_type": "markdown",
   "metadata": {},
   "source": [
    "Lets Analyse each column:"
   ]
  },
  {
   "cell_type": "code",
   "execution_count": 43,
   "metadata": {},
   "outputs": [
    {
     "name": "stdout",
     "output_type": "stream",
     "text": [
      "The shape of the data is:  (81364, 18)\n"
     ]
    },
    {
     "data": {
      "text/plain": [
       "Unnamed: 0           object\n",
       "id                    int64\n",
       "authors              object\n",
       "title                object\n",
       "year                float64\n",
       "n_citation           object\n",
       "page_start           object\n",
       "page_end            float64\n",
       "doc_type             object\n",
       "publisher            object\n",
       "volume               object\n",
       "issue                object\n",
       "doi                  object\n",
       "indexed_abstract     object\n",
       "fos                  object\n",
       "venue                object\n",
       "references           object\n",
       "alias_ids            object\n",
       "dtype: object"
      ]
     },
     "execution_count": 43,
     "metadata": {},
     "output_type": "execute_result"
    }
   ],
   "source": [
    "print(\"The shape of the data is: \", str(data_papers.shape))\n",
    "data_papers.dtypes"
   ]
  },
  {
   "cell_type": "markdown",
   "metadata": {},
   "source": [
    "most of the data consist of Integers and Strings which is analyzed as object. Moreover, we know that n_citation is the type int64 but due to some data inconsistancies it is showing as an Object. We will try to clean the data first."
   ]
  },
  {
   "cell_type": "code",
   "execution_count": 45,
   "metadata": {},
   "outputs": [
    {
     "data": {
      "text/plain": [
       "0"
      ]
     },
     "execution_count": 45,
     "metadata": {},
     "output_type": "execute_result"
    }
   ],
   "source": [
    "# first checking for Null values\n",
    "data_papers['n_citation'].isnull().sum()\n",
    "\n",
    "# fill the null vlaue with zero (0)\n",
    "data_papers = data_papers.dropna(subset = ['n_citation','year'])\n",
    "\n",
    "# check the data agian for null value\n",
    "data_papers['n_citation'].isnull().sum()\n"
   ]
  },
  {
   "cell_type": "markdown",
   "metadata": {},
   "source": [
    "One of the rows had the value of 'object' instead of the actual n_citaion value. We will drop that row."
   ]
  },
  {
   "cell_type": "code",
   "execution_count": 46,
   "metadata": {},
   "outputs": [],
   "source": [
    "data_papers = data_papers.drop(data_papers.loc[data_papers['n_citation'] == 'Journal'].index)"
   ]
  },
  {
   "cell_type": "markdown",
   "metadata": {},
   "source": [
    "Some of the rows have the citaion value in String format while others are in the Int format. We change all the values into integers for consistancy"
   ]
  },
  {
   "cell_type": "code",
   "execution_count": 47,
   "metadata": {},
   "outputs": [
    {
     "data": {
      "text/plain": [
       "0         0\n",
       "1         0\n",
       "2         0\n",
       "3        28\n",
       "4         0\n",
       "         ..\n",
       "81359     3\n",
       "81360     0\n",
       "81361     0\n",
       "81362     2\n",
       "81363     0\n",
       "Name: n_citation, Length: 81362, dtype: int64"
      ]
     },
     "execution_count": 47,
     "metadata": {},
     "output_type": "execute_result"
    }
   ],
   "source": [
    "data_papers['n_citation'] = pd.to_numeric(data_papers['n_citation'])\n",
    "data_papers['n_citation']"
   ]
  },
  {
   "cell_type": "code",
   "execution_count": 48,
   "metadata": {},
   "outputs": [
    {
     "data": {
      "text/plain": [
       "Unnamed: 0           object\n",
       "id                    int64\n",
       "authors              object\n",
       "title                object\n",
       "year                float64\n",
       "n_citation            int64\n",
       "page_start           object\n",
       "page_end            float64\n",
       "doc_type             object\n",
       "publisher            object\n",
       "volume               object\n",
       "issue                object\n",
       "doi                  object\n",
       "indexed_abstract     object\n",
       "fos                  object\n",
       "venue                object\n",
       "references           object\n",
       "alias_ids            object\n",
       "dtype: object"
      ]
     },
     "execution_count": 48,
     "metadata": {},
     "output_type": "execute_result"
    }
   ],
   "source": [
    "data_papers.dtypes"
   ]
  },
  {
   "cell_type": "markdown",
   "metadata": {},
   "source": [
    "Now we see that the n_ciation type is an int64. Lets understand the basic statistical details like count, percentile, mean, std, max and min vlaues for the number of citaions."
   ]
  },
  {
   "cell_type": "code",
   "execution_count": 49,
   "metadata": {},
   "outputs": [
    {
     "name": "stdout",
     "output_type": "stream",
     "text": [
      "<class 'pandas.core.frame.DataFrame'>\n",
      "Int64Index: 81362 entries, 0 to 81363\n",
      "Data columns (total 18 columns):\n",
      " #   Column            Non-Null Count  Dtype  \n",
      "---  ------            --------------  -----  \n",
      " 0   Unnamed: 0        81362 non-null  object \n",
      " 1   id                81362 non-null  int64  \n",
      " 2   authors           81362 non-null  object \n",
      " 3   title             81362 non-null  object \n",
      " 4   year              81362 non-null  float64\n",
      " 5   n_citation        81362 non-null  int64  \n",
      " 6   page_start        75252 non-null  object \n",
      " 7   page_end          72454 non-null  float64\n",
      " 8   doc_type          72846 non-null  object \n",
      " 9   publisher         69948 non-null  object \n",
      " 10  volume            44152 non-null  object \n",
      " 11  issue             29957 non-null  object \n",
      " 12  doi               63238 non-null  object \n",
      " 13  indexed_abstract  69235 non-null  object \n",
      " 14  fos               80977 non-null  object \n",
      " 15  venue             80558 non-null  object \n",
      " 16  references        57544 non-null  object \n",
      " 17  alias_ids         483 non-null    object \n",
      "dtypes: float64(2), int64(2), object(14)\n",
      "memory usage: 11.8+ MB\n"
     ]
    }
   ],
   "source": [
    "data_papers.info()"
   ]
  },
  {
   "cell_type": "code",
   "execution_count": 50,
   "metadata": {},
   "outputs": [
    {
     "data": {
      "text/plain": [
       "count    81362.000000\n",
       "mean        34.281200\n",
       "std        212.629751\n",
       "min          0.000000\n",
       "25%          1.000000\n",
       "50%          7.000000\n",
       "75%         24.000000\n",
       "max      34741.000000\n",
       "Name: n_citation, dtype: float64"
      ]
     },
     "execution_count": 50,
     "metadata": {},
     "output_type": "execute_result"
    }
   ],
   "source": [
    "data_papers['n_citation'].describe()"
   ]
  },
  {
   "cell_type": "markdown",
   "metadata": {},
   "source": [
    "Looking at the data, the mean value for citations is about 13 while the median is 3. this shows the data is fairly \n",
    "skewed. It shows half of the papers have lower than 3 citaions while 75% of the data have lower than 9 citation.\n",
    "\n",
    "- We suspect the max value 42080 can be an outlier\n"
   ]
  },
  {
   "cell_type": "markdown",
   "metadata": {},
   "source": [
    "Lets look into the largest values of the dataset and how many times they were repeated."
   ]
  },
  {
   "cell_type": "code",
   "execution_count": 30,
   "metadata": {},
   "outputs": [
    {
     "data": {
      "text/plain": [
       "[(73941, 34741),\n",
       " (65937, 17261),\n",
       " (79704, 13391),\n",
       " (66936, 12574),\n",
       " (58727, 12305),\n",
       " (61816, 9358),\n",
       " (52207, 7527),\n",
       " (67913, 7157),\n",
       " (64934, 6719),\n",
       " (46663, 6692),\n",
       " (63661, 6676),\n",
       " (66461, 6324),\n",
       " (60587, 5707),\n",
       " (64419, 5663),\n",
       " (9458, 5638),\n",
       " (48837, 5460),\n",
       " (67284, 5404),\n",
       " (38049, 5253),\n",
       " (81022, 5155),\n",
       " (62556, 5099),\n",
       " (15907, 4840),\n",
       " (69790, 4455),\n",
       " (20602, 4186),\n",
       " (62061, 4102),\n",
       " (54276, 3993),\n",
       " (58463, 3957),\n",
       " (26865, 3862),\n",
       " (54017, 3810),\n",
       " (54645, 3633),\n",
       " (50517, 3436)]"
      ]
     },
     "execution_count": 30,
     "metadata": {},
     "output_type": "execute_result"
    }
   ],
   "source": [
    "top = data_papers['n_citation'].sort_values(ascending=False).head(30)\n",
    "top_dict = list(zip(top.index, top.values))\n",
    "top_dict"
   ]
  },
  {
   "cell_type": "markdown",
   "metadata": {},
   "source": [
    "Plot the Citations vs number they have been used"
   ]
  },
  {
   "cell_type": "code",
   "execution_count": 31,
   "metadata": {},
   "outputs": [
    {
     "data": {
      "text/plain": [
       "<seaborn.axisgrid.FacetGrid at 0x7fb6b665fdf0>"
      ]
     },
     "execution_count": 31,
     "metadata": {},
     "output_type": "execute_result"
    },
    {
     "data": {
      "image/png": "[encoded data removed]",
      "text/plain": [
       "<Figure size 360x360 with 1 Axes>"
      ]
     },
     "metadata": {
      "needs_background": "light"
     },
     "output_type": "display_data"
    }
   ],
   "source": [
    "top_df = pd.DataFrame(top_dict, columns =['n_citation', 'Frequency']) \n",
    "sns.lmplot( x='n_citation', y='Frequency', data = top_df)"
   ]
  },
  {
   "cell_type": "markdown",
   "metadata": {},
   "source": [
    "Lets Also Analyze the number of citations vs. the year of publication (this takes 5 min to complete)"
   ]
  },
  {
   "cell_type": "code",
   "execution_count": 70,
   "metadata": {},
   "outputs": [],
   "source": [
    "# import matplotlib.pyplot as plt\n",
    "# fig, ax = plt.subplots() \n",
    "# # get x and y data \n",
    "# year = data_papers['year']\n",
    "# citation = data_papers['n_citation'] \n",
    "# # create bar chart \n",
    "# ax.bar(year, citation) \n",
    "# # set title and labels \n",
    "# ax.set_title('Wine Review Scores') \n",
    "# ax.set_xlabel('Ciataion') \n",
    "# ax.set_ylabel('Frequency')"
   ]
  },
  {
   "cell_type": "code",
   "execution_count": 33,
   "metadata": {},
   "outputs": [
    {
     "data": {
      "text/plain": [
       "<matplotlib.axes._subplots.AxesSubplot at 0x7fb6b675f8e0>"
      ]
     },
     "execution_count": 33,
     "metadata": {},
     "output_type": "execute_result"
    },
    {
     "data": {
      "image/png": "[encoded data removed]",
      "text/plain": [
       "<Figure size 432x288 with 1 Axes>"
      ]
     },
     "metadata": {
      "needs_background": "light"
     },
     "output_type": "display_data"
    }
   ],
   "source": [
    "# print(data_papers.boxplot(column='year'))\n",
    "sns.boxplot(x=data_papers['n_citation'])"
   ]
  },
  {
   "cell_type": "markdown",
   "metadata": {},
   "source": [
    "Here we can visually see that most of the citations are close to 3-10 and there are skewed data between 10-15000. There is also a surge of data in abour 40000 citations"
   ]
  },
  {
   "cell_type": "markdown",
   "metadata": {},
   "source": [
    "### Analyzing the other columns"
   ]
  },
  {
   "cell_type": "markdown",
   "metadata": {},
   "source": [
    "#### analyze the column 'year'"
   ]
  },
  {
   "cell_type": "code",
   "execution_count": 72,
   "metadata": {
    "scrolled": false
   },
   "outputs": [
    {
     "data": {
      "text/plain": [
       "0    2001\n",
       "1    2001\n",
       "2    2001\n",
       "Name: year, dtype: int64"
      ]
     },
     "execution_count": 72,
     "metadata": {},
     "output_type": "execute_result"
    }
   ],
   "source": [
    "data_papers['year'].head(3)"
   ]
  },
  {
   "cell_type": "markdown",
   "metadata": {},
   "source": [
    "The years are represented as float64 format. We try to change them into int64."
   ]
  },
  {
   "cell_type": "code",
   "execution_count": 73,
   "metadata": {
    "scrolled": true
   },
   "outputs": [
    {
     "name": "stdout",
     "output_type": "stream",
     "text": [
      "Empty DataFrame\n",
      "Columns: [Unnamed: 0, id, authors, title, year, n_citation, page_start, page_end, doc_type, publisher, volume, issue, doi, indexed_abstract, fos, venue, references, alias_ids]\n",
      "Index: []\n"
     ]
    },
    {
     "data": {
      "text/plain": [
       "array([2001])"
      ]
     },
     "execution_count": 73,
     "metadata": {},
     "output_type": "execute_result"
    }
   ],
   "source": [
    "column_name = 'year'\n",
    "\n",
    "# first check for null value in the column\n",
    "print(data_papers[data_papers[column_name].isnull()])\n",
    "\n",
    "# change the data type into int64\n",
    "data_papers[column_name] = data_papers[column_name].astype(np.int64)\n",
    "\n",
    "# check for unique values\n",
    "data_papers[column_name].unique()"
   ]
  },
  {
   "cell_type": "markdown",
   "metadata": {},
   "source": [
    "#### Alias_ids\n",
    "After checking the alias_ids we concluded that it is not a consistant attribute in the database. there are 480 instances in a 80k sample.\n",
    "\n",
    "#### Fos\n",
    "fos has 385 NaN values which was decided to be dropped from the dataset.\n",
    "\n",
    "#### Venue\n",
    "venue has 784 NaN values and it was decided to be dropped from the dataset"
   ]
  },
  {
   "cell_type": "markdown",
   "metadata": {},
   "source": [
    "#### analyze the column fos"
   ]
  },
  {
   "cell_type": "code",
   "execution_count": 75,
   "metadata": {},
   "outputs": [
    {
     "name": "stdout",
     "output_type": "stream",
     "text": [
      "0\n"
     ]
    }
   ],
   "source": [
    "print(data_papers['fos'].isnull().sum())\n",
    "data_papers = data_papers.dropna(subset = ['fos'])"
   ]
  },
  {
   "cell_type": "code",
   "execution_count": 76,
   "metadata": {
    "scrolled": false
   },
   "outputs": [
    {
     "name": "stdout",
     "output_type": "stream",
     "text": [
      "0\n"
     ]
    }
   ],
   "source": [
    "print(data_papers['venue'].isnull().sum())\n",
    "data_papers = data_papers.dropna(subset = ['venue'])"
   ]
  },
  {
   "cell_type": "markdown",
   "metadata": {},
   "source": [
    "TODO:\n",
    "- Try the same analysis on some other years, making sure the NaN values for other years are not too different.\n",
    "- Feature Extraction\n",
    "  - the graph features\n",
    "  - h-index etc."
   ]
  },
  {
   "cell_type": "markdown",
   "metadata": {},
   "source": [
    "### Adding the Current Features"
   ]
  },
  {
   "cell_type": "code",
   "execution_count": 3,
   "metadata": {},
   "outputs": [
    {
     "data": {
      "text/html": [
       "<div>\n",
       "<style scoped>\n",
       "    .dataframe tbody tr th:only-of-type {\n",
       "        vertical-align: middle;\n",
       "    }\n",
       "\n",
       "    .dataframe tbody tr th {\n",
       "        vertical-align: top;\n",
       "    }\n",
       "\n",
       "    .dataframe thead th {\n",
       "        text-align: right;\n",
       "    }\n",
       "</style>\n",
       "<table border=\"1\" class=\"dataframe\">\n",
       "  <thead>\n",
       "    <tr style=\"text-align: right;\">\n",
       "      <th></th>\n",
       "      <th>Unnamed: 0</th>\n",
       "      <th>id</th>\n",
       "      <th>doc_type</th>\n",
       "      <th>journal_publications</th>\n",
       "      <th>organization_num</th>\n",
       "      <th>prev_citation_sum</th>\n",
       "      <th>faculty_impact</th>\n",
       "      <th>productivity</th>\n",
       "      <th>title_length</th>\n",
       "      <th>H_index</th>\n",
       "      <th>...</th>\n",
       "      <th>journal_percent</th>\n",
       "      <th>conference_percent</th>\n",
       "      <th>patent_percent</th>\n",
       "      <th>book_percent</th>\n",
       "      <th>paper_len</th>\n",
       "      <th>avg_cite</th>\n",
       "      <th>n_papers</th>\n",
       "      <th>n_references</th>\n",
       "      <th>n_authors</th>\n",
       "      <th>n_citation</th>\n",
       "    </tr>\n",
       "  </thead>\n",
       "  <tbody>\n",
       "    <tr>\n",
       "      <th>0</th>\n",
       "      <td>0</td>\n",
       "      <td>100001334</td>\n",
       "      <td>NaN</td>\n",
       "      <td>NaN</td>\n",
       "      <td>0</td>\n",
       "      <td>NaN</td>\n",
       "      <td>NaN</td>\n",
       "      <td>1</td>\n",
       "      <td>9</td>\n",
       "      <td>1</td>\n",
       "      <td>...</td>\n",
       "      <td>NaN</td>\n",
       "      <td>NaN</td>\n",
       "      <td>NaN</td>\n",
       "      <td>NaN</td>\n",
       "      <td>2.0</td>\n",
       "      <td>NaN</td>\n",
       "      <td>NaN</td>\n",
       "      <td>NaN</td>\n",
       "      <td>3</td>\n",
       "      <td>2</td>\n",
       "    </tr>\n",
       "    <tr>\n",
       "      <th>1</th>\n",
       "      <td>1</td>\n",
       "      <td>1000018889</td>\n",
       "      <td>Conference</td>\n",
       "      <td>NaN</td>\n",
       "      <td>2</td>\n",
       "      <td>NaN</td>\n",
       "      <td>1.0</td>\n",
       "      <td>2</td>\n",
       "      <td>10</td>\n",
       "      <td>1</td>\n",
       "      <td>...</td>\n",
       "      <td>0.0</td>\n",
       "      <td>0.0</td>\n",
       "      <td>0.0</td>\n",
       "      <td>0.0</td>\n",
       "      <td>13.0</td>\n",
       "      <td>NaN</td>\n",
       "      <td>1.0</td>\n",
       "      <td>12.0</td>\n",
       "      <td>4</td>\n",
       "      <td>2</td>\n",
       "    </tr>\n",
       "    <tr>\n",
       "      <th>2</th>\n",
       "      <td>2</td>\n",
       "      <td>1000022707</td>\n",
       "      <td>Journal</td>\n",
       "      <td>NaN</td>\n",
       "      <td>0</td>\n",
       "      <td>NaN</td>\n",
       "      <td>NaN</td>\n",
       "      <td>1</td>\n",
       "      <td>9</td>\n",
       "      <td>0</td>\n",
       "      <td>...</td>\n",
       "      <td>0.0</td>\n",
       "      <td>0.0</td>\n",
       "      <td>0.0</td>\n",
       "      <td>0.0</td>\n",
       "      <td>9.0</td>\n",
       "      <td>NaN</td>\n",
       "      <td>NaN</td>\n",
       "      <td>2.0</td>\n",
       "      <td>1</td>\n",
       "      <td>0</td>\n",
       "    </tr>\n",
       "    <tr>\n",
       "      <th>3</th>\n",
       "      <td>3</td>\n",
       "      <td>100004108</td>\n",
       "      <td>Conference</td>\n",
       "      <td>NaN</td>\n",
       "      <td>1</td>\n",
       "      <td>NaN</td>\n",
       "      <td>0.0</td>\n",
       "      <td>1</td>\n",
       "      <td>9</td>\n",
       "      <td>0</td>\n",
       "      <td>...</td>\n",
       "      <td>0.0</td>\n",
       "      <td>0.0</td>\n",
       "      <td>0.0</td>\n",
       "      <td>0.0</td>\n",
       "      <td>8.0</td>\n",
       "      <td>NaN</td>\n",
       "      <td>1.0</td>\n",
       "      <td>9.0</td>\n",
       "      <td>2</td>\n",
       "      <td>0</td>\n",
       "    </tr>\n",
       "    <tr>\n",
       "      <th>4</th>\n",
       "      <td>4</td>\n",
       "      <td>10000571</td>\n",
       "      <td>Conference</td>\n",
       "      <td>NaN</td>\n",
       "      <td>2</td>\n",
       "      <td>NaN</td>\n",
       "      <td>1.0</td>\n",
       "      <td>1</td>\n",
       "      <td>11</td>\n",
       "      <td>1</td>\n",
       "      <td>...</td>\n",
       "      <td>0.0</td>\n",
       "      <td>0.0</td>\n",
       "      <td>0.0</td>\n",
       "      <td>0.0</td>\n",
       "      <td>8.0</td>\n",
       "      <td>NaN</td>\n",
       "      <td>1.0</td>\n",
       "      <td>7.0</td>\n",
       "      <td>3</td>\n",
       "      <td>5</td>\n",
       "    </tr>\n",
       "  </tbody>\n",
       "</table>\n",
       "<p>5 rows × 23 columns</p>\n",
       "</div>"
      ],
      "text/plain": [
       "   Unnamed: 0          id    doc_type  journal_publications  organization_num  \\\n",
       "0           0   100001334         NaN                   NaN                 0   \n",
       "1           1  1000018889  Conference                   NaN                 2   \n",
       "2           2  1000022707     Journal                   NaN                 0   \n",
       "3           3   100004108  Conference                   NaN                 1   \n",
       "4           4    10000571  Conference                   NaN                 2   \n",
       "\n",
       "   prev_citation_sum  faculty_impact  productivity  title_length  H_index  \\\n",
       "0                NaN             NaN             1             9        1   \n",
       "1                NaN             1.0             2            10        1   \n",
       "2                NaN             NaN             1             9        0   \n",
       "3                NaN             0.0             1             9        0   \n",
       "4                NaN             1.0             1            11        1   \n",
       "\n",
       "   ...  journal_percent  conference_percent  patent_percent  book_percent  \\\n",
       "0  ...              NaN                 NaN             NaN           NaN   \n",
       "1  ...              0.0                 0.0             0.0           0.0   \n",
       "2  ...              0.0                 0.0             0.0           0.0   \n",
       "3  ...              0.0                 0.0             0.0           0.0   \n",
       "4  ...              0.0                 0.0             0.0           0.0   \n",
       "\n",
       "   paper_len  avg_cite  n_papers  n_references  n_authors  n_citation  \n",
       "0        2.0       NaN       NaN           NaN          3           2  \n",
       "1       13.0       NaN       1.0          12.0          4           2  \n",
       "2        9.0       NaN       NaN           2.0          1           0  \n",
       "3        8.0       NaN       1.0           9.0          2           0  \n",
       "4        8.0       NaN       1.0           7.0          3           5  \n",
       "\n",
       "[5 rows x 23 columns]"
      ]
     },
     "execution_count": 3,
     "metadata": {},
     "output_type": "execute_result"
    }
   ],
   "source": [
    "data_features = pd.read_csv('../Data/features100.csv')\n",
    "data_features.head()"
   ]
  },
  {
   "cell_type": "code",
   "execution_count": null,
   "metadata": {},
   "outputs": [],
   "source": []
  },
  {
   "cell_type": "markdown",
   "metadata": {},
   "source": [
    "### Saving the temp dataframes for later use "
   ]
  },
  {
   "cell_type": "markdown",
   "metadata": {},
   "source": [
    "We can use 'feather' to save the dataFrames into binary which later can be loaded. much more efficient than saving using CSV"
   ]
  },
  {
   "cell_type": "markdown",
   "metadata": {},
   "source": [
    "### TO-DOs\n",
    "read the below for feature engineering:\n",
    "- https://towardsdatascience.com/feature-engineering-for-machine-learning-3a5e293a5114\n"
   ]
  },
  {
   "cell_type": "markdown",
   "metadata": {},
   "source": [
    "### Ideas to save the RAM space\n",
    "\n",
    "1- memory optimization step we can perform already at this point (assuming we know our table structure by now) \n",
    "   is specifying the columns data types during the import (via the dtype= input parameter).\n",
    "\n",
    "```\n",
    "df = pd.read_csv(‘data/clickstream_data.tsv’, \n",
    "    delimiter=’\\t’,\n",
    "    names=[‘coming_from’, ‘article’, ‘referrer_type’, ‘n’],\n",
    "    dtype={\n",
    "        ‘referrer_type’: ‘category’, \n",
    "        ’n’: ‘uint32’}\n",
    ")\n",
    "```\n",
    "\n",
    "2- using the python Dask library which uses parallel computing and supports dask dataframs.\n",
    "3- migrate the data into postgreSQL and write quaries. it can be connected into your jupyter notebook.\n",
    "\n",
    "\n",
    "source: https://towardsdatascience.com/how-to-handle-large-datasets-in-python-with-pandas-and-dask-34f43a897d55\n"
   ]
  }
 ],
 "metadata": {
  "kernelspec": {
   "display_name": "Python 3",
   "language": "python",
   "name": "python3"
  },
  "language_info": {
   "codemirror_mode": {
    "name": "ipython",
    "version": 3
   },
   "file_extension": ".py",
   "mimetype": "text/x-python",
   "name": "python",
   "nbconvert_exporter": "python",
   "pygments_lexer": "ipython3",
   "version": "3.8.3"
  }
 },
 "nbformat": 4,
 "nbformat_minor": 4
}
