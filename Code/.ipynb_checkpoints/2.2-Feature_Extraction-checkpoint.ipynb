{
 "cells": [
  {
   "cell_type": "markdown",
   "metadata": {
    "id": "IeA3EGH5YOrm"
   },
   "source": [
    "# Feature Extraction"
   ]
  },
  {
   "cell_type": "markdown",
   "metadata": {
    "id": "rdyFjeMtYOrr"
   },
   "source": [
    "#### Adding the libraries"
   ]
  },
  {
   "cell_type": "code",
   "execution_count": null,
   "metadata": {
    "id": "5mN7b_7qYOrs"
   },
   "outputs": [],
   "source": [
    "import pandas as pd\n",
    "import matplotlib as plt\n",
    "import ast\n",
    "import numpy as np\n",
    "from statistics import mean\n",
    "import pickle"
   ]
  },
  {
   "cell_type": "markdown",
   "metadata": {
    "id": "P4VOW7i6YOrs"
   },
   "source": [
    "#### Adding the database"
   ]
  },
  {
   "cell_type": "code",
   "execution_count": null,
   "metadata": {
    "id": "bo8In1j4sNiC"
   },
   "outputs": [],
   "source": [
    "data_papers = pd.read_pickle('../Data/papers0_2010_clean_referenced.pkl')\n",
    "data_papers.head()"
   ]
  },
  {
   "cell_type": "markdown",
   "metadata": {
    "id": "MVJBAfh5YOrt"
   },
   "source": [
    "#### The list of features:\n",
    "\n",
    "* Diversity\n",
    "* Productivity\n",
    "* H-index\n",
    "* Author Rank\n",
    "* Venue Rank\n",
    "* Maximum Past Influence of Authors (Past Influence of Authors)\n",
    "* Total Past Influence of Authors (Past Influence of Authors)\n",
    "* Maximum Past Influence of Venues (Past Influence of Venues)\n",
    "* Total Past Influence of Venues (Past Influence of Venues)\n",
    "* Versatility\n",
    "* Novelty\n",
    "* Sociality\n",
    "* Authority\n",
    "* Venue Centrality\n",
    "* First two years performance \n",
    "* Yearly citations "
   ]
  },
  {
   "cell_type": "markdown",
   "metadata": {
    "id": "N6mNmir8YOru"
   },
   "source": [
    "#### The features that need merge (like multi authors) will be calculated during feature file creation "
   ]
  },
  {
   "cell_type": "markdown",
   "metadata": {
    "id": "69eWR73YYOrv"
   },
   "source": [
    "#### Diversity"
   ]
  },
  {
   "cell_type": "code",
   "execution_count": null,
   "metadata": {
    "id": "rUaGGBgIYOrv"
   },
   "outputs": [],
   "source": [
    "# Diversity formula \n",
    "data_papers['diversity'] = data_papers['fos']\n",
    "data_papers['diversity'] = data_papers.diversity.apply(lambda x: sum([-i['w']*np.log(i['w']) for i in x if i['w'] > 0.0]))"
   ]
  },
  {
   "cell_type": "markdown",
   "metadata": {
    "id": "Mvz5OJwHYOrv"
   },
   "source": [
    "analyze the feature"
   ]
  },
  {
   "cell_type": "code",
   "execution_count": null,
   "metadata": {
    "id": "SvDuM7JNYOrw"
   },
   "outputs": [],
   "source": [
    "print(data_papers['diversity'].head())\n",
    "print(data_papers['diversity'].describe())\n",
    "print(data_papers['n_citation'].corr(data_papers['diversity']))\n",
    "print(data_papers['citation'].corr(data_papers['diversity']))\n",
    "print(data_papers['citation_5yr'].corr(data_papers['diversity']))\n",
    "print(data_papers['citation_10yr'].corr(data_papers['diversity']))"
   ]
  },
  {
   "cell_type": "markdown",
   "metadata": {
    "id": "rncRseTWYOrw"
   },
   "source": [
    "### Author table"
   ]
  },
  {
   "cell_type": "markdown",
   "metadata": {
    "id": "-q-pKkM3YOrw"
   },
   "source": [
    "##### Adding paper IDs and citation to the table"
   ]
  },
  {
   "cell_type": "code",
   "execution_count": null,
   "metadata": {
    "id": "GZFkMBGrYOrw"
   },
   "outputs": [],
   "source": [
    "# Adding author_id to paper table\n",
    "data_papers['author_id'] = data_papers['authors']\n",
    "data_papers['author_id'] = data_papers.author_id.apply(lambda x: [i['id'] for i in x])\n",
    "\n",
    "# Creating author table\n",
    "data_authors = data_papers[['id','authors', 'citation', 'fos', 'year']].to_numpy()\n",
    "data_authors = [{**j,'paper_ids':i[0],'n_citations':i[2],'FOS':i[3],'year':i[4]} for i in data_authors for j in i[1]]\n",
    "data_authors_df = pd.DataFrame(data_authors)\n",
    "\n",
    "data_authors_df = data_authors_df.groupby(['id']).agg(list)\n",
    "data_authors_df.reset_index(inplace=True)\n",
    "data_authors_df['id'] = data_authors_df['id'].astype(np.int64)\n",
    "\n",
    "data_authors_df['FOS'] = data_authors_df.FOS.apply(lambda x: [j for i in x for j in i])\n",
    "\n",
    "data_authors_df.info()\n",
    "data_authors_df.head()"
   ]
  },
  {
   "cell_type": "code",
   "execution_count": null,
   "metadata": {
    "id": "ctyJOu3FhnSm"
   },
   "outputs": [],
   "source": [
    "data_authors_df.info()\n",
    "data_authors_df.head()"
   ]
  },
  {
   "cell_type": "markdown",
   "metadata": {
    "id": "P2IQ-CVTYOrx"
   },
   "source": [
    "### Venue table"
   ]
  },
  {
   "cell_type": "markdown",
   "metadata": {
    "id": "BT5THE_EYOrx"
   },
   "source": [
    "##### Adding paper IDs and citation to the table"
   ]
  },
  {
   "cell_type": "code",
   "execution_count": null,
   "metadata": {
    "id": "ZYpSoaXgYOrx"
   },
   "outputs": [],
   "source": [
    "# Adding venue raw to paper table\n",
    "data_papers['venue_raw'] = data_papers['venue']\n",
    "data_papers['venue_raw'] = data_papers.venue_raw.apply(lambda x: x['raw'])\n",
    "\n",
    "# Creating venue table\n",
    "data_venues = data_papers[['id','venue', 'n_citation']].to_numpy()\n",
    "data_venues = [{**i[1],'paper_ids':i[0],'n_citations':i[2]} for i in data_venues]\n",
    "data_venues_df = pd.DataFrame(data_venues)\n",
    "\n",
    "# Merging the duplicate authors (based on id)\n",
    "data_venues_df = data_venues_df.groupby(['raw']).agg(list)\n",
    "data_venues_df.reset_index(inplace=True)\n",
    "data_venues_df['id'] = data_venues_df['raw'].astype(np.int64)\n",
    "\n",
    "data_venues_df.info()\n",
    "data_venues_df.head()"
   ]
  },
  {
   "cell_type": "markdown",
   "metadata": {
    "id": "UzuE2jpzYOrx"
   },
   "source": [
    "#### Productivity "
   ]
  },
  {
   "cell_type": "code",
   "execution_count": null,
   "metadata": {
    "id": "oBMI86WNYOry"
   },
   "outputs": [],
   "source": [
    "# Gets the size of the paper IDs\n",
    "data_authors_df['productivity'] = data_authors_df.paper_ids.apply(len)\n",
    "data_authors_df.head()"
   ]
  },
  {
   "cell_type": "markdown",
   "metadata": {
    "id": "05Hmi5TjYOry"
   },
   "source": [
    "#### H-index "
   ]
  },
  {
   "cell_type": "code",
   "execution_count": null,
   "metadata": {
    "id": "_4kvGPATYOr0"
   },
   "outputs": [],
   "source": [
    "# Calculates the H index using formula\n",
    "data_authors_df['H_index'] = data_authors_df.n_citations.apply(lambda x: sum(j >= i + 1 for i, j in enumerate(sorted(list(x), reverse=True))))\n",
    "data_authors_df.head()"
   ]
  },
  {
   "cell_type": "markdown",
   "metadata": {
    "id": "s9BBANBrYOr0"
   },
   "source": [
    "#### Author Rank"
   ]
  },
  {
   "cell_type": "code",
   "execution_count": null,
   "metadata": {
    "id": "n33PQBquYOr0",
    "scrolled": true
   },
   "outputs": [],
   "source": [
    "# Calculates the average citations of the author and gives rank (descending)\n",
    "data_authors_df['average_citations'] = data_authors_df.n_citations.apply(mean)\n",
    "data_authors_df['author_rank'] = data_authors_df['average_citations'].rank(ascending = False)\n",
    "data_authors_df.head()"
   ]
  },
  {
   "cell_type": "markdown",
   "metadata": {
    "id": "mz5gRGpmYOr1"
   },
   "source": [
    "#### Venue Rank"
   ]
  },
  {
   "cell_type": "code",
   "execution_count": null,
   "metadata": {
    "id": "IUGNj3XQYOr1"
   },
   "outputs": [],
   "source": [
    "data_venues_df['ave_citation'] = data_venues_df.n_citations.apply(mean)\n",
    "data_venues_df['venue_rank'] = data_venues_df['ave_citation'].rank(ascending = False)\n",
    "data_venues_df.head()"
   ]
  },
  {
   "cell_type": "markdown",
   "metadata": {
    "id": "rDbrOrmuYOr1"
   },
   "source": [
    "#### Maximum Past Influence of Authors (Past Influence of Authors)"
   ]
  },
  {
   "cell_type": "code",
   "execution_count": null,
   "metadata": {
    "id": "KOQADWlCYOr2"
   },
   "outputs": [],
   "source": [
    "# Returns the highest value in the citations \n",
    "data_authors_df['author_MPI'] = data_authors_df.n_citations.apply(max)\n",
    "data_authors_df.head()"
   ]
  },
  {
   "cell_type": "markdown",
   "metadata": {
    "id": "w5s_Gl5OYOr2"
   },
   "source": [
    "#### Total Past Influence of Authors (Past Influence of Authors)"
   ]
  },
  {
   "cell_type": "code",
   "execution_count": null,
   "metadata": {
    "id": "Smji167QYOr2",
    "scrolled": true
   },
   "outputs": [],
   "source": [
    "# Sum of the citations\n",
    "data_authors_df['author_TPI'] = data_authors_df.n_citations.apply(sum)\n",
    "data_authors_df.head()"
   ]
  },
  {
   "cell_type": "markdown",
   "metadata": {
    "id": "1B7IzDYSYOr2"
   },
   "source": [
    "#### Maximum Past Influence of Venue (Past Influence of Venue)"
   ]
  },
  {
   "cell_type": "code",
   "execution_count": null,
   "metadata": {
    "id": "QF3EtvuPYOr3"
   },
   "outputs": [],
   "source": [
    "data_venues_df['venue_MPI'] = data_venues_df.n_citations.apply(max)\n",
    "data_venues_df.head()"
   ]
  },
  {
   "cell_type": "markdown",
   "metadata": {
    "id": "GFgLabz4YOr3"
   },
   "source": [
    "#### Total Past Influence of Venue (Past Influence of Venue)"
   ]
  },
  {
   "cell_type": "code",
   "execution_count": null,
   "metadata": {
    "id": "M4GvoKhxYOr3"
   },
   "outputs": [],
   "source": [
    "data_venues_df['venue_TPI'] = data_venues_df.n_citations.apply(sum)\n",
    "data_venues_df.head()"
   ]
  },
  {
   "cell_type": "markdown",
   "metadata": {
    "id": "4vAJ7iTVYOr3"
   },
   "source": [
    "#### Versatility "
   ]
  },
  {
   "cell_type": "code",
   "execution_count": null,
   "metadata": {
    "id": "j7q1bG8RYOr4"
   },
   "outputs": [],
   "source": [
    "# Turns the list of list of dictionaries into list of dictionaries\n",
    "data_authors_df['versatility'] = data_authors_df['FOS']\n",
    "data_authors_df['FOS'] = data_authors_df.FOS.apply(lambda x: [{list(i.values())[0]:list(i.values())[1]} for i in x if list(i.values())[1] > 0.0])\n",
    "\n",
    "# Makes a unique list of all the topics with weights > 0.0\n",
    "data_authors_df['versatility'] = data_authors_df.versatility.apply(lambda x: list(set([i['name'] for i in x if list(i.values())[1] > 0.0])))\n",
    "# Turns the list into dictionary where the key is the topic and the value is a list of the weights for that topic\n",
    "data_authors_df['versatility'] = data_authors_df.apply(lambda x: {i:[list(j.values())[0] for j in x.FOS if list(j.keys())[0] == i] for i in x.versatility}, axis=1)\n",
    "# Gets the average of the weights of the topics\n",
    "data_authors_df['versatility'] = data_authors_df.apply(lambda x: {i:sum(x.versatility[i])/x.productivity for i in x.versatility}, axis = 1)\n",
    "# Diversity or versatility formula\n",
    "data_authors_df['versatility'] = data_authors_df.versatility.apply(lambda x: sum([-x[i]*np.log(x[i]) for i in x]))\n",
    "\n",
    "data_authors_df.head()"
   ]
  },
  {
   "cell_type": "markdown",
   "metadata": {
    "id": "IiVowOPwYOr4"
   },
   "source": [
    "### Making the feature set (model input)"
   ]
  },
  {
   "cell_type": "code",
   "execution_count": null,
   "metadata": {
    "id": "G1h3UUvPjqnl"
   },
   "outputs": [],
   "source": [
    "features_df = data_papers[['id','author_id','venue_raw', 'diversity','n_citation']].copy()"
   ]
  },
  {
   "cell_type": "code",
   "execution_count": null,
   "metadata": {
    "id": "1WIk6YFNYOr4"
   },
   "outputs": [],
   "source": [
    "features_df2 = data_venues_df.copy()\n",
    "features_df2.rename(columns={\"raw\":\"venue_raw\"},inplace=True)\n",
    "features_df2 = features_df2.drop(['id','type','ave_citation','paper_ids','n_citations'],axis =1)\n",
    "features_df = features_df.merge(features_df2, on = 'venue_raw', how = 'inner')\n",
    "\n",
    "features_df.info()\n",
    "features_df.head()"
   ]
  },
  {
   "cell_type": "code",
   "execution_count": null,
   "metadata": {
    "id": "sLR2K1AQm2t3"
   },
   "outputs": [],
   "source": [
    "data_authors_df = data_authors_df.drop(columns=['n_citations','FOS', 'name', 'org', 'average_citations'])\n",
    "data_authors_df = data_authors_df.explode('paper_ids')\n",
    "data_authors_df = data_authors_df.groupby('paper_ids').agg(list)\n",
    "data_authors_df.reset_index(inplace=True)\n",
    "data_authors_df['paper_ids'] = data_authors_df['paper_ids'].astype(np.int64)\n",
    "\n",
    "data_authors_df.info()\n",
    "data_authors_df.head()"
   ]
  },
  {
   "cell_type": "code",
   "execution_count": null,
   "metadata": {
    "id": "2mYceW8lYOr5"
   },
   "outputs": [],
   "source": [
    "data_authors_df.rename(columns={\"id\":\"idA\"},inplace=True)\n",
    "data_authors_df.rename(columns={\"paper_ids\":\"id\"},inplace=True)\n",
    "features_df = features_df.merge(df, on = 'id', how = 'inner')\n",
    "features_df['productivity'] = features_df.productivity.apply(mean)\n",
    "features_df['H_index'] = features_df.H_index.apply(mean)\n",
    "features_df['author_rank'] = features_df.author_rank.apply(mean)\n",
    "features_df['author_MPI'] = features_df.author_MPI.apply(mean)\n",
    "features_df['author_TPI'] = features_df.author_TPI.apply(mean)\n",
    "features_df['versatility'] = features_df.versatility.apply(mean)\n",
    "features_df = features_df[['id', 'diversity', 'venue_rank', 'venue_MPI', 'venue_TPI', 'productivity', 'H_index', 'author_rank', 'author_MPI', 'author_TPI', 'versatility', 'n_citation']]\n",
    "\n",
    "features_df.info()\n",
    "features_df.head()"
   ]
  },
  {
   "cell_type": "code",
   "execution_count": null,
   "metadata": {
    "id": "7eFN-DI6YOr5"
   },
   "outputs": [],
   "source": [
    "path = '../Data/features_2000_2010.'\n",
    "features_df.to_pickle(path + 'pkl')"
   ]
  },
  {
   "cell_type": "code",
   "execution_count": null,
   "metadata": {
    "id": "auYC0dT0YOr5"
   },
   "outputs": [],
   "source": [
    "path = '../Data/features_2000_2010.'\n",
    "features_df.to_csv(path + 'csv')"
   ]
  }
 ],
 "metadata": {
  "colab": {
   "collapsed_sections": [],
   "machine_shape": "hm",
   "name": "2.1-Feature-Extraction.ipynb",
   "provenance": []
  },
  "kernelspec": {
   "display_name": "Python 3",
   "language": "python",
   "name": "python3"
  },
  "language_info": {
   "codemirror_mode": {
    "name": "ipython",
    "version": 3
   },
   "file_extension": ".py",
   "mimetype": "text/x-python",
   "name": "python",
   "nbconvert_exporter": "python",
   "pygments_lexer": "ipython3",
   "version": "3.8.3"
  }
 },
 "nbformat": 4,
 "nbformat_minor": 1
}
