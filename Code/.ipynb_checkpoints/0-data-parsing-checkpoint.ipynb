{
 "cells": [
  {
   "cell_type": "markdown",
   "metadata": {
    "id": "Q7IKDGKdu_3h"
   },
   "source": [
    "# Data Parsing"
   ]
  },
  {
   "cell_type": "markdown",
   "metadata": {
    "id": "mHF6Rolgu_3m"
   },
   "source": [
    "Here we will try to parse the Aminer V12 json file into dataframe."
   ]
  },
  {
   "cell_type": "code",
   "execution_count": null,
   "metadata": {
    "colab": {
     "base_uri": "https://localhost:8080/"
    },
    "executionInfo": {
     "elapsed": 160237,
     "status": "ok",
     "timestamp": 1617229163303,
     "user": {
      "displayName": "Fatima Tafazzoli",
      "photoUrl": "",
      "userId": "09248389573288862170"
     },
     "user_tz": 240
    },
    "id": "cmD5DrFuu_3n",
    "outputId": "87f1b089-96cf-428a-dc65-fa603eed2c4a"
   },
   "outputs": [],
   "source": [
    "import numpy as np\n",
    "import pandas as pd\n",
    "import os, json, gc, re, random\n",
    "from tqdm.notebook import tqdm\n",
    "import matplotlib.pyplot as plt\n",
    "import seaborn as sns\n",
    "import pickle"
   ]
  },
  {
   "cell_type": "code",
   "execution_count": null,
   "metadata": {
    "executionInfo": {
     "elapsed": 160235,
     "status": "ok",
     "timestamp": 1617229163304,
     "user": {
      "displayName": "Fatima Tafazzoli",
      "photoUrl": "",
      "userId": "09248389573288862170"
     },
     "user_tz": 240
    },
    "id": "cKbRLbwxu_3n"
   },
   "outputs": [],
   "source": [
    "import warnings\n",
    "warnings.filterwarnings(\"ignore\")"
   ]
  },
  {
   "cell_type": "code",
   "execution_count": null,
   "metadata": {
    "executionInfo": {
     "elapsed": 160234,
     "status": "ok",
     "timestamp": 1617229163305,
     "user": {
      "displayName": "Fatima Tafazzoli",
      "photoUrl": "",
      "userId": "09248389573288862170"
     },
     "user_tz": 240
    },
    "id": "HUBmgQnwu_3n"
   },
   "outputs": [],
   "source": [
    "import logging\n",
    "logging.basicConfig(level=logging.INFO)\n",
    "transformers_logger = logging.getLogger(\"transformers\")\n",
    "transformers_logger.setLevel(logging.WARNING)"
   ]
  },
  {
   "cell_type": "markdown",
   "metadata": {
    "id": "zqaR5h-ju_3n"
   },
   "source": [
    "Defining the data file path"
   ]
  },
  {
   "cell_type": "code",
   "execution_count": null,
   "metadata": {
    "executionInfo": {
     "elapsed": 158083,
     "status": "ok",
     "timestamp": 1617229163305,
     "user": {
      "displayName": "Fatima Tafazzoli",
      "photoUrl": "",
      "userId": "09248389573288862170"
     },
     "user_tz": 240
    },
    "id": "FAwF05QHu_3o"
   },
   "outputs": [],
   "source": [
    "data_file = '../Data/dblp.v12.json'"
   ]
  },
  {
   "cell_type": "markdown",
   "metadata": {
    "id": "gB_yqAAou_3o"
   },
   "source": [
    "Using `yield` to load the JSON file in a loop to prevent Python memory issues if JSON is loaded directly"
   ]
  },
  {
   "cell_type": "code",
   "execution_count": null,
   "metadata": {
    "executionInfo": {
     "elapsed": 517,
     "status": "ok",
     "timestamp": 1617229179782,
     "user": {
      "displayName": "Fatima Tafazzoli",
      "photoUrl": "",
      "userId": "09248389573288862170"
     },
     "user_tz": 240
    },
    "id": "8_IOTpAtu_3o"
   },
   "outputs": [],
   "source": [
    "def get_metadata():\n",
    "    with open(data_file, 'r', encoding='utf-8') as f:\n",
    "        next(f)                                         #skip the first line\n",
    "        for line in f:\n",
    "            yield line\n",
    "metadata = get_metadata()"
   ]
  },
  {
   "cell_type": "code",
   "execution_count": null,
   "metadata": {
    "colab": {
     "base_uri": "https://localhost:8080/"
    },
    "executionInfo": {
     "elapsed": 438869,
     "status": "ok",
     "timestamp": 1617229619052,
     "user": {
      "displayName": "Fatima Tafazzoli",
      "photoUrl": "",
      "userId": "09248389573288862170"
     },
     "user_tz": 240
    },
    "id": "d7ZkWGUyu_3o",
    "outputId": "86fb8634-af36-40f1-a0e7-ef2089cea75a"
   },
   "outputs": [],
   "source": [
    "paper_list = []\n",
    "counter = 0\n",
    "for paper in metadata:   \n",
    "    paper = paper.strip(',')       # takes care of the errors with ',' in begining of the line\n",
    "    if paper == None or paper == '' or paper == '[' or paper == ']' or len(paper) == 0:\n",
    "        print('I got a null or empty string value for paper in a file')\n",
    "    else:       \n",
    "        try:\n",
    "            paper_dict = json.loads(paper)\n",
    "            year = int(paper_dict.get('year'))\n",
    "            to_pop = ['page_start', 'page_end','doc_type','publisher','volume','issue','doi','alias_ids','title','indexed_abstract','fos','venue','authors']\n",
    "            for i in to_pop:\n",
    "                try:\n",
    "                    paper_dict.pop(i)\n",
    "                except:\n",
    "                    pass \n",
    "            if year <= 2010:\n",
    "              paper_list.append(paper_dict)\n",
    "              counter += 1\n",
    "            if (counter % 100000 == 0):\n",
    "                print(counter)\n",
    "                print(paper_dict)\n",
    "        except:\n",
    "            pass "
   ]
  },
  {
   "cell_type": "code",
   "execution_count": null,
   "metadata": {
    "colab": {
     "base_uri": "https://localhost:8080/"
    },
    "executionInfo": {
     "elapsed": 437580,
     "status": "ok",
     "timestamp": 1617229619054,
     "user": {
      "displayName": "Fatima Tafazzoli",
      "photoUrl": "",
      "userId": "09248389573288862170"
     },
     "user_tz": 240
    },
    "id": "6k85A0k6u_3p",
    "outputId": "156ba799-839d-44f5-aec9-f8ca561234ae"
   },
   "outputs": [],
   "source": [
    "# checking the length of data found\n",
    "len(paper_list)"
   ]
  },
  {
   "cell_type": "code",
   "execution_count": null,
   "metadata": {
    "executionInfo": {
     "elapsed": 439504,
     "status": "ok",
     "timestamp": 1617229625023,
     "user": {
      "displayName": "Fatima Tafazzoli",
      "photoUrl": "",
      "userId": "09248389573288862170"
     },
     "user_tz": 240
    },
    "id": "681mkp2Iu_3p"
   },
   "outputs": [],
   "source": [
    "# now add the list into dataframe\n",
    "papers_df = pd.DataFrame(paper_list)"
   ]
  },
  {
   "cell_type": "code",
   "execution_count": null,
   "metadata": {
    "colab": {
     "base_uri": "https://localhost:8080/",
     "height": 380
    },
    "executionInfo": {
     "elapsed": 664,
     "status": "ok",
     "timestamp": 1617229625694,
     "user": {
      "displayName": "Fatima Tafazzoli",
      "photoUrl": "",
      "userId": "09248389573288862170"
     },
     "user_tz": 240
    },
    "id": "0BxFfsFG6r-h",
    "outputId": "23558f47-2c02-4e63-d19d-bdd8f79ce174"
   },
   "outputs": [],
   "source": [
    "papers_df.info()\n",
    "papers_df.head()"
   ]
  },
  {
   "cell_type": "markdown",
   "metadata": {
    "id": "idyjSAP8u_3q"
   },
   "source": [
    "Let's Write the paper dataFrame into pickle and csv for later use"
   ]
  },
  {
   "cell_type": "code",
   "execution_count": null,
   "metadata": {
    "executionInfo": {
     "elapsed": 3126,
     "status": "ok",
     "timestamp": 1617229793003,
     "user": {
      "displayName": "Fatima Tafazzoli",
      "photoUrl": "",
      "userId": "09248389573288862170"
     },
     "user_tz": 240
    },
    "id": "cuQKYGM3u_3q"
   },
   "outputs": [],
   "source": [
    "path = '../Data/papers_0_2010.'\n",
    "papers_df.to_pickle(path + 'pkl')"
   ]
  },
  {
   "cell_type": "code",
   "execution_count": null,
   "metadata": {
    "id": "bkcEeLzCu_3q"
   },
   "outputs": [],
   "source": [
    "papers_df.to_csv(path + 'csv')"
   ]
  }
 ],
 "metadata": {
  "colab": {
   "collapsed_sections": [],
   "machine_shape": "hm",
   "name": "0-data-parsing.ipynb",
   "provenance": []
  },
  "kernelspec": {
   "display_name": "Python 3",
   "language": "python",
   "name": "python3"
  },
  "language_info": {
   "codemirror_mode": {
    "name": "ipython",
    "version": 3
   },
   "file_extension": ".py",
   "mimetype": "text/x-python",
   "name": "python",
   "nbconvert_exporter": "python",
   "pygments_lexer": "ipython3",
   "version": "3.8.3"
  }
 },
 "nbformat": 4,
 "nbformat_minor": 1
}
