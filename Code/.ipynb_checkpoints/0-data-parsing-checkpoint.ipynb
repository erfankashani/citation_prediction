{
 "cells": [
  {
   "cell_type": "markdown",
   "metadata": {
    "id": "Q7IKDGKdu_3h"
   },
   "source": [
    "# Data Parsing"
   ]
  },
  {
   "cell_type": "markdown",
   "metadata": {
    "id": "mHF6Rolgu_3m"
   },
   "source": [
    "Here we will try to parse the Aminer V12 json file into CSV and seperate the year 2001"
   ]
  },
  {
   "cell_type": "code",
   "execution_count": 1,
   "metadata": {
    "colab": {
     "base_uri": "https://localhost:8080/"
    },
    "executionInfo": {
     "elapsed": 160237,
     "status": "ok",
     "timestamp": 1617229163303,
     "user": {
      "displayName": "Fatima Tafazzoli",
      "photoUrl": "",
      "userId": "09248389573288862170"
     },
     "user_tz": 240
    },
    "id": "cmD5DrFuu_3n",
    "outputId": "87f1b089-96cf-428a-dc65-fa603eed2c4a"
   },
   "outputs": [
    {
     "name": "stdout",
     "output_type": "stream",
     "text": [
      "Mounted at /content/drive\n"
     ]
    }
   ],
   "source": [
    "import numpy as np\n",
    "import pandas as pd\n",
    "import os, json, gc, re, random\n",
    "from tqdm.notebook import tqdm\n",
    "import matplotlib.pyplot as plt\n",
    "#import plotly.express as px\n",
    "import seaborn as sns\n",
    "import pickle\n",
    "from google.colab import drive\n",
    "drive.mount('/content/drive')"
   ]
  },
  {
   "cell_type": "code",
   "execution_count": 2,
   "metadata": {
    "executionInfo": {
     "elapsed": 160235,
     "status": "ok",
     "timestamp": 1617229163304,
     "user": {
      "displayName": "Fatima Tafazzoli",
      "photoUrl": "",
      "userId": "09248389573288862170"
     },
     "user_tz": 240
    },
    "id": "cKbRLbwxu_3n"
   },
   "outputs": [],
   "source": [
    "import warnings\n",
    "warnings.filterwarnings(\"ignore\")"
   ]
  },
  {
   "cell_type": "code",
   "execution_count": 3,
   "metadata": {
    "executionInfo": {
     "elapsed": 160234,
     "status": "ok",
     "timestamp": 1617229163305,
     "user": {
      "displayName": "Fatima Tafazzoli",
      "photoUrl": "",
      "userId": "09248389573288862170"
     },
     "user_tz": 240
    },
    "id": "HUBmgQnwu_3n"
   },
   "outputs": [],
   "source": [
    "import logging\n",
    "logging.basicConfig(level=logging.INFO)\n",
    "transformers_logger = logging.getLogger(\"transformers\")\n",
    "transformers_logger.setLevel(logging.WARNING)"
   ]
  },
  {
   "cell_type": "markdown",
   "metadata": {
    "id": "zqaR5h-ju_3n"
   },
   "source": [
    "Defining the data file path"
   ]
  },
  {
   "cell_type": "code",
   "execution_count": 4,
   "metadata": {
    "executionInfo": {
     "elapsed": 158083,
     "status": "ok",
     "timestamp": 1617229163305,
     "user": {
      "displayName": "Fatima Tafazzoli",
      "photoUrl": "",
      "userId": "09248389573288862170"
     },
     "user_tz": 240
    },
    "id": "FAwF05QHu_3o"
   },
   "outputs": [],
   "source": [
    "data_file = 'drive/My Drive/Capstone/Data/dblp.v12.json'\n"
   ]
  },
  {
   "cell_type": "markdown",
   "metadata": {
    "id": "gB_yqAAou_3o"
   },
   "source": [
    "Using `yield` to load the JSON file in a loop to prevent Python memory issues if JSON is loaded directly"
   ]
  },
  {
   "cell_type": "code",
   "execution_count": 5,
   "metadata": {
    "executionInfo": {
     "elapsed": 517,
     "status": "ok",
     "timestamp": 1617229179782,
     "user": {
      "displayName": "Fatima Tafazzoli",
      "photoUrl": "",
      "userId": "09248389573288862170"
     },
     "user_tz": 240
    },
    "id": "8_IOTpAtu_3o"
   },
   "outputs": [],
   "source": [
    "def get_metadata():\n",
    "    with open(data_file, 'r', encoding='utf-8') as f:\n",
    "        next(f)                                         #skip the first line\n",
    "        for line in f:\n",
    "            yield line\n",
    "metadata = get_metadata()"
   ]
  },
  {
   "cell_type": "code",
   "execution_count": 6,
   "metadata": {
    "colab": {
     "base_uri": "https://localhost:8080/"
    },
    "collapsed": true,
    "executionInfo": {
     "elapsed": 438869,
     "status": "ok",
     "timestamp": 1617229619052,
     "user": {
      "displayName": "Fatima Tafazzoli",
      "photoUrl": "",
      "userId": "09248389573288862170"
     },
     "user_tz": 240
    },
    "id": "d7ZkWGUyu_3o",
    "outputId": "86fb8634-af36-40f1-a0e7-ef2089cea75a"
   },
   "outputs": [
    {
     "name": "stdout",
     "output_type": "stream",
     "text": [
      "0\n",
      "{'id': 1091, 'year': 2013, 'n_citation': 1, 'references': [2005687710, 2018037215]}\n",
      "100000\n",
      "{'id': 128134186, 'year': 2007, 'n_citation': 0}\n",
      "200000\n",
      "{'id': 1486651247, 'year': 2005, 'n_citation': 8, 'references': [1535182298, 1550040727, 1571142685, 2142152227]}\n",
      "300000\n",
      "{'id': 1532236086, 'year': 2004, 'n_citation': 4, 'references': [2061753595, 2099105076, 2135123541]}\n",
      "400000\n",
      "{'id': 1578639176, 'year': 2010, 'n_citation': 27, 'references': [1984249915, 1997556709, 2022553223, 2023199012, 2023758372, 2040244898, 2060353874, 2093331871, 2099997444, 2105893525, 2106281550, 2113922176, 2117088188, 2119494621, 2125669135, 2131499463, 2140871574, 2144333758, 2144377734, 2149874318, 2152621157, 2161537925, 2165741325, 2167306162, 2168803272]}\n",
      "500000\n",
      "{'id': 1790952784, 'year': 1995, 'n_citation': 0}\n",
      "500000\n",
      "{'id': 1790952937, 'year': 2012, 'n_citation': 0, 'references': [194197919, 1677409904, 2059331361, 2075133364, 2111308925, 2118877769, 2119605622, 2124386111, 2141720053, 2163943109]}\n",
      "600000\n",
      "{'id': 1971329766, 'year': 1995, 'n_citation': 6}\n",
      "600000\n",
      "{'id': 1971330008, 'year': 2012, 'n_citation': 3, 'references': [2098099733, 2112994948]}\n",
      "600000\n",
      "{'id': 1971330086, 'year': 2012, 'n_citation': 0, 'references': [1981998077, 2097095822, 2166808682]}\n",
      "600000\n",
      "{'id': 1971330258, 'year': 2013, 'n_citation': 9, 'references': [116621911, 1490728730, 1588126232, 1602181666, 1976184556, 2006896692, 2007610503, 2007955834, 2008806636, 2015268662, 2039947656, 2040014907, 2042956958, 2046819853, 2058449285, 2065151276, 2072144910, 2074660787, 2081487166, 2088243692, 2105525115, 2141286079, 2149906774]}\n",
      "700000\n",
      "{'id': 1990777116, 'year': 2006, 'n_citation': 20, 'references': [1925624685, 1992016522, 2049913483, 2059618665, 2107307934, 2113954151, 2120510885, 2122182632, 2123044411, 2124304549, 2130486540, 2147349935, 2157131949, 2165900899, 2294548604, 2753120485]}\n",
      "700000\n",
      "{'id': 1990777291, 'year': 2011, 'n_citation': 6, 'references': [1965222635, 2037225069, 2062459871, 2088342534, 2095008598, 2105638592, 2151763757, 2163485494]}\n",
      "800000\n",
      "{'id': 2009938563, 'year': 2000, 'n_citation': 3}\n",
      "800000\n",
      "{'id': 2009938659, 'year': 2013, 'n_citation': 27, 'references': [1967272661, 2068408009, 2076256534, 2092390732, 2105026358, 2119852777, 2122909041, 2134967881, 2158035776, 2170857744, 2623995625]}\n",
      "900000\n",
      "{'id': 2029439129, 'year': 1998, 'n_citation': 4, 'references': [2073625371]}\n",
      "1000000\n",
      "{'id': 2048915149, 'year': 2007, 'n_citation': 16, 'references': [2056324365]}\n",
      "1100000\n",
      "{'id': 2068269199, 'year': 2005, 'n_citation': 125, 'references': [1976585161, 1980029983, 2058287672, 2061064481, 2062551457, 2068758559, 2070051391, 2070561899, 2158455181, 2172171860]}\n",
      "1200000\n",
      "{'id': 2087830589, 'year': 1998, 'n_citation': 4, 'references': [2002103730, 2214215336, 2625412431]}\n",
      "1300000\n",
      "{'id': 2102304603, 'year': 2004, 'n_citation': 14, 'references': [1523326940, 2099200994, 2110527043, 2119245762, 2119331139, 2155976554]}\n",
      "1300000\n",
      "{'id': 2102304823, 'year': 2011, 'n_citation': 9, 'references': [1483307070, 1490092700, 1864173022, 1959782995, 1988029705, 2042845763, 2064169939, 2078881829, 2103393159, 2106706569, 2112040294, 2118906152, 2123241326, 2123487311, 2130422193, 2140641933, 2143864104, 2144903371, 2144936371, 2146861713, 2146881125, 2148820580, 2149390325, 2154202063, 2155620850, 2156570488, 2160320341, 2160337655, 2163844619, 2166543177, 2169346523, 2170239483]}\n",
      "1400000\n",
      "{'id': 2113927241, 'year': 1999, 'n_citation': 95, 'references': [1497280145, 2022922836, 2039552580, 2090623032, 2156737647, 2164502827]}\n",
      "1500000\n",
      "{'id': 2125490399, 'year': 2010, 'n_citation': 4, 'references': [2146193831, 2174164007, 2179051909]}\n",
      "1600000\n",
      "{'id': 2137115854, 'year': 1997, 'n_citation': 17, 'references': [1538922252, 1799452087, 2079994203, 2099040451, 2103450023, 2111621484, 2155754531, 2170517285]}\n",
      "1700000\n",
      "{'id': 2148798622, 'year': 2008, 'n_citation': 134, 'references': [13338109, 1479895593, 1520076654, 1576391096, 1594588104, 1599232982, 1689445748, 1858553808, 1968980002, 1984879178, 1990079212, 1991464299, 1998523455, 2009727399, 2022775778, 2098154993, 2109084784, 2110222014, 2132145314, 2133088989, 2152761983, 2160535740, 2163952039, 2166781513, 2167922853]}\n",
      "1800000\n",
      "{'id': 2160442456, 'year': 2008, 'n_citation': 2, 'references': [1977396974, 1991452220, 2015175446, 2078603002, 2081160992]}\n",
      "1900000\n",
      "{'id': 2172120796, 'year': 2000, 'n_citation': 69, 'references': [1503000515, 1594397476, 1793520216, 2088944761, 2109779438, 2145600675]}\n",
      "2000000\n",
      "{'id': 2583469485, 'year': 2004, 'n_citation': 0}\n",
      "2100000\n",
      "{'id': 3005322937, 'year': 2006, 'n_citation': 0}\n",
      "2100000\n",
      "{'id': 3005323028, 'year': 2015, 'n_citation': 0}\n",
      "2200000\n",
      "{'id': 2080324798, 'year': 2008, 'n_citation': 73, 'references': [2046558083, 2057211133, 2059308694, 2109028470, 2132311469, 2132413506, 2162991547]}\n",
      "2200000\n",
      "{'id': 2080328126, 'year': 2012, 'n_citation': 4}\n"
     ]
    }
   ],
   "source": [
    "paper_list = []\n",
    "counter = 0\n",
    "for paper in metadata:   \n",
    "    paper = paper.strip(',')       # takes care of the errors with ',' in begining of the line\n",
    "    if paper == None or paper == '' or paper == '[' or paper == ']' or len(paper) == 0:\n",
    "        print('I got a null or empty string value for paper in a file')\n",
    "    else:       \n",
    "#         print(paper_dict)\n",
    "#         print(\"\")\n",
    "#         doc_type = paper_dict.get('doc_type')\n",
    "        try:\n",
    "            paper_dict = json.loads(paper)\n",
    "            year = int(paper_dict.get('year'))\n",
    "            to_pop = ['page_start', 'page_end','doc_type','publisher','volume','issue','doi','alias_ids','title','indexed_abstract','fos','venue','authors']\n",
    "            for i in to_pop:\n",
    "                try:\n",
    "                    paper_dict.pop(i)\n",
    "                except:\n",
    "                    pass \n",
    "            if year <= 2010:\n",
    "              paper_list.append(paper_dict)\n",
    "              counter += 1\n",
    "            if (counter % 100000 == 0):\n",
    "                print(counter)\n",
    "                print(paper_dict)\n",
    "        except:\n",
    "            pass \n",
    "#paper_list"
   ]
  },
  {
   "cell_type": "code",
   "execution_count": 7,
   "metadata": {
    "colab": {
     "base_uri": "https://localhost:8080/"
    },
    "executionInfo": {
     "elapsed": 437580,
     "status": "ok",
     "timestamp": 1617229619054,
     "user": {
      "displayName": "Fatima Tafazzoli",
      "photoUrl": "",
      "userId": "09248389573288862170"
     },
     "user_tz": 240
    },
    "id": "6k85A0k6u_3p",
    "outputId": "156ba799-839d-44f5-aec9-f8ca561234ae"
   },
   "outputs": [
    {
     "data": {
      "text/plain": [
       "2262458"
      ]
     },
     "execution_count": 7,
     "metadata": {
      "tags": []
     },
     "output_type": "execute_result"
    }
   ],
   "source": [
    "# checking the length of data found\n",
    "len(paper_list)"
   ]
  },
  {
   "cell_type": "code",
   "execution_count": 8,
   "metadata": {
    "executionInfo": {
     "elapsed": 439504,
     "status": "ok",
     "timestamp": 1617229625023,
     "user": {
      "displayName": "Fatima Tafazzoli",
      "photoUrl": "",
      "userId": "09248389573288862170"
     },
     "user_tz": 240
    },
    "id": "681mkp2Iu_3p"
   },
   "outputs": [],
   "source": [
    "# now add the list into \n",
    "papers_df = pd.DataFrame(paper_list)"
   ]
  },
  {
   "cell_type": "code",
   "execution_count": null,
   "metadata": {
    "id": "be4Xybr_6eR5"
   },
   "outputs": [],
   "source": [
    "papers_df = papers_df[['id','year']]"
   ]
  },
  {
   "cell_type": "code",
   "execution_count": 9,
   "metadata": {
    "colab": {
     "base_uri": "https://localhost:8080/",
     "height": 380
    },
    "executionInfo": {
     "elapsed": 664,
     "status": "ok",
     "timestamp": 1617229625694,
     "user": {
      "displayName": "Fatima Tafazzoli",
      "photoUrl": "",
      "userId": "09248389573288862170"
     },
     "user_tz": 240
    },
    "id": "0BxFfsFG6r-h",
    "outputId": "23558f47-2c02-4e63-d19d-bdd8f79ce174"
   },
   "outputs": [
    {
     "name": "stdout",
     "output_type": "stream",
     "text": [
      "<class 'pandas.core.frame.DataFrame'>\n",
      "RangeIndex: 2262458 entries, 0 to 2262457\n",
      "Data columns (total 4 columns):\n",
      " #   Column      Dtype \n",
      "---  ------      ----- \n",
      " 0   id          int64 \n",
      " 1   year        int64 \n",
      " 2   n_citation  int64 \n",
      " 3   references  object\n",
      "dtypes: int64(3), object(1)\n",
      "memory usage: 69.0+ MB\n"
     ]
    },
    {
     "data": {
      "text/html": [
       "<div>\n",
       "<style scoped>\n",
       "    .dataframe tbody tr th:only-of-type {\n",
       "        vertical-align: middle;\n",
       "    }\n",
       "\n",
       "    .dataframe tbody tr th {\n",
       "        vertical-align: top;\n",
       "    }\n",
       "\n",
       "    .dataframe thead th {\n",
       "        text-align: right;\n",
       "    }\n",
       "</style>\n",
       "<table border=\"1\" class=\"dataframe\">\n",
       "  <thead>\n",
       "    <tr style=\"text-align: right;\">\n",
       "      <th></th>\n",
       "      <th>id</th>\n",
       "      <th>year</th>\n",
       "      <th>n_citation</th>\n",
       "      <th>references</th>\n",
       "    </tr>\n",
       "  </thead>\n",
       "  <tbody>\n",
       "    <tr>\n",
       "      <th>0</th>\n",
       "      <td>1388</td>\n",
       "      <td>2000</td>\n",
       "      <td>1</td>\n",
       "      <td>NaN</td>\n",
       "    </tr>\n",
       "    <tr>\n",
       "      <th>1</th>\n",
       "      <td>1688</td>\n",
       "      <td>2009</td>\n",
       "      <td>6</td>\n",
       "      <td>[1560724230, 1986968751, 2156909104]</td>\n",
       "    </tr>\n",
       "    <tr>\n",
       "      <th>2</th>\n",
       "      <td>5411</td>\n",
       "      <td>2009</td>\n",
       "      <td>0</td>\n",
       "      <td>NaN</td>\n",
       "    </tr>\n",
       "    <tr>\n",
       "      <th>3</th>\n",
       "      <td>5781</td>\n",
       "      <td>2004</td>\n",
       "      <td>2</td>\n",
       "      <td>NaN</td>\n",
       "    </tr>\n",
       "    <tr>\n",
       "      <th>4</th>\n",
       "      <td>6762</td>\n",
       "      <td>2003</td>\n",
       "      <td>0</td>\n",
       "      <td>NaN</td>\n",
       "    </tr>\n",
       "  </tbody>\n",
       "</table>\n",
       "</div>"
      ],
      "text/plain": [
       "     id  year  n_citation                            references\n",
       "0  1388  2000           1                                   NaN\n",
       "1  1688  2009           6  [1560724230, 1986968751, 2156909104]\n",
       "2  5411  2009           0                                   NaN\n",
       "3  5781  2004           2                                   NaN\n",
       "4  6762  2003           0                                   NaN"
      ]
     },
     "execution_count": 9,
     "metadata": {
      "tags": []
     },
     "output_type": "execute_result"
    }
   ],
   "source": [
    "papers_df.info()\n",
    "papers_df.head()"
   ]
  },
  {
   "cell_type": "code",
   "execution_count": null,
   "metadata": {
    "id": "kgFKXKh97nrZ"
   },
   "outputs": [],
   "source": [
    "papers_df = papers_df.drop('year', axis=1)"
   ]
  },
  {
   "cell_type": "markdown",
   "metadata": {
    "id": "idyjSAP8u_3q"
   },
   "source": [
    "Let's Write the paper dataFrame into pickle for later use"
   ]
  },
  {
   "cell_type": "code",
   "execution_count": 10,
   "metadata": {
    "executionInfo": {
     "elapsed": 3126,
     "status": "ok",
     "timestamp": 1617229793003,
     "user": {
      "displayName": "Fatima Tafazzoli",
      "photoUrl": "",
      "userId": "09248389573288862170"
     },
     "user_tz": 240
    },
    "id": "cuQKYGM3u_3q"
   },
   "outputs": [],
   "source": [
    "path = 'drive/My Drive/Capstone/Data/papers_0_2010.'\n",
    "papers_df.to_pickle(path + 'pkl')"
   ]
  },
  {
   "cell_type": "code",
   "execution_count": null,
   "metadata": {
    "id": "bkcEeLzCu_3q"
   },
   "outputs": [],
   "source": [
    "papers_df.to_csv(path + 'csv')"
   ]
  }
 ],
 "metadata": {
  "colab": {
   "collapsed_sections": [],
   "machine_shape": "hm",
   "name": "0-data-parsing.ipynb",
   "provenance": []
  },
  "kernelspec": {
   "display_name": "Python 3",
   "language": "python",
   "name": "python3"
  },
  "language_info": {
   "codemirror_mode": {
    "name": "ipython",
    "version": 3
   },
   "file_extension": ".py",
   "mimetype": "text/x-python",
   "name": "python",
   "nbconvert_exporter": "python",
   "pygments_lexer": "ipython3",
   "version": "3.8.8"
  }
 },
 "nbformat": 4,
 "nbformat_minor": 1
}
