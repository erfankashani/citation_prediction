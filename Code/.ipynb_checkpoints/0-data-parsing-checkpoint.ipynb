{
 "cells": [
  {
   "cell_type": "markdown",
   "metadata": {},
   "source": [
    "# Data Parsing"
   ]
  },
  {
   "cell_type": "raw",
   "metadata": {},
   "source": [
    "Here we will try to parse the Aminer V12 json file into CSV and seperate the year 2001"
   ]
  },
  {
   "cell_type": "code",
   "execution_count": null,
   "metadata": {},
   "outputs": [],
   "source": [
    "import numpy as np\n",
    "import pandas as pd\n",
    "import os, json, gc, re, random\n",
    "from tqdm.notebook import tqdm\n",
    "import matplotlib.pyplot as plt\n",
    "#import plotly.express as px\n",
    "import seaborn as sns"
   ]
  },
  {
   "cell_type": "code",
   "execution_count": null,
   "metadata": {},
   "outputs": [],
   "source": [
    "import warnings\n",
    "warnings.filterwarnings(\"ignore\")"
   ]
  },
  {
   "cell_type": "code",
   "execution_count": null,
   "metadata": {},
   "outputs": [],
   "source": [
    "import logging\n",
    "logging.basicConfig(level=logging.INFO)\n",
    "transformers_logger = logging.getLogger(\"transformers\")\n",
    "transformers_logger.setLevel(logging.WARNING)"
   ]
  },
  {
   "cell_type": "markdown",
   "metadata": {},
   "source": [
    "Defining the data file path"
   ]
  },
  {
   "cell_type": "code",
   "execution_count": null,
   "metadata": {},
   "outputs": [],
   "source": [
    "data_file = '../Data/dblp.v12.json'"
   ]
  },
  {
   "cell_type": "markdown",
   "metadata": {},
   "source": [
    "Using `yield` to load the JSON file in a loop to prevent Python memory issues if JSON is loaded directly"
   ]
  },
  {
   "cell_type": "code",
   "execution_count": null,
   "metadata": {},
   "outputs": [],
   "source": [
    "def get_metadata():\n",
    "    with open(data_file, 'r') as f:\n",
    "        next(f)                                         #skip the first line\n",
    "        for line in f:\n",
    "            yield line\n",
    "metadata = get_metadata()"
   ]
  },
  {
   "cell_type": "code",
   "execution_count": null,
   "metadata": {},
   "outputs": [],
   "source": [
    "paper_list = []\n",
    "counter = 0\n",
    "for paper in metadata:   \n",
    "    paper = paper.strip(',')       # takes care of the errors with ',' in begining of the line\n",
    "    if paper == None or paper == '' or paper == '[' or paper == ']' or len(paper) == 0:\n",
    "        print('I got a null or empty string value for paper in a file')\n",
    "    else:       \n",
    "#         print(paper_dict)\n",
    "#         print(\"\")\n",
    "#         doc_type = paper_dict.get('doc_type')\n",
    "        try:\n",
    "            paper_dict = json.loads(paper)\n",
    "            year = int(paper_dict.get('year'))\n",
    "            if year == 2001:\n",
    "                paper_list.append(paper_dict)\n",
    "        except:\n",
    "            pass \n",
    "paper_list"
   ]
  },
  {
   "cell_type": "code",
   "execution_count": null,
   "metadata": {},
   "outputs": [],
   "source": [
    "# checking the length of data found\n",
    "len(paper_list)"
   ]
  },
  {
   "cell_type": "code",
   "execution_count": null,
   "metadata": {},
   "outputs": [],
   "source": [
    "# now add the list into \n",
    "papers_df = pd.DataFrame(paper_list)\n",
    "papers_df.to_csv('../Data/data_paper_sample_Full.csv')"
   ]
  },
  {
   "cell_type": "markdown",
   "metadata": {},
   "source": [
    "Let's Write the paper dataFrame into pickle for later use"
   ]
  },
  {
   "cell_type": "code",
   "execution_count": null,
   "metadata": {},
   "outputs": [],
   "source": [
    "import pickle\n",
    "pickle_path = '../Data/papers.pkl'\n",
    "papers_df.to_pickle(pickle_path)"
   ]
  }
 ],
 "metadata": {
  "kernelspec": {
   "display_name": "Python 3",
   "language": "python",
   "name": "python3"
  },
  "language_info": {
   "codemirror_mode": {
    "name": "ipython",
    "version": 3
   },
   "file_extension": ".py",
   "mimetype": "text/x-python",
   "name": "python",
   "nbconvert_exporter": "python",
   "pygments_lexer": "ipython3",
   "version": "3.8.5"
  }
 },
 "nbformat": 4,
 "nbformat_minor": 4
}
