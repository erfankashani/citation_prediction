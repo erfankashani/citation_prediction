{
 "cells": [
  {
   "cell_type": "code",
   "execution_count": null,
   "metadata": {
    "id": "elcGHU_bb19u"
   },
   "outputs": [],
   "source": [
    "import pandas as pd\n",
    "import numpy as np\n",
    "from sklearn.model_selection import train_test_split\n",
    "import matplotlib.pyplot as plt\n",
    "import ast\n",
    "import seaborn as sns\n",
    "from sklearn import metrics\n",
    "from statistics import mean\n",
    "from sklearn.experimental import enable_hist_gradient_boosting\n",
    "from sklearn.ensemble import HistGradientBoostingRegressor\n",
    "from sklearn.model_selection import GridSearchCV , RepeatedStratifiedKFold , cross_val_predict, cross_val_score\n",
    "from sklearn.metrics import r2_score, confusion_matrix, accuracy_score, mean_absolute_error, mean_squared_error, median_absolute_error"
   ]
  },
  {
   "cell_type": "code",
   "execution_count": null,
   "metadata": {},
   "outputs": [],
   "source": [
    "# Data for 2005 to 2010 \n",
    "dataset = pd.read_csv('../Data/features_2005_2010_new.csv')\n",
    "dataset.head()\n",
    "dataset.info()"
   ]
  },
  {
   "cell_type": "code",
   "execution_count": null,
   "metadata": {},
   "outputs": [],
   "source": [
    "# Data for 2010 to extract the paper ids from year 2010\n",
    "id_2010 = pd.read_csv('../Data/papers2010.csv')\n",
    "id_2010.head()"
   ]
  },
  {
   "cell_type": "code",
   "execution_count": null,
   "metadata": {},
   "outputs": [],
   "source": [
    "# Split data for train and test \n",
    "ids = id_2010['id'].tolist() \n",
    "train = dataset[dataset['id'].isin(ids) == False]\n",
    "test = dataset[dataset['id'].isin(ids)]\n",
    "train.info()"
   ]
  },
  {
   "cell_type": "code",
   "execution_count": null,
   "metadata": {},
   "outputs": [],
   "source": [
    "# Set ytrain and Xtrain\n",
    "y_train_1yr = train.iloc[:,12]\n",
    "y_train_2yr = train.iloc[:,13]\n",
    "y_train_5yr = train.iloc[:,14]\n",
    "y_train_10yr = train.iloc[:,15]\n",
    "\n",
    "X_train = train.iloc[:,2:12]\n",
    "print(y_train_5yr)\n",
    "X_train.head()"
   ]
  },
  {
   "cell_type": "code",
   "execution_count": null,
   "metadata": {},
   "outputs": [],
   "source": [
    "test.info()"
   ]
  },
  {
   "cell_type": "code",
   "execution_count": null,
   "metadata": {},
   "outputs": [],
   "source": [
    "# Set ytest and Xtest\n",
    "y_test_1yr = test.iloc[:,12]\n",
    "y_test_2yr = test.iloc[:,13]\n",
    "y_test_5yr = test.iloc[:,14]\n",
    "y_test_10yr = test.iloc[:,15]\n",
    "\n",
    "X_test = test.iloc[:,2:12]\n",
    "print(y_test_5yr)\n",
    "X_test.head()"
   ]
  },
  {
   "cell_type": "markdown",
   "metadata": {},
   "source": [
    "# Train Model"
   ]
  },
  {
   "cell_type": "code",
   "execution_count": null,
   "metadata": {},
   "outputs": [],
   "source": [
    "def train_and_Predict(X_train, y_train, X_test):\n",
    "    hgbr = HistGradientBoostingRegressor(learning_rate=0.15, max_iter=100, max_leaf_nodes=31, min_samples_leaf=20)\n",
    "    model = hgbr.fit(X_train,y_train)\n",
    "    y_pred = model.predict(X_test)\n",
    "    return(y_pred)"
   ]
  },
  {
   "cell_type": "code",
   "execution_count": null,
   "metadata": {},
   "outputs": [],
   "source": [
    "y_predict_1yr = train_and_Predict(X_train, y_train_1yr, X_test)\n",
    "y_predict_1yr"
   ]
  },
  {
   "cell_type": "code",
   "execution_count": null,
   "metadata": {},
   "outputs": [],
   "source": [
    "y_predict_2yr = train_and_Predict(X_train, y_train_2yr, X_test)\n",
    "y_predict_1yr"
   ]
  },
  {
   "cell_type": "code",
   "execution_count": null,
   "metadata": {},
   "outputs": [],
   "source": [
    "y_predict_5yr = train_and_Predict(X_train, y_train_5yr, X_test)\n",
    "y_predict_5yr"
   ]
  },
  {
   "cell_type": "code",
   "execution_count": null,
   "metadata": {},
   "outputs": [],
   "source": [
    "y_predict_10yr = train_and_Predict(X_train, y_train_10yr, X_test)\n",
    "y_predict_10yr"
   ]
  },
  {
   "cell_type": "markdown",
   "metadata": {},
   "source": [
    "# Evaluation"
   ]
  },
  {
   "cell_type": "code",
   "execution_count": null,
   "metadata": {},
   "outputs": [],
   "source": [
    "print(\"Results for 1 year prediction:\")\n",
    "print(\"R squared:\", r2_score(y_test_1yr, y_predict_1yr))\n",
    "print('Mean Absolute Error:', metrics.mean_absolute_error(y_test_1yr, y_predict_1yr))\n",
    "print('Mean Squared Error:', metrics.mean_squared_error(y_test_1yr, y_predict_1yr))\n",
    "print('Root Mean Squared Error:', np.sqrt(metrics.mean_squared_error(y_test_1yr, y_predict_1yr)))\n",
    "print('----------------------------------------')\n",
    "\n",
    "print(\"Results for 2 year prediction:\")\n",
    "print(\"R squared:\", r2_score(y_test_2yr, y_predict_2yr))\n",
    "print('Mean Absolute Error:', metrics.mean_absolute_error(y_test_2yr, y_predict_2yr))\n",
    "print('Mean Squared Error:', metrics.mean_squared_error(y_test_2yr, y_predict_2yr))\n",
    "print('Root Mean Squared Error:', np.sqrt(metrics.mean_squared_error(y_test_2yr, y_predict_2yr)))\n",
    "print('----------------------------------------')\n",
    "\n",
    "print(\"Results for 5 year prediction:\")\n",
    "print(\"R squared:\", r2_score(y_test_5yr, y_predict_5yr))\n",
    "print('Mean Absolute Error:', metrics.mean_absolute_error(y_test_5yr, y_predict_5yr))\n",
    "print('Mean Squared Error:', metrics.mean_squared_error(y_test_5yr, y_predict_5yr))\n",
    "print('Root Mean Squared Error:', np.sqrt(metrics.mean_squared_error(y_test_5yr, y_predict_5yr)))\n",
    "print('----------------------------------------')\n",
    "\n",
    "print(\"Results for 10 year prediction:\")\n",
    "print(\"R squared:\", r2_score(y_test_10yr, y_predict_10yr))\n",
    "print('Mean Absolute Error:', metrics.mean_absolute_error(y_test_10yr, y_predict_10yr))\n",
    "print('Mean Squared Error:', metrics.mean_squared_error(y_test_10yr, y_predict_10yr))\n",
    "print('Root Mean Squared Error:', np.sqrt(metrics.mean_squared_error(y_test_10yr, y_predict_10yr)))"
   ]
  },
  {
   "cell_type": "code",
   "execution_count": null,
   "metadata": {},
   "outputs": [],
   "source": [
    "def graph_hist(y_test, y_predict, bins, title):\n",
    "    plt.hist([y_test, y_predict],range=(0,bins), bins = bins, label=['test', 'predict'])\n",
    "    plt.legend(loc='upper right')\n",
    "    plt.title(title)\n",
    "    plt.show()"
   ]
  },
  {
   "cell_type": "code",
   "execution_count": null,
   "metadata": {},
   "outputs": [],
   "source": [
    "graph_hist(y_test_1yr, y_predict_1yr, 25, \"1 year prediction\")\n",
    "graph_hist(y_test_2yr, y_predict_2yr, 25, \"2 year prediction\")\n",
    "graph_hist(y_test_5yr, y_predict_5yr, 25, \"5 year prediction\")\n",
    "graph_hist(y_test_10yr, y_predict_10yr, 25, \"10 year prediction\")"
   ]
  },
  {
   "cell_type": "markdown",
   "metadata": {},
   "source": [
    "# Hyperparameter tuning"
   ]
  },
  {
   "cell_type": "code",
   "execution_count": null,
   "metadata": {
    "id": "oWHfGljaB4Bh"
   },
   "outputs": [],
   "source": [
    "#TUNING \n",
    "from sklearn.model_selection import GridSearchCV\n",
    "LR = {'max_depth': [1,2,3,4,5,6,7,8],'n_estimators': [5,25,50,100,150, 200,250,300],'learning_rate':[0.35,0.30,0.25,0.20,0.15, 0.10, 0.1,0.05]}\n",
    "\n",
    "tuning = GridSearchCV(estimator=HistGradientBoostingRegressor(), cv = 3, param_grid=LR, scoring = 'r2')\n",
    "\n",
    "tuning.fit(X_train,y_train_5yr)\n",
    "tuning.best_params_, tuning.best_score_\n",
    "#y_pred = tuning.predict(X_test)\n"
   ]
  }
 ],
 "metadata": {
  "colab": {
   "collapsed_sections": [],
   "name": "GradientBoostingModel.ipynb",
   "provenance": []
  },
  "kernelspec": {
   "display_name": "Python 3",
   "language": "python",
   "name": "python3"
  },
  "language_info": {
   "codemirror_mode": {
    "name": "ipython",
    "version": 3
   },
   "file_extension": ".py",
   "mimetype": "text/x-python",
   "name": "python",
   "nbconvert_exporter": "python",
   "pygments_lexer": "ipython3",
   "version": "3.8.3"
  }
 },
 "nbformat": 4,
 "nbformat_minor": 1
}
