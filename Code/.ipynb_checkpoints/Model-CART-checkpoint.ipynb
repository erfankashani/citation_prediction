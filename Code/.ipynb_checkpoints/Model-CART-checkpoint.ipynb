{
 "cells": [
  {
   "cell_type": "code",
   "execution_count": null,
   "metadata": {},
   "outputs": [],
   "source": [
    "import numpy as np \n",
    "import pandas as pd\n",
    "import matplotlib.pyplot as plt \n",
    "import seaborn as sns\n",
    "import math as m\n",
    "\n",
    "# Needed to classify the data (not regression)\n",
    "from sklearn.tree import DecisionTreeClassifier\n",
    "\n",
    "# Used to assign values in a column to a # \n",
    "from sklearn.preprocessing import LabelEncoder \n",
    "\n",
    "# Splits data into training and testing datasets \n",
    "from sklearn.model_selection import train_test_split\n",
    "\n",
    "# The metrics is used to calculate the accuracy of the model\n",
    "from sklearn import metrics"
   ]
  },
  {
   "cell_type": "code",
   "execution_count": null,
   "metadata": {},
   "outputs": [],
   "source": [
    "import warnings\n",
    "warnings.filterwarnings(\"ignore\")\n",
    "\n",
    "import logging\n",
    "logging.basicConfig(level=logging.INFO)\n",
    "transformers_logger = logging.getLogger(\"transformers\")\n",
    "transformers_logger.setLevel(logging.WARNING)"
   ]
  },
  {
   "cell_type": "code",
   "execution_count": null,
   "metadata": {},
   "outputs": [],
   "source": [
    "# Data for 2005 to 2010 \n",
    "dataset = pd.read_csv('../Data/features_2005-2010.csv')\n",
    "dataset.head()\n",
    "# Data for 2010\n",
    "id_2010 = pd.read_csv('../Data/papers2010.csv')"
   ]
  },
  {
   "cell_type": "markdown",
   "metadata": {},
   "source": [
    "### Applying train and test split "
   ]
  },
  {
   "cell_type": "code",
   "execution_count": null,
   "metadata": {},
   "outputs": [],
   "source": [
    "# Split data for train and test \n",
    "ids = id_2010['id'].tolist() \n",
    "train = dataset[dataset['id'].isin(ids) == False]\n",
    "test = dataset[dataset['id'].isin(ids)]\n",
    "train.head()"
   ]
  },
  {
   "cell_type": "code",
   "execution_count": null,
   "metadata": {},
   "outputs": [],
   "source": [
    "# Set values for train dataset columns \n",
    "train = pd.DataFrame(data=train.iloc[:,2:14].values, columns=[\"diversity\",\"venue_rank\",\"venue_MPI\",\"venue_TPI\",\"productivity\",\"H_index\",\"author_rank\",\"author_MPI\",\"author_TPI\",\"versatility\",\"n_citation\"])\n",
    "# Set ytrain and Xtrain\n",
    "y_train = train.iloc[:,-1]\n",
    "X_train = train.iloc[:,:-1]\n",
    "X_train.head()"
   ]
  },
  {
   "cell_type": "code",
   "execution_count": null,
   "metadata": {},
   "outputs": [],
   "source": [
    "# Set values for test dataset columns\n",
    "test = pd.DataFrame(data=test.iloc[:,2:14].values, columns=[\"diversity\",\"venue_rank\",\"venue_MPI\",\"venue_TPI\",\"productivity\",\"H_index\",\"author_rank\",\"author_MPI\",\"author_TPI\",\"versatility\",\"n_citation\"])\n",
    "# Set ytest and Xtest\n",
    "y_test = test.iloc[:,-1]\n",
    "X_test = test.iloc[:,:-1]\n",
    "X_test.head()"
   ]
  },
  {
   "cell_type": "markdown",
   "metadata": {},
   "source": [
    "### Create model by dividing the data into train and test (or feature and label)"
   ]
  },
  {
   "cell_type": "code",
   "execution_count": null,
   "metadata": {},
   "outputs": [],
   "source": [
    "# Creates the decision tree classifier object\n",
    "clf = DecisionTreeClassifier(criterion='gini', splitter='best', max_depth = 25, min_samples_split=4, min_samples_leaf=2, random_state = 0)\n",
    "\n",
    "# Train decision tree classifier\n",
    "clf = clf.fit(X_train,y_train)\n",
    "\n",
    "# Predicts response for test data\n",
    "y_pred = clf.predict(X_test)"
   ]
  },
  {
   "cell_type": "code",
   "execution_count": null,
   "metadata": {},
   "outputs": [],
   "source": [
    "# Model accuracy\n",
    "print(\"Accuracy: \", metrics.accuracy_score(y_test,y_pred))"
   ]
  },
  {
   "cell_type": "code",
   "execution_count": null,
   "metadata": {},
   "outputs": [],
   "source": []
  }
 ],
 "metadata": {
  "kernelspec": {
   "display_name": "Python 3",
   "language": "python",
   "name": "python3"
  },
  "language_info": {
   "codemirror_mode": {
    "name": "ipython",
    "version": 3
   },
   "file_extension": ".py",
   "mimetype": "text/x-python",
   "name": "python",
   "nbconvert_exporter": "python",
   "pygments_lexer": "ipython3",
   "version": "3.8.3"
  }
 },
 "nbformat": 4,
 "nbformat_minor": 4
}
