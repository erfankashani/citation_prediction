{
 "cells": [
  {
   "cell_type": "markdown",
   "metadata": {
    "id": "IeA3EGH5YOrm"
   },
   "source": [
    "# Feature Extraction (reference & citation) "
   ]
  },
  {
   "cell_type": "markdown",
   "metadata": {
    "id": "rdyFjeMtYOrr"
   },
   "source": [
    "#### Adding the libraries"
   ]
  },
  {
   "cell_type": "code",
   "execution_count": null,
   "metadata": {
    "colab": {
     "base_uri": "https://localhost:8080/"
    },
    "id": "5mN7b_7qYOrs",
    "outputId": "0edf02af-5c2e-4beb-a9a3-cc8cc99af257"
   },
   "outputs": [],
   "source": [
    "import pandas as pd\n",
    "import matplotlib as plt\n",
    "import ast\n",
    "import numpy as np \n",
    "#import seaborn as sns\n",
    "from statistics import mean\n",
    "import pickle\n",
    "import math"
   ]
  },
  {
   "cell_type": "markdown",
   "metadata": {
    "id": "P4VOW7i6YOrs"
   },
   "source": [
    "#### Adding the database"
   ]
  },
  {
   "cell_type": "code",
   "execution_count": null,
   "metadata": {
    "id": "bo8In1j4sNiC"
   },
   "outputs": [],
   "source": [
    "data_papers = pd.read_pickle('drive/My Drive/Capstone/Data/papers_all_ref.pkl')\n",
    "data_papers.head()"
   ]
  },
  {
   "cell_type": "code",
   "execution_count": null,
   "metadata": {
    "id": "-TmiQEG1Td_X"
   },
   "outputs": [],
   "source": [
    "data_papers = data_papers.dropna(subset=['references'])\n",
    "data_papers.head()"
   ]
  },
  {
   "cell_type": "code",
   "execution_count": null,
   "metadata": {
    "id": "Q-GBIXJbJs5c"
   },
   "outputs": [],
   "source": [
    "data_papers = data_papers.explode('references')"
   ]
  },
  {
   "cell_type": "code",
   "execution_count": null,
   "metadata": {
    "id": "tMZjPsqXK-Jh"
   },
   "outputs": [],
   "source": [
    "data_papers = data_papers.groupby('references').agg(list)"
   ]
  },
  {
   "cell_type": "code",
   "execution_count": null,
   "metadata": {
    "id": "owvFKuytNe2Y"
   },
   "outputs": [],
   "source": [
    "data_papers.reset_index(inplace=True)\n",
    "data_papers['references'] = data_papers['references'].astype(np.int64)"
   ]
  },
  {
   "cell_type": "code",
   "execution_count": null,
   "metadata": {
    "id": "YD3z-vukS48I"
   },
   "outputs": [],
   "source": [
    "data_papers = data_papers.drop(columns=['n_citation'])\n",
    "data_papers = data_papers.drop(columns=['authors','venue'])"
   ]
  },
  {
   "cell_type": "code",
   "execution_count": null,
   "metadata": {
    "id": "bIQSwjWoTAdx"
   },
   "outputs": [],
   "source": [
    "data_papers['citation'] = data_papers.id.apply(len)"
   ]
  },
  {
   "cell_type": "code",
   "execution_count": null,
   "metadata": {
    "id": "6BB1rfo8T4fR"
   },
   "outputs": [],
   "source": [
    "data_papers = data_papers.rename(columns={\"id\": \"referenced_by\", \"references\": \"id\", \"year\": \"referenced_year\"})"
   ]
  },
  {
   "cell_type": "code",
   "execution_count": null,
   "metadata": {
    "colab": {
     "base_uri": "https://localhost:8080/",
     "height": 430
    },
    "id": "Uptr5hCPdc3x",
    "outputId": "994ab5e4-a434-4f1f-87f9-a71f813d22e7"
   },
   "outputs": [],
   "source": [
    "data_papers['citation_diff'] = data_papers['n_citation'] - data_papers['citation']\n",
    "data_papers.info()\n",
    "data_papers.head()"
   ]
  },
  {
   "cell_type": "code",
   "execution_count": null,
   "metadata": {
    "id": "gNHl0lhEfCdA"
   },
   "outputs": [],
   "source": [
    "diffs = data_papers['citation_diff'].unique()\n",
    "diffs = list(diffs)\n",
    "diffs.sort()\n",
    "diffs"
   ]
  },
  {
   "cell_type": "code",
   "execution_count": null,
   "metadata": {
    "id": "tSFhrg8ERwgt"
   },
   "outputs": [],
   "source": [
    "data_papers = data_papers.drop(columns=['citation_1yr','citation_2yr','citation_3yr','citation_4yr','citation_5yr','citation_7yr','citation_10yr','citation_a10yr'])"
   ]
  },
  {
   "cell_type": "code",
   "execution_count": null,
   "metadata": {
    "colab": {
     "base_uri": "https://localhost:8080/",
     "height": 582
    },
    "id": "6NJRuAZVevmx",
    "outputId": "7af102a5-7b1d-4f39-b866-7dba802f8c40"
   },
   "outputs": [],
   "source": [
    "data_papers['citation_1yr'] = data_papers.apply(lambda x: [x.year, x.referenced_year], axis=1)\n",
    "data_papers['citation_2yr'] = data_papers['citation_1yr'].copy()\n",
    "data_papers['citation_3yr'] = data_papers['citation_1yr'].copy()\n",
    "data_papers['citation_4yr'] = data_papers['citation_1yr'].copy()\n",
    "data_papers['citation_5yr'] = data_papers['citation_1yr'].copy()\n",
    "data_papers['citation_7yr'] = data_papers['citation_1yr'].copy()\n",
    "data_papers['citation_10yr'] = data_papers['citation_1yr'].copy()\n",
    "data_papers.info()\n",
    "data_papers.head()"
   ]
  },
  {
   "cell_type": "code",
   "execution_count": null,
   "metadata": {
    "colab": {
     "base_uri": "https://localhost:8080/",
     "height": 1000
    },
    "id": "oB3P2HtLnVp4",
    "outputId": "97ea9627-7fe9-44e9-d1b4-9d4458b3ee3f"
   },
   "outputs": [],
   "source": [
    "data_papers['citation_1yr'] = data_papers.citation_1yr.apply(lambda x: [i for i in x[1] if i <= (x[0] + 1)])\n",
    "data_papers['citation_2yr'] = data_papers.citation_2yr.apply(lambda x: [i for i in x[1] if i <= (x[0] + 2)])\n",
    "data_papers['citation_3yr'] = data_papers.citation_3yr.apply(lambda x: [i for i in x[1] if i <= (x[0] + 3)])\n",
    "data_papers['citation_4yr'] = data_papers.citation_4yr.apply(lambda x: [i for i in x[1] if i <= (x[0] + 4)])\n",
    "data_papers['citation_5yr'] = data_papers.citation_5yr.apply(lambda x: [i for i in x[1] if i <= (x[0] + 5)])\n",
    "data_papers['citation_7yr'] = data_papers.citation_7yr.apply(lambda x: [i for i in x[1] if i <= (x[0] + 7)])\n",
    "data_papers['citation_10yr'] = data_papers.citation_10yr.apply(lambda x: [i for i in x[1] if i <= (x[0] + 10)])\n",
    "data_papers.info()\n",
    "data_papers.head(30)"
   ]
  },
  {
   "cell_type": "code",
   "execution_count": null,
   "metadata": {
    "colab": {
     "base_uri": "https://localhost:8080/",
     "height": 1000
    },
    "id": "B4Zyp0YIoT1X",
    "outputId": "c3d33258-a0d6-4f43-f32c-5e3e791902a7"
   },
   "outputs": [],
   "source": [
    "data_papers['citation_1yr'] = data_papers.citation_1yr.apply(len)\n",
    "data_papers['citation_2yr'] = data_papers.citation_2yr.apply(len)\n",
    "data_papers['citation_3yr'] = data_papers.citation_3yr.apply(len)\n",
    "data_papers['citation_4yr'] = data_papers.citation_4yr.apply(len)\n",
    "data_papers['citation_5yr'] = data_papers.citation_5yr.apply(len)\n",
    "data_papers['citation_7yr'] = data_papers.citation_7yr.apply(len)\n",
    "data_papers['citation_10yr'] = data_papers.citation_10yr.apply(len)\n",
    "data_papers.info()\n",
    "data_papers.head(30)"
   ]
  },
  {
   "cell_type": "code",
   "execution_count": null,
   "metadata": {},
   "outputs": [],
   "source": [
    "papers_df = pd.read_pickle('drive/My Drive/Capstone/Data/features_2005_2010_new.pkl')\n",
    "papers_df.head()"
   ]
  },
  {
   "cell_type": "code",
   "execution_count": null,
   "metadata": {},
   "outputs": [],
   "source": [
    "papers_df = papers_df.merge(data_papers, on = 'id', how = 'left')\n",
    "papers_df = papers_df.fillna(0)\n",
    "papers_df.info()\n",
    "papers_df.head(30)"
   ]
  },
  {
   "cell_type": "code",
   "execution_count": null,
   "metadata": {
    "id": "S49ewKjJEpyO"
   },
   "outputs": [],
   "source": [
    "path = 'drive/My Drive/Capstone/Data/papers_0_2010_clean_ref.'\n",
    "data_papers.to_pickle(path + 'pkl')"
   ]
  },
  {
   "cell_type": "code",
   "execution_count": null,
   "metadata": {
    "id": "gSsjOcXoYOr5"
   },
   "outputs": [],
   "source": [
    "path = 'drive/My Drive/Capstone/Data/features_2005_2010_yearly_citation.'\n",
    "papers_df.to_pickle(path + 'pkl')"
   ]
  }
 ],
 "metadata": {
  "colab": {
   "collapsed_sections": [],
   "machine_shape": "hm",
   "name": "2.2.1-Feature-Extraction.ipynb",
   "provenance": []
  },
  "kernelspec": {
   "display_name": "Python 3",
   "language": "python",
   "name": "python3"
  },
  "language_info": {
   "codemirror_mode": {
    "name": "ipython",
    "version": 3
   },
   "file_extension": ".py",
   "mimetype": "text/x-python",
   "name": "python",
   "nbconvert_exporter": "python",
   "pygments_lexer": "ipython3",
   "version": "3.8.8"
  }
 },
 "nbformat": 4,
 "nbformat_minor": 1
}
