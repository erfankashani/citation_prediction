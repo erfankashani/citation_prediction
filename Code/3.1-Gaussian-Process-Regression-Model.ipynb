{
 "cells": [
  {
   "cell_type": "markdown",
   "id": "republican-exchange",
   "metadata": {},
   "source": [
    "## Gaussian Process Regression Model"
   ]
  },
  {
   "cell_type": "markdown",
   "id": "eight-chicago",
   "metadata": {},
   "source": [
    "#### Adding the libraries"
   ]
  },
  {
   "cell_type": "code",
   "execution_count": 2,
   "id": "powerful-eclipse",
   "metadata": {},
   "outputs": [],
   "source": [
    "import pandas as pd\n",
    "import matplotlib as plt\n",
    "import ast\n",
    "import numpy as np\n",
    "import seaborn as sns\n",
    "from statistics import mean"
   ]
  },
  {
   "cell_type": "markdown",
   "id": "mediterranean-sherman",
   "metadata": {},
   "source": [
    "#### Add the dataset"
   ]
  },
  {
   "cell_type": "code",
   "execution_count": 3,
   "id": "following-count",
   "metadata": {},
   "outputs": [
    {
     "name": "stdout",
     "output_type": "stream",
     "text": [
      "<class 'pandas.core.frame.DataFrame'>\n",
      "Int64Index: 80237 entries, 0 to 80236\n",
      "Data columns (total 12 columns):\n",
      " #   Column        Non-Null Count  Dtype  \n",
      "---  ------        --------------  -----  \n",
      " 0   id            80237 non-null  int64  \n",
      " 1   diversity     80237 non-null  float64\n",
      " 2   venue_rank    80237 non-null  float64\n",
      " 3   venue_MPI     80237 non-null  int64  \n",
      " 4   venue_TPI     80237 non-null  int64  \n",
      " 5   productivity  80237 non-null  float64\n",
      " 6   H_index       80237 non-null  float64\n",
      " 7   author_rank   80237 non-null  float64\n",
      " 8   author_MPI    80237 non-null  float64\n",
      " 9   author_TPI    80237 non-null  float64\n",
      " 10  versatility   80237 non-null  float64\n",
      " 11  n_citation    80237 non-null  int64  \n",
      "dtypes: float64(8), int64(4)\n",
      "memory usage: 8.0 MB\n"
     ]
    }
   ],
   "source": [
    "dataset = pd.read_pickle('../Data/features_2001.pkl')\n",
    "dataset.head()\n",
    "dataset.info()"
   ]
  },
  {
   "cell_type": "markdown",
   "id": "binding-alert",
   "metadata": {},
   "source": [
    "#### The model "
   ]
  },
  {
   "cell_type": "code",
   "execution_count": 4,
   "id": "standing-capitol",
   "metadata": {},
   "outputs": [],
   "source": [
    "#Import all gaussian Processes libraries \n",
    "import sklearn.gaussian_process as gp\n",
    "from sklearn.datasets import make_classification\n",
    "from sklearn.model_selection import GridSearchCV\n",
    "from sklearn.model_selection import RepeatedStratifiedKFold\n",
    "from sklearn.gaussian_process import GaussianProcessClassifier\n",
    "from sklearn.gaussian_process.kernels import RBF\n",
    "from sklearn.gaussian_process.kernels import DotProduct\n",
    "from sklearn.gaussian_process.kernels import Matern\n",
    "from sklearn.gaussian_process.kernels import RationalQuadratic\n",
    "from sklearn.gaussian_process.kernels import WhiteKernel\n",
    "from sklearn.model_selection import train_test_split\n"
   ]
  },
  {
   "cell_type": "code",
   "execution_count": 17,
   "id": "severe-farmer",
   "metadata": {},
   "outputs": [],
   "source": [
    "# define dataset: creates clusters/ list of lists that contain all feature values except n-citatons\n",
    "X = dataset.iloc[1:15000, 1:11].values \n",
    "# the result(n_citation), list of n-citations, assuming n-citations is in 13th column\n",
    "y = dataset.iloc[1:15000, 11].values"
   ]
  },
  {
   "cell_type": "code",
   "execution_count": 18,
   "id": "married-terrorist",
   "metadata": {},
   "outputs": [],
   "source": [
    "#Split into observtions(X) and results(y) into 80/20 training/test split\n",
    "X_train, X_test, y_train, y_test = train_test_split(X,y , test_size = 0.20, random_state = 0)\n"
   ]
  },
  {
   "cell_type": "code",
   "execution_count": 19,
   "id": "communist-annual",
   "metadata": {},
   "outputs": [],
   "source": [
    "#Create gaussian model kernel with the mean(constant at 1) and RBF with lenghscale = 10.0 with lenghscale bounds of (0.001, 1000.0)\n",
    "\n",
    "##Different covariance kernels being setup with thier respective parameters, Can be selected one at a time\n",
    "\n",
    "#kernel = gp.kernels.ConstantKernel(1.0, (1e-1, 1e3)) * gp.kernels.RBF(10.0, (1e-3, 1e3))\n",
    "\n",
    "#When nu = 0.5 , the Matérn kernel becomes identical to the absolute exponential kernel\n",
    "#kernel = gp.kernels.ConstantKernel(1.0, (1e-1, 1e3)) * gp.kernels.Matern(1.0, (1e-3, 1e3), nu = 0.5)\n",
    "\n",
    "#When nu = 1.5 then the exponential function becomes once differentiable \n",
    "kernel = gp.kernels.ConstantKernel(1.0, (1e-1, 1e3)) * gp.kernels.Matern(1.0, (1e-3, 1e3), nu = 1.5)\n",
    "\n"
   ]
  },
  {
   "cell_type": "code",
   "execution_count": 20,
   "id": "phantom-upper",
   "metadata": {},
   "outputs": [
    {
     "data": {
      "text/plain": [
       "GaussianProcessRegressor(alpha=0.1,\n",
       "                         kernel=1**2 * Matern(length_scale=1, nu=1.5),\n",
       "                         n_restarts_optimizer=10)"
      ]
     },
     "execution_count": 20,
     "metadata": {},
     "output_type": "execute_result"
    }
   ],
   "source": [
    "#When nu = 2.5 then the exponential function becomes twice differentiable \n",
    "#kernel = gp.kernels.ConstantKernel(1.0, (1e-1, 1e3)) * gp.kernels.Matern(1.0, (1e-3, 1e3), nu = 2.5)\n",
    "\n",
    "#kernel = gp.kernels.ConstantKernel(1.0, (1e-1, 1e3)) * gp.kernels.RationalQuadratic(length_scale=1.0, alpha=1.0, length_scale_bounds=(1e-05, 100000.0), alpha_bounds=(1e-05, 100000.0))\n",
    "\n",
    "# Where Alpha is variance of independently, identically distributed Gaussian noise form labels(y)\n",
    "#Where normalize_y refers to constant mean function:either zero if False or the training data mean if True\n",
    "#Where n_restarts_optimizer is multiple restarts of the optimizer with different initializations is used if log log marginal likelihood may not be convex\n",
    "model = gp.GaussianProcessRegressor(kernel=kernel, n_restarts_optimizer=10, alpha=0.1, normalize_y=False)\n",
    "\n",
    "model.fit(X_train, y_train)\n",
    "#get hyper parameters of kernel \n",
    "\n",
    "\n"
   ]
  },
  {
   "cell_type": "code",
   "execution_count": 15,
   "id": "reflected-saturday",
   "metadata": {},
   "outputs": [
    {
     "name": "stdout",
     "output_type": "stream",
     "text": [
      "2699.848790166394\n"
     ]
    }
   ],
   "source": [
    "y_predict, std = model.predict(X_test, return_std=True)\n",
    "\n",
    "params = model.kernel_.get_params()\n",
    "params\n",
    "#y_predict\n",
    "#std\n",
    "#MSE\n",
    "MSE = ((y_predict-y_test)**2).mean()\n",
    "#MSE\n",
    "print(MSE)"
   ]
  },
  {
   "cell_type": "code",
   "execution_count": 16,
   "id": "sustainable-emperor",
   "metadata": {},
   "outputs": [
    {
     "name": "stdout",
     "output_type": "stream",
     "text": [
      "0.06164771866634619\n"
     ]
    }
   ],
   "source": [
    "correlation_matrix = np.corrcoef(y_predict, y_test)\n",
    "correlation_xy = correlation_matrix[0,1]\n",
    "r_squared = correlation_xy**2\n",
    "\n",
    "print(r_squared)"
   ]
  },
  {
   "cell_type": "code",
   "execution_count": null,
   "id": "solved-johnston",
   "metadata": {},
   "outputs": [],
   "source": []
  }
 ],
 "metadata": {
  "kernelspec": {
   "display_name": "Python 3",
   "language": "python",
   "name": "python3"
  },
  "language_info": {
   "codemirror_mode": {
    "name": "ipython",
    "version": 3
   },
   "file_extension": ".py",
   "mimetype": "text/x-python",
   "name": "python",
   "nbconvert_exporter": "python",
   "pygments_lexer": "ipython3",
   "version": "3.8.3"
  }
 },
 "nbformat": 4,
 "nbformat_minor": 5
}
