{
 "cells": [
  {
   "cell_type": "code",
   "execution_count": null,
   "metadata": {},
   "outputs": [],
   "source": [
    "import numpy as np \n",
    "import pandas as pd\n",
    "import matplotlib.pyplot as plt \n",
    "import seaborn as sns\n",
    "import math as m\n",
    "import pickle\n",
    "\n",
    "# Needed to classify the data (not regression)\n",
    "from sklearn.tree import DecisionTreeClassifier\n",
    "\n",
    "# Used to assign values in a column to a # \n",
    "from sklearn.preprocessing import LabelEncoder \n",
    "\n",
    "# Splits data into training and testing datasets \n",
    "from sklearn.model_selection import train_test_split\n",
    "\n",
    "# The metrics is used to calculate the accuracy of the model\n",
    "from sklearn import metrics"
   ]
  },
  {
   "cell_type": "code",
   "execution_count": null,
   "metadata": {},
   "outputs": [],
   "source": [
    "import warnings\n",
    "warnings.filterwarnings(\"ignore\")\n",
    "\n",
    "import logging\n",
    "logging.basicConfig(level=logging.INFO)\n",
    "transformers_logger = logging.getLogger(\"transformers\")\n",
    "transformers_logger.setLevel(logging.WARNING)"
   ]
  },
  {
   "cell_type": "code",
   "execution_count": null,
   "metadata": {},
   "outputs": [],
   "source": [
    "# Data for 2005 to 2010 \n",
    "dataset = pd.read_csv('../Data/features_2005_2010_new.csv')\n",
    "\n",
    "# Data for 2010\n",
    "id_2010 = pd.read_csv('../Data/papers2010.csv')\n",
    "dataset.head()"
   ]
  },
  {
   "cell_type": "markdown",
   "metadata": {},
   "source": [
    "### Applying train and test split "
   ]
  },
  {
   "cell_type": "code",
   "execution_count": null,
   "metadata": {},
   "outputs": [],
   "source": [
    "# Split data for train and test \n",
    "ids = id_2010['id'].tolist() \n",
    "train = dataset[dataset['id'].isin(ids) == False]\n",
    "test = dataset[dataset['id'].isin(ids)]\n",
    "train.info()"
   ]
  },
  {
   "cell_type": "code",
   "execution_count": null,
   "metadata": {
    "scrolled": true
   },
   "outputs": [],
   "source": [
    "# Set values for train dataset columns \n",
    "# train = pd.DataFrame(data=train.iloc[:,2:14].values, columns=[\"diversity\",\"venue_rank\",\"venue_MPI\",\"venue_TPI\",\"productivity\",\"H_index\",\"author_rank\",\"author_MPI\",\"author_TPI\",\"versatility\",\"n_citation\"])\n",
    "# Set ytrain and Xtrain\n",
    "y_train_1yr = train.iloc[:,12]\n",
    "y_train_2yr = train.iloc[:,13]\n",
    "y_train_5yr = train.iloc[:,14]\n",
    "y_train_10yr = train.iloc[:,15]\n",
    "\n",
    "X_train = train.iloc[:,2:12]\n",
    "X_train.head()"
   ]
  },
  {
   "cell_type": "code",
   "execution_count": null,
   "metadata": {},
   "outputs": [],
   "source": [
    "y_train_2yr.head()"
   ]
  },
  {
   "cell_type": "code",
   "execution_count": null,
   "metadata": {},
   "outputs": [],
   "source": [
    "# Set values for test dataset columns\n",
    "# Set ytest and Xtest\n",
    "y_test_1yr = test.iloc[:,12]\n",
    "y_test_2yr = test.iloc[:,13]\n",
    "y_test_5yr = test.iloc[:,14]\n",
    "y_test_10yr = test.iloc[:,15]\n",
    "\n",
    "X_test = test.iloc[:,2:12]\n",
    "X_test.head()"
   ]
  },
  {
   "cell_type": "code",
   "execution_count": null,
   "metadata": {},
   "outputs": [],
   "source": [
    "y_test_2yr.head()"
   ]
  },
  {
   "cell_type": "markdown",
   "metadata": {},
   "source": [
    "# Model training"
   ]
  },
  {
   "cell_type": "code",
   "execution_count": null,
   "metadata": {},
   "outputs": [],
   "source": [
    "def model_train_and_predict(X_train, y_train, X_test):\n",
    "    # Creates the decision tree classifier object\n",
    "    clf = DecisionTreeClassifier(criterion='gini', splitter='best', max_depth = 25, min_samples_split=4, min_samples_leaf=2, random_state = 0)\n",
    "\n",
    "    # Train decision tree classifier\n",
    "    clf = clf.fit(X_train,y_train)\n",
    "\n",
    "    # Predicts response for test data\n",
    "    y_pred = clf.predict(X_test)\n",
    "    return(y_pred)"
   ]
  },
  {
   "cell_type": "code",
   "execution_count": null,
   "metadata": {},
   "outputs": [],
   "source": [
    "y_prediction_1yr = model_train_and_predict(X_train, y_train_1yr, X_test)"
   ]
  },
  {
   "cell_type": "code",
   "execution_count": null,
   "metadata": {},
   "outputs": [],
   "source": [
    "y_prediction_2yr = model_train_and_predict(X_train, y_train_2yr, X_test)"
   ]
  },
  {
   "cell_type": "code",
   "execution_count": null,
   "metadata": {},
   "outputs": [],
   "source": [
    "y_prediction_5yr = model_train_and_predict(X_train, y_train_5yr, X_test)"
   ]
  },
  {
   "cell_type": "code",
   "execution_count": null,
   "metadata": {},
   "outputs": [],
   "source": [
    "y_prediction_10yr = model_train_and_predict(X_train, y_train_10yr, X_test)"
   ]
  },
  {
   "cell_type": "markdown",
   "metadata": {},
   "source": [
    "# Evaluation"
   ]
  },
  {
   "cell_type": "code",
   "execution_count": null,
   "metadata": {},
   "outputs": [],
   "source": [
    "from sklearn import metrics\n",
    "from sklearn.metrics import r2_score\n",
    "\n",
    "print(\"Results for 1 year prediction:\")\n",
    "print(\"Accuracy: \", metrics.accuracy_score(y_test_1yr,y_prediction_1yr))\n",
    "print(\"R squared:\", r2_score(y_test_1yr, y_prediction_1yr))\n",
    "print('Mean Absolute Error:', metrics.mean_absolute_error(y_test_1yr, y_prediction_1yr))\n",
    "print('Mean Squared Error:', metrics.mean_squared_error(y_test_1yr, y_prediction_1yr))\n",
    "print('Root Mean Squared Error:', np.sqrt(metrics.mean_squared_error(y_test_1yr, y_prediction_1yr)))\n",
    "print('----------------------------------------')\n",
    "\n",
    "print(\"Results for 2 year prediction:\")\n",
    "print(\"Accuracy: \", metrics.accuracy_score(y_test_2yr,y_prediction_2yr))\n",
    "print(\"R squared:\", r2_score(y_test_2yr, y_prediction_2yr))\n",
    "print('Mean Absolute Error:', metrics.mean_absolute_error(y_test_2yr, y_prediction_2yr))\n",
    "print('Mean Squared Error:', metrics.mean_squared_error(y_test_2yr, y_prediction_2yr))\n",
    "print('Root Mean Squared Error:', np.sqrt(metrics.mean_squared_error(y_test_2yr, y_prediction_2yr)))\n",
    "print('----------------------------------------')\n",
    "\n",
    "print(\"Results for 5 year prediction:\")\n",
    "print(\"Accuracy: \", metrics.accuracy_score(y_test_5yr,y_prediction_5yr))\n",
    "print(\"R squared:\", r2_score(y_test_5yr, y_prediction_5yr))\n",
    "print('Mean Absolute Error:', metrics.mean_absolute_error(y_test_5yr, y_prediction_5yr))\n",
    "print('Mean Squared Error:', metrics.mean_squared_error(y_test_5yr, y_prediction_5yr))\n",
    "print('Root Mean Squared Error:', np.sqrt(metrics.mean_squared_error(y_test_5yr, y_prediction_5yr)))\n",
    "print('----------------------------------------')\n",
    "\n",
    "print(\"Results for 10 year prediction:\")\n",
    "print(\"Accuracy: \", metrics.accuracy_score(y_test_10yr,y_prediction_10yr))\n",
    "print(\"R squared:\", r2_score(y_test_10yr, y_prediction_10yr))\n",
    "print('Mean Absolute Error:', metrics.mean_absolute_error(y_test_10yr, y_prediction_10yr))\n",
    "print('Mean Squared Error:', metrics.mean_squared_error(y_test_10yr, y_prediction_10yr))\n",
    "print('Root Mean Squared Error:', np.sqrt(metrics.mean_squared_error(y_test_10yr, y_prediction_10yr)))"
   ]
  },
  {
   "cell_type": "code",
   "execution_count": null,
   "metadata": {},
   "outputs": [],
   "source": [
    "def graph_hist(y_test_2yr, y_predict, bins, title):\n",
    "    plt.hist([y_test_2yr, y_predict],range=(0,bins), bins = bins, label=['test', 'predict'])\n",
    "    plt.legend(loc='upper right')\n",
    "    plt.title(title)\n",
    "    plt.show()"
   ]
  },
  {
   "cell_type": "code",
   "execution_count": null,
   "metadata": {},
   "outputs": [],
   "source": [
    "graph_hist(y_test_1yr, y_prediction_1yr, 25, \"1 year prediction\")\n",
    "graph_hist(y_test_2yr, y_prediction_2yr, 25, \"2 year prediction\")\n",
    "graph_hist(y_test_5yr, y_prediction_5yr, 25, \"5 year prediction\")\n",
    "graph_hist(y_test_10yr, y_prediction_10yr, 25, \"10 year prediction\")"
   ]
  }
 ],
 "metadata": {
  "kernelspec": {
   "display_name": "Python 3",
   "language": "python",
   "name": "python3"
  },
  "language_info": {
   "codemirror_mode": {
    "name": "ipython",
    "version": 3
   },
   "file_extension": ".py",
   "mimetype": "text/x-python",
   "name": "python",
   "nbconvert_exporter": "python",
   "pygments_lexer": "ipython3",
   "version": "3.8.3"
  }
 },
 "nbformat": 4,
 "nbformat_minor": 4
}
